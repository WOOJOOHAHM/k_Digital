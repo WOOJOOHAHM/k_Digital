{
 "cells": [
  {
   "cell_type": "code",
   "execution_count": 18,
   "id": "942d0389",
   "metadata": {},
   "outputs": [],
   "source": [
    "import numpy as np # linear algebra\n",
    "import pandas as pd # data processing and file IO\n",
    "import matplotlib.pyplot as plt # visualize images\n",
    "from scipy.stats import mode\n",
    "from keras.models import Model\n",
    "from keras.layers import Input, Conv2D, MaxPooling2D\n",
    "from keras import optimizers\n",
    "\n",
    "# evaluate label propagation on the semi-supervised learning dataset from numpy import concatenate\n",
    "\n",
    "import seaborn as sns\n",
    "from tensorflow.python.client import device_lib \n",
    "import tensorflow as tf\n",
    "from tensorflow.keras import layers,models\n",
    "\n",
    "from sklearn.model_selection import train_test_split\n",
    "from keras.layers import concatenate\n",
    "\n",
    "from sklearn.metrics import precision_score, recall_score, f1_score, confusion_matrix, plot_confusion_matrix"
   ]
  },
  {
   "cell_type": "markdown",
   "id": "2a26b0fb",
   "metadata": {},
   "source": [
    "### Train Data 함수"
   ]
  },
  {
   "cell_type": "code",
   "execution_count": 2,
   "id": "eed0da91",
   "metadata": {},
   "outputs": [],
   "source": [
    "# Not included in the problem slides.\n",
    "def Data_visualization(Y):\n",
    "    ratios = np.sum(Y, axis=0) / Y.shape[0]\n",
    "    labels = ['Barren Land', 'Trees', 'Grassland', 'Other']\n",
    "    \n",
    "    for l, v in zip(labels, ratios * 100):\n",
    "        print('{}: {:.1f}%'.format(l, v))\n",
    "        \n",
    "    cmap = plt.get_cmap('Pastel1')\n",
    "    colors = [cmap(i) for i in np.linspace(0, 1, 8)]\n",
    "    \n",
    "    plt.pie(ratios, labels = labels, autopct='%.1f%%', shadow=True, colors=colors)\n",
    "    plt.show()\n",
    "    return ratios"
   ]
  },
  {
   "cell_type": "markdown",
   "id": "335b9621",
   "metadata": {},
   "source": [
    "### 평가 histogram 함수"
   ]
  },
  {
   "cell_type": "code",
   "execution_count": 3,
   "id": "ea832b57",
   "metadata": {},
   "outputs": [],
   "source": [
    "def visulization_by_epochs(y_vaccuracy, y_accuracy):\n",
    "    print(y_vaccuracy.index(max(y_vaccuracy)) + 1, ' ',max(y_vaccuracy)) \n",
    "\n",
    "    x_len = np.arange(len(y_accuracy))\n",
    "\n",
    "    plt.plot(x_len, y_vaccuracy, marker='.', c='red', label=\"Validation-set Los\")\n",
    "    plt.plot(x_len, y_accuracy, marker='.', c='blue', label=\"Train-set Loss\")\n",
    "\n",
    "    plt.legend(loc='upper right') \n",
    "    plt.grid() \n",
    "    plt.xlabel('epoch') \n",
    "    plt.ylabel('accuracy') \n",
    "    plt.show()"
   ]
  },
  {
   "cell_type": "markdown",
   "id": "4a973636",
   "metadata": {},
   "source": [
    "### Confusion Matirx 그리는 함수"
   ]
  },
  {
   "cell_type": "code",
   "execution_count": 4,
   "id": "d907e6a9",
   "metadata": {},
   "outputs": [],
   "source": [
    "#confusion matrix를 확인하고 싶었지만, 해당 값이 분류모델로 되어있는 것이 아닌 상대적 확률로써 존재\n",
    "def draw_confusionmatrix(y_predict, y_test):\n",
    "    new_y_predict = []\n",
    "\n",
    "    for y in y_predict:\n",
    "        best_y = np.where(y == max(y))\n",
    "        new_array = np.array([0, 0, 0, 0])\n",
    "        new_array[best_y] = 1\n",
    "        new_y_predict.append(new_array)\n",
    "\n",
    "    new_y_predict = np.array(new_y_predict)\n",
    "\n",
    "\n",
    "    cf = confusion_matrix(new_y_predict.argmax(axis = 1), y_test.argmax(axis = 1))\n",
    "    f = sns.heatmap(cf, annot=True, fmt='d')"
   ]
  },
  {
   "cell_type": "markdown",
   "id": "52d85002",
   "metadata": {},
   "source": [
    "### 기초통계값 출력 함수"
   ]
  },
  {
   "cell_type": "code",
   "execution_count": 5,
   "id": "a2588e3b",
   "metadata": {},
   "outputs": [],
   "source": [
    "def print_stat(y_res_add):\n",
    "    res_y_max = []\n",
    "\n",
    "    for y in y_res_add:\n",
    "        res_y_max.append(float(max(y)))\n",
    "\n",
    "    print('최빈값: ', mode(res_y_max))\n",
    "    print('평균: ', np.median(res_y_max))\n",
    "    print('분산: ', np.var(res_y_max))\n",
    "    print('표준편차: ', np.std(res_y_max))\n",
    "    print('사분위1: ', np.quantile(res_y_max, 0.25))\n",
    "    print('사분위2(중앙값): ', np.quantile(res_y_max, 0.5))\n",
    "    print('사분위3: ', np.quantile(res_y_max, 0.75))\n",
    "\n",
    "    hist, edges = np.histogram(res_y_max, 100)\n",
    "    sns.distplot(res_y_max, bins = 10, kde = False)\n",
    "\n",
    "    count_under = 0\n",
    "    count_upper = 0\n",
    "    for y in res_y_max:\n",
    "        if y < 0.9:\n",
    "            count_under += 1\n",
    "        else:\n",
    "            count_upper += 1\n",
    "\n",
    "    print('0.9 이하 개수: ', count_under)\n",
    "    print('0.9 이상 개수: ', count_upper)\n"
   ]
  },
  {
   "cell_type": "code",
   "execution_count": 6,
   "id": "2451f87c",
   "metadata": {},
   "outputs": [],
   "source": [
    "class MyCallBack(tf.keras.callbacks.Callback):\n",
    "    def on_epoch_end(self, epoch, logs={}):\n",
    "        if(logs.get('accuracy') >= 0.95):\n",
    "            print(\"\\n====Reached 95% accuracy, stop training====\")\n",
    "            self.stop_training = True\n",
    "            \n",
    "callbacks = MyCallBack()"
   ]
  },
  {
   "cell_type": "markdown",
   "id": "8da0ed82",
   "metadata": {},
   "source": [
    "### Data 불러오기"
   ]
  },
  {
   "cell_type": "code",
   "execution_count": 7,
   "id": "11687510",
   "metadata": {},
   "outputs": [
    {
     "name": "stdout",
     "output_type": "stream",
     "text": [
      "(2000, 28, 28, 4)\n",
      "Train_img\n",
      "(2000, 4)\n",
      "ADD_img\n",
      "(10000, 28, 28, 4)\n",
      "Test_img\n",
      "(10000, 28, 28, 4)\n",
      "(10000, 4)\n"
     ]
    }
   ],
   "source": [
    "#Train Data 불러오기\n",
    "X_train_path = 'data/X_train.csv' \n",
    "Y_train_path = 'data/y_train.csv'\n",
    "\n",
    "X_train_df = pd.read_csv(X_train_path, header=None)\n",
    "Y_train_df = pd.read_csv(Y_train_path, header=None)\n",
    "\n",
    "X_train = X_train_df.values / 255\n",
    "Y_train = Y_train_df.values\n",
    "\n",
    "n_images = X_train.shape[0]\n",
    "shape = [n_images, 28, 28, 4]\n",
    "X_train_img = X_train.reshape(shape) \n",
    "print(X_train_img.shape) \n",
    "print('Train_img') \n",
    "print(Y_train.shape)\n",
    "\n",
    "\n",
    "#ADD Data 불러오기\n",
    "X_add_path = 'data/X_add.csv' \n",
    "X_add_df = pd.read_csv(X_add_path, header=None) \n",
    "\n",
    "X_add = X_add_df.values / 255\n",
    "n_add_images = X_add.shape[0]\n",
    "add_shape = [n_add_images, 28, 28, 4]\n",
    "X_add_img = X_add.reshape(add_shape)\n",
    "print('ADD_img')\n",
    "print(X_add_img.shape)\n",
    "\n",
    "#Test Data 불러오기\n",
    "X_test_path = 'data/X_test.csv' \n",
    "Y_test_path = 'data/y_test.csv'\n",
    "\n",
    "X_test_df = pd.read_csv(X_test_path, header=None)\n",
    "Y_test_df = pd.read_csv(Y_test_path, header=None)\n",
    "\n",
    "X_test = X_test_df.values / 255 \n",
    "Y_test = Y_test_df.values \n",
    "\n",
    "n_test_images = X_test.shape[0]\n",
    "test_shape = [n_test_images, 28, 28, 4] \n",
    "print('Test_img')\n",
    "X_test_img = X_test.reshape(test_shape)\n",
    "print(X_test_img.shape)\n",
    "print(Y_test.shape)"
   ]
  },
  {
   "cell_type": "markdown",
   "id": "91e50035",
   "metadata": {},
   "source": [
    "### Train Data 시각화"
   ]
  },
  {
   "cell_type": "code",
   "execution_count": 8,
   "id": "d1ac7f53",
   "metadata": {},
   "outputs": [
    {
     "name": "stdout",
     "output_type": "stream",
     "text": [
      "X_train_img:  2000\n",
      "Y_train:  2000\n",
      "Barren Land: 12.5%\n",
      "Trees: 12.5%\n",
      "Grassland: 25.0%\n",
      "Other: 50.0%\n"
     ]
    },
    {
     "data": {
      "image/png": "[encoded data removed]",
      "text/plain": [
       "<Figure size 432x288 with 1 Axes>"
      ]
     },
     "metadata": {},
     "output_type": "display_data"
    },
    {
     "data": {
      "text/plain": [
       "array([0.125, 0.125, 0.25 , 0.5  ])"
      ]
     },
     "execution_count": 8,
     "metadata": {},
     "output_type": "execute_result"
    }
   ],
   "source": [
    "print('X_train_img: ', len(X_train_img))\n",
    "print('Y_train: ', len(Y_train))\n",
    "Data_visualization(Y_train)"
   ]
  },
  {
   "cell_type": "markdown",
   "id": "9f1beaa6",
   "metadata": {},
   "source": [
    "### Train Data의 양이 너무 부족, Augmentation이 요구됨"
   ]
  },
  {
   "cell_type": "code",
   "execution_count": 9,
   "id": "3888242d",
   "metadata": {},
   "outputs": [],
   "source": [
    "from keras.preprocessing.image import ImageDataGenerator\n",
    "datagen2 = ImageDataGenerator(\n",
    "    rotation_range=15, #15도 회전\n",
    "    horizontal_flip = True, #상하반전\n",
    "    vertical_flip = True) # 좌우반전\n",
    "\n",
    "datagen3 = ImageDataGenerator(\n",
    "    #rotation_range=15, #15도 회전\n",
    "    horizontal_flip = True, #상하반전\n",
    "    vertical_flip = False) # 좌우반전\n",
    "\n",
    "datagen4 = ImageDataGenerator(\n",
    "    #rotation_range=15, #15도 회전\n",
    "    horizontal_flip = False, #상하반전\n",
    "    vertical_flip = True) # 좌우반전\n"
   ]
  },
  {
   "cell_type": "code",
   "execution_count": 10,
   "id": "5a1ba0e7",
   "metadata": {},
   "outputs": [],
   "source": [
    "data_2 = datagen2.flow(x=X_train_img, y=Y_train, batch_size = 2000)\n",
    "X_2, y_2 = data_2.next()\n",
    "\n",
    "data_3 = datagen3.flow(x=X_train_img, y=Y_train, batch_size = 2000)\n",
    "X_3, y_3 = data_2.next()\n",
    "\n",
    "data_4 = datagen4.flow(x=X_train_img, y=Y_train, batch_size = 2000)\n",
    "X_4, y_4 = data_4.next()"
   ]
  },
  {
   "cell_type": "code",
   "execution_count": 11,
   "id": "8bdd68d1",
   "metadata": {},
   "outputs": [],
   "source": [
    "aug_X = np.concatenate((X_train_img, X_2, X_3, X_4), axis=0)\n",
    "aug_Y = np.concatenate((Y_train, y_2, y_3, y_4), axis=0)"
   ]
  },
  {
   "cell_type": "code",
   "execution_count": 12,
   "id": "bc797d31",
   "metadata": {},
   "outputs": [
    {
     "name": "stdout",
     "output_type": "stream",
     "text": [
      "aug_X:  8000\n",
      "aug_Y:  8000\n",
      "Barren Land: 12.5%\n",
      "Trees: 12.5%\n",
      "Grassland: 25.0%\n",
      "Other: 50.0%\n"
     ]
    },
    {
     "data": {
      "image/png": "[encoded data removed]",
      "text/plain": [
       "<Figure size 432x288 with 1 Axes>"
      ]
     },
     "metadata": {},
     "output_type": "display_data"
    },
    {
     "data": {
      "text/plain": [
       "array([0.125, 0.125, 0.25 , 0.5  ])"
      ]
     },
     "execution_count": 12,
     "metadata": {},
     "output_type": "execute_result"
    }
   ],
   "source": [
    "print('aug_X: ',len(aug_X))\n",
    "print('aug_Y: ',len(aug_Y))\n",
    "Data_visualization(aug_Y)"
   ]
  },
  {
   "cell_type": "code",
   "execution_count": 38,
   "id": "8cb26272",
   "metadata": {},
   "outputs": [],
   "source": [
    "#x_train, x_val, y_train, y_val = train_test_split(X_train_img, Y_train, test_size = 0.2)\n",
    "x_train, x_val, y_train, y_val = train_test_split(aug_X, aug_Y, test_size = 0.2)"
   ]
  },
  {
   "cell_type": "markdown",
   "id": "0a394426",
   "metadata": {},
   "source": [
    "### Train Data 시각화"
   ]
  },
  {
   "cell_type": "markdown",
   "id": "9fab9407",
   "metadata": {},
   "source": [
    "### 이슈\n",
    "### 1. Tensorflow에서 제공하는 Transfer model은 3차원 Input을 요구\n",
    "### 하지만 보유한 Data는 4차원-->받은 PreTrained Model의 구조를 일부변경"
   ]
  },
  {
   "cell_type": "markdown",
   "id": "bb4e5729",
   "metadata": {},
   "source": [
    "### VGG16 Base Model"
   ]
  },
  {
   "cell_type": "code",
   "execution_count": 39,
   "id": "55b7309d",
   "metadata": {},
   "outputs": [],
   "source": [
    "inputs = Input(shape = (32, 32, 4))\n",
    "\n",
    "# block 1\n",
    "x = Conv2D(64, (3,3), padding='same', activation='relu', kernel_initializer='zeros', name='block1_conv1')(inputs)\n",
    "x = Conv2D(64, (3,3), padding='same', activation='relu', kernel_initializer='zeros', name='block1_conv2')(x)\n",
    "x = MaxPooling2D(pool_size=(2, 2), name='block1_pool')(x)\n",
    "\n",
    "# block 2\n",
    "x = Conv2D(128, (3,3), padding='same', activation='relu', kernel_initializer='zeros', name='block2_conv1')(x)\n",
    "x = Conv2D(128, (3,3), padding='same', activation='relu', kernel_initializer='zeros', name='block2_conv2')(x)\n",
    "x = MaxPooling2D(pool_size=(2, 2), strides=(2,2), name='block2_pool')(x)\n",
    "\n",
    "# block 3\n",
    "x = Conv2D(256, (3,3), padding='same', activation='relu', kernel_initializer='zeros', name='block3_conv1')(x)\n",
    "x = Conv2D(256, (3,3), padding='same', activation='relu', kernel_initializer='zeros', name='block3_conv2')(x)\n",
    "x = Conv2D(256, (3,3), padding='same', activation='relu', kernel_initializer='zeros', name='block3_conv3')(x)\n",
    "x = Conv2D(256, (3,3), padding='same', activation='relu', kernel_initializer='zeros', name='block3_conv4')(x)\n",
    "x = MaxPooling2D(pool_size=(2, 2), strides=(2,2), name='block3_pool')(x)\n",
    "\n",
    "# block 4\n",
    "x = Conv2D(512, (3,3), padding='same', activation='relu', kernel_initializer='zeros', name='block4_conv1')(x)\n",
    "x = Conv2D(512, (3,3), padding='same', activation='relu', kernel_initializer='zeros', name='block4_conv2')(x)\n",
    "x = Conv2D(512, (3,3), padding='same', activation='relu', kernel_initializer='zeros', name='block4_conv3')(x)\n",
    "x = Conv2D(512, (3,3), padding='same', activation='relu', kernel_initializer='zeros', name='block4_conv4')(x)\n",
    "x = MaxPooling2D(pool_size=(2, 2), strides=(2,2), name='block4_pool')(x)\n",
    "\n",
    "# block 5\n",
    "x = Conv2D(512, (3,3), padding='same', activation='relu', kernel_initializer='zeros', name='block5_conv1')(x)\n",
    "x = Conv2D(512, (3,3), padding='same', activation='relu', kernel_initializer='zeros', name='block5_conv2')(x)\n",
    "x = Conv2D(512, (3,3), padding='same', activation='relu', kernel_initializer='zeros', name='block5_conv3')(x)\n",
    "x = Conv2D(512, (3,3), padding='same', activation='relu', kernel_initializer='zeros', name='block5_conv4')(x)\n",
    "x = MaxPooling2D(pool_size=(2, 2), strides=(2,2), name='block5_pool', padding='same')(x)\n",
    "\n",
    "\n",
    "Feature_vgg = Model(inputs=inputs, outputs=x)"
   ]
  },
  {
   "cell_type": "markdown",
   "id": "5a259358",
   "metadata": {},
   "source": [
    "### VGG 16"
   ]
  },
  {
   "cell_type": "code",
   "execution_count": 23,
   "id": "af7f074c",
   "metadata": {},
   "outputs": [],
   "source": [
    "VGG16_model = tf.keras.applications.vgg16.VGG16(input_shape = (32,32,3), \n",
    "                                                include_top = False,\n",
    "                                                weights = 'imagenet')"
   ]
  },
  {
   "cell_type": "code",
   "execution_count": 24,
   "id": "0f028143",
   "metadata": {},
   "outputs": [],
   "source": [
    "model = Feature_vgg  # your RGBY model is here\n",
    "pretrained_model = VGG16_model  # pretrained RGB model\n",
    "\n",
    "# the following assumes that the layers match with the two models and\n",
    "# only the shapes of weights and/or biases are different\n",
    "for pretrained_layer, layer in zip(pretrained_model.layers, model.layers):\n",
    "    pretrained = pretrained_layer.get_weights()\n",
    "    target = layer.get_weights()\n",
    "    if len(pretrained) == 0:  # skip input, pooling and other no weights layers\n",
    "        continue\n",
    "    try:  \n",
    "        # set the pretrained weights as is whenever possible\n",
    "        layer.set_weights(pretrained)\n",
    "    except:\n",
    "        # numpy.resize to the rescue whenever there is a shape mismatch\n",
    "        for idx, (l1, l2) in enumerate(zip(pretrained, target)):\n",
    "            target[idx] = np.resize(l1, l2.shape)\n",
    "\n",
    "        layer.set_weights(target)"
   ]
  },
  {
   "cell_type": "code",
   "execution_count": 25,
   "id": "68994368",
   "metadata": {},
   "outputs": [
    {
     "name": "stdout",
     "output_type": "stream",
     "text": [
      "Feature 동결한 후 훈련되는 가중치의 수: 32\n"
     ]
    }
   ],
   "source": [
    "print('Feature 동결한 후 훈련되는 가중치의 수:', len(Feature_vgg.trainable_weights))\n",
    "#Feature.trainable = False\n",
    "#print('Feature 동결한 후 훈련되는 가중치의 수:', len(Feature.trainable_weights))"
   ]
  },
  {
   "cell_type": "code",
   "execution_count": 40,
   "id": "7571331f",
   "metadata": {},
   "outputs": [],
   "source": [
    "img_shape = (X_train_img[1], X_train_img[2], X_train_img[3])\n",
    "model_vgg = models.Sequential()\n",
    "# For training from scratch change kernel_initializer to e.g.'VarianceScaling'\n",
    "model_vgg.add(layers.ZeroPadding2D(padding = (2,2), input_shape = (28, 28 ,4)))\n",
    "model_vgg.add(Feature_vgg)\n",
    "model_vgg.add(layers.Flatten())\n",
    "model_vgg.add(layers.Dense(256, activation='relu'))\n",
    "model_vgg.add(layers.Dense(128, activation='relu'))\n",
    "model_vgg.add(layers.Dense(4, activation='sigmoid'))\n",
    "\n",
    "model_vgg.compile(optimizer=optimizers.RMSprop(),\n",
    "                     loss='categorical_crossentropy',\n",
    "                     metrics=['acc'])"
   ]
  },
  {
   "cell_type": "code",
   "execution_count": 41,
   "id": "b6b17bd6",
   "metadata": {},
   "outputs": [
    {
     "name": "stdout",
     "output_type": "stream",
     "text": [
      "Model: \"sequential_2\"\n",
      "_________________________________________________________________\n",
      "Layer (type)                 Output Shape              Param #   \n",
      "=================================================================\n",
      "zero_padding2d_3 (ZeroPaddin (None, 32, 32, 4)         0         \n",
      "_________________________________________________________________\n",
      "model_3 (Functional)         (None, 1, 1, 512)         20024960  \n",
      "_________________________________________________________________\n",
      "flatten_3 (Flatten)          (None, 512)               0         \n",
      "_________________________________________________________________\n",
      "dense_8 (Dense)              (None, 256)               131328    \n",
      "_________________________________________________________________\n",
      "dense_9 (Dense)              (None, 128)               32896     \n",
      "_________________________________________________________________\n",
      "dense_10 (Dense)             (None, 4)                 516       \n",
      "=================================================================\n",
      "Total params: 20,189,700\n",
      "Trainable params: 20,189,700\n",
      "Non-trainable params: 0\n",
      "_________________________________________________________________\n"
     ]
    }
   ],
   "source": [
    "model_vgg.summary()"
   ]
  },
  {
   "cell_type": "code",
   "execution_count": 42,
   "id": "5ac1ecf7",
   "metadata": {},
   "outputs": [
    {
     "name": "stdout",
     "output_type": "stream",
     "text": [
      "Epoch 1/30\n",
      "200/200 [==============================] - 10s 42ms/step - loss: 1.3612 - acc: 0.4922 - val_loss: 1.3097 - val_acc: 0.4894\n",
      "Epoch 2/30\n",
      "200/200 [==============================] - 8s 41ms/step - loss: 1.2901 - acc: 0.5015 - val_loss: 1.2631 - val_acc: 0.4894\n",
      "Epoch 3/30\n",
      "200/200 [==============================] - 8s 41ms/step - loss: 1.2404 - acc: 0.5089 - val_loss: 1.2398 - val_acc: 0.4894\n",
      "Epoch 4/30\n",
      "200/200 [==============================] - 8s 41ms/step - loss: 1.2289 - acc: 0.4940 - val_loss: 1.2316 - val_acc: 0.4894\n",
      "Epoch 5/30\n",
      "200/200 [==============================] - 8s 41ms/step - loss: 1.2085 - acc: 0.5063 - val_loss: 1.2299 - val_acc: 0.4894\n",
      "Epoch 6/30\n",
      "200/200 [==============================] - 8s 41ms/step - loss: 1.2037 - acc: 0.5059 - val_loss: 1.2299 - val_acc: 0.4894\n",
      "Epoch 7/30\n",
      "200/200 [==============================] - 8s 41ms/step - loss: 1.2055 - acc: 0.5057 - val_loss: 1.2302 - val_acc: 0.4894\n",
      "Epoch 8/30\n",
      "200/200 [==============================] - 8s 41ms/step - loss: 1.2046 - acc: 0.5057 - val_loss: 1.2303 - val_acc: 0.4894\n",
      "Epoch 9/30\n",
      "200/200 [==============================] - 8s 41ms/step - loss: 1.2084 - acc: 0.5060 - val_loss: 1.2305 - val_acc: 0.4894\n",
      "Epoch 10/30\n",
      "200/200 [==============================] - 8s 41ms/step - loss: 1.2160 - acc: 0.4964 - val_loss: 1.2307 - val_acc: 0.4894\n",
      "Epoch 11/30\n",
      "200/200 [==============================] - 8s 41ms/step - loss: 1.2092 - acc: 0.5038 - val_loss: 1.2307 - val_acc: 0.4894\n",
      "Epoch 12/30\n",
      "200/200 [==============================] - 8s 41ms/step - loss: 1.2159 - acc: 0.5012 - val_loss: 1.2308 - val_acc: 0.4894\n",
      "Epoch 13/30\n",
      "200/200 [==============================] - 8s 41ms/step - loss: 1.2127 - acc: 0.5013 - val_loss: 1.2309 - val_acc: 0.4894\n",
      "Epoch 14/30\n",
      "200/200 [==============================] - 8s 41ms/step - loss: 1.2216 - acc: 0.4914 - val_loss: 1.2309 - val_acc: 0.4894\n",
      "Epoch 15/30\n",
      "200/200 [==============================] - 8s 41ms/step - loss: 1.2077 - acc: 0.5030 - val_loss: 1.2309 - val_acc: 0.4894\n",
      "Epoch 16/30\n",
      "200/200 [==============================] - 8s 41ms/step - loss: 1.2126 - acc: 0.5030 - val_loss: 1.2308 - val_acc: 0.4894\n",
      "Epoch 17/30\n",
      "200/200 [==============================] - 8s 41ms/step - loss: 1.2033 - acc: 0.4986 - val_loss: 1.2307 - val_acc: 0.4894\n",
      "Epoch 18/30\n",
      "200/200 [==============================] - 8s 41ms/step - loss: 1.2081 - acc: 0.5030 - val_loss: 1.2307 - val_acc: 0.4894\n",
      "Epoch 19/30\n",
      "200/200 [==============================] - 8s 41ms/step - loss: 1.2036 - acc: 0.5030 - val_loss: 1.2308 - val_acc: 0.4894\n",
      "Epoch 20/30\n",
      "200/200 [==============================] - 8s 41ms/step - loss: 1.2170 - acc: 0.4923 - val_loss: 1.2308 - val_acc: 0.4894\n",
      "Epoch 21/30\n",
      "200/200 [==============================] - 8s 41ms/step - loss: 1.2060 - acc: 0.4990 - val_loss: 1.2308 - val_acc: 0.4894\n",
      "Epoch 22/30\n",
      "200/200 [==============================] - 8s 41ms/step - loss: 1.2072 - acc: 0.5052 - val_loss: 1.2308 - val_acc: 0.4894\n",
      "Epoch 23/30\n",
      "200/200 [==============================] - 8s 41ms/step - loss: 1.2029 - acc: 0.5131 - val_loss: 1.2308 - val_acc: 0.4894\n",
      "Epoch 24/30\n",
      "200/200 [==============================] - 8s 41ms/step - loss: 1.1973 - acc: 0.5112 - val_loss: 1.2308 - val_acc: 0.4894\n",
      "Epoch 25/30\n",
      "200/200 [==============================] - 8s 41ms/step - loss: 1.2066 - acc: 0.5046 - val_loss: 1.2309 - val_acc: 0.4894\n",
      "Epoch 26/30\n",
      "200/200 [==============================] - 8s 41ms/step - loss: 1.2117 - acc: 0.5027 - val_loss: 1.2309 - val_acc: 0.4894\n",
      "Epoch 27/30\n",
      "200/200 [==============================] - 8s 41ms/step - loss: 1.2122 - acc: 0.4982 - val_loss: 1.2308 - val_acc: 0.4894\n",
      "Epoch 28/30\n",
      "200/200 [==============================] - 8s 41ms/step - loss: 1.2006 - acc: 0.5129 - val_loss: 1.2308 - val_acc: 0.4894\n",
      "Epoch 29/30\n",
      "200/200 [==============================] - 8s 41ms/step - loss: 1.2076 - acc: 0.5095 - val_loss: 1.2308 - val_acc: 0.4894\n",
      "Epoch 30/30\n",
      "200/200 [==============================] - 8s 41ms/step - loss: 1.2220 - acc: 0.4932 - val_loss: 1.2309 - val_acc: 0.4894\n"
     ]
    }
   ],
   "source": [
    "history_vgg = model_vgg.fit(x_train, y_train, epochs=30, validation_data=(x_val, y_val))"
   ]
  },
  {
   "cell_type": "code",
   "execution_count": 43,
   "id": "468e151d",
   "metadata": {},
   "outputs": [
    {
     "name": "stdout",
     "output_type": "stream",
     "text": [
      "1   0.4893749952316284\n"
     ]
    },
    {
     "data": {
      "image/png": "[encoded data removed]",
      "text/plain": [
       "<Figure size 432x288 with 1 Axes>"
      ]
     },
     "metadata": {
      "needs_background": "light"
     },
     "output_type": "display_data"
    },
    {
     "name": "stdout",
     "output_type": "stream",
     "text": [
      "63/63 [==============================] - 1s 9ms/step - loss: 1.2131 - acc: 0.5000\n",
      "[1.2130876779556274, 0.5]\n"
     ]
    },
    {
     "data": {
      "image/png": "[encoded data removed]",
      "text/plain": [
       "<Figure size 432x288 with 2 Axes>"
      ]
     },
     "metadata": {
      "needs_background": "light"
     },
     "output_type": "display_data"
    }
   ],
   "source": [
    "vgg_y_vaccuracy = history_vgg.history['val_acc'] \n",
    "vgg_y_accuracy = history_vgg.history['acc']\n",
    "\n",
    "visulization_by_epochs(vgg_y_vaccuracy, vgg_y_accuracy)\n",
    "\n",
    "result = model_vgg.evaluate(X_train_img, Y_train)\n",
    "print(result)\n",
    "#confusion matrix를 확인하고 싶었지만, 해당 값이 분류모델로 되어있는 것이 아닌 상대적 확률로써 존재\n",
    "y_predict = model_vgg.predict(X_train_img)\n",
    "\n",
    "draw_confusionmatrix(y_predict, Y_train)"
   ]
  },
  {
   "cell_type": "markdown",
   "id": "12a23aaa",
   "metadata": {},
   "source": [
    "### ResNet"
   ]
  },
  {
   "cell_type": "code",
   "execution_count": 44,
   "id": "f3e2d515",
   "metadata": {},
   "outputs": [],
   "source": [
    "inputs = Input(shape=(32, 32, 4))\n",
    "\n",
    "# block 1\n",
    "x = Conv2D(64, (3,3), padding='same', activation='relu', kernel_initializer='zeros', name='block1_conv1')(inputs)\n",
    "x = Conv2D(64, (3,3), padding='same', activation='relu', kernel_initializer='zeros', name='block1_conv2')(x)\n",
    "x = MaxPooling2D(pool_size=(2, 2), name='block1_pool')(x)\n",
    "\n",
    "# block 2\n",
    "x = Conv2D(128, (3,3), padding='same', activation='relu', kernel_initializer='zeros', name='block2_conv1')(x)\n",
    "x = Conv2D(128, (3,3), padding='same', activation='relu', kernel_initializer='zeros', name='block2_conv2')(x)\n",
    "x = MaxPooling2D(pool_size=(2, 2), strides=(2,2), name='block2_pool')(x)\n",
    "\n",
    "# block 3\n",
    "x = Conv2D(256, (3,3), padding='same', activation='relu', kernel_initializer='zeros', name='block3_conv1')(x)\n",
    "x = Conv2D(256, (3,3), padding='same', activation='relu', kernel_initializer='zeros', name='block3_conv2')(x)\n",
    "x = Conv2D(256, (3,3), padding='same', activation='relu', kernel_initializer='zeros', name='block3_conv3')(x)\n",
    "x = Conv2D(256, (3,3), padding='same', activation='relu', kernel_initializer='zeros', name='block3_conv4')(x)\n",
    "x = MaxPooling2D(pool_size=(2, 2), strides=(2,2), name='block3_pool')(x)\n",
    "\n",
    "# block 4\n",
    "x = Conv2D(512, (3,3), padding='same', activation='relu', kernel_initializer='zeros', name='block4_conv1')(x)\n",
    "x = Conv2D(512, (3,3), padding='same', activation='relu', kernel_initializer='zeros', name='block4_conv2')(x)\n",
    "x = Conv2D(512, (3,3), padding='same', activation='relu', kernel_initializer='zeros', name='block4_conv3')(x)\n",
    "x = Conv2D(512, (3,3), padding='same', activation='relu', kernel_initializer='zeros', name='block4_conv4')(x)\n",
    "x = MaxPooling2D(pool_size=(2, 2), strides=(2,2), name='block4_pool')(x)\n",
    "\n",
    "# block 5\n",
    "x = Conv2D(512, (3,3), padding='same', activation='relu', kernel_initializer='zeros', name='block5_conv1')(x)\n",
    "x = Conv2D(512, (3,3), padding='same', activation='relu', kernel_initializer='zeros', name='block5_conv2')(x)\n",
    "x = Conv2D(512, (3,3), padding='same', activation='relu', kernel_initializer='zeros', name='block5_conv3')(x)\n",
    "x = Conv2D(512, (3,3), padding='same', activation='relu', kernel_initializer='zeros', name='block5_conv4')(x)\n",
    "x = MaxPooling2D(pool_size=(2, 2), strides=(2,2), name='block5_pool', padding='same')(x)\n",
    "\n",
    "Feature_res = Model(inputs=inputs, outputs=x)"
   ]
  },
  {
   "cell_type": "code",
   "execution_count": 45,
   "id": "1ac555d8",
   "metadata": {},
   "outputs": [],
   "source": [
    "ResNet50_MODEL = tf.keras.applications.ResNet50(input_shape = (32,32,3), \n",
    "                                                include_top = False,\n",
    "                                                weights = 'imagenet')\n",
    "\n",
    "model = Feature_res  # your RGBY model is here\n",
    "pretrained_model = ResNet50_MODEL  # pretrained RGB model\n",
    "\n",
    "# the following assumes that the layers match with the two models and\n",
    "# only the shapes of weights and/or biases are different\n",
    "for pretrained_layer, layer in zip(pretrained_model.layers, model.layers):\n",
    "    pretrained = pretrained_layer.get_weights()\n",
    "    target = layer.get_weights()\n",
    "    if len(pretrained) == 0:  # skip input, pooling and other no weights layers\n",
    "        continue\n",
    "    try:  \n",
    "        # set the pretrained weights as is whenever possible\n",
    "        layer.set_weights(pretrained)\n",
    "    except:\n",
    "        # numpy.resize to the rescue whenever there is a shape mismatch\n",
    "        for idx, (l1, l2) in enumerate(zip(pretrained, target)):\n",
    "            target[idx] = np.resize(l1, l2.shape)\n",
    "\n",
    "        layer.set_weights(target)"
   ]
  },
  {
   "cell_type": "code",
   "execution_count": 46,
   "id": "39839af5",
   "metadata": {},
   "outputs": [
    {
     "name": "stdout",
     "output_type": "stream",
     "text": [
      "Feature 동결한 후 훈련되는 가중치의 수: 32\n"
     ]
    }
   ],
   "source": [
    "print('Feature 동결한 후 훈련되는 가중치의 수:', len(Feature_res.trainable_weights))\n",
    "#Feature.trainable = False\n",
    "#print('Feature 동결한 후 훈련되는 가중치의 수:', len(Feature.trainable_weights))"
   ]
  },
  {
   "cell_type": "code",
   "execution_count": 47,
   "id": "a1a32e4d",
   "metadata": {},
   "outputs": [],
   "source": [
    "img_shape = (X_train_img[1], X_train_img[2], X_train_img[3])\n",
    "model_vgg = models.Sequential()\n",
    "# For training from scratch change kernel_initializer to e.g.'VarianceScaling'\n",
    "model_vgg.add(layers.ZeroPadding2D(padding = (2,2), input_shape = (28, 28 ,4)))\n",
    "model_vgg.add(Feature_vgg)\n",
    "model_vgg.add(layers.Flatten())\n",
    "model_vgg.add(layers.Dense(256, activation='relu'))\n",
    "model_vgg.add(layers.Dense(128, activation='relu'))\n",
    "model_vgg.add(layers.Dense(4, activation='sigmoid'))\n",
    "\n",
    "model_vgg.compile(optimizer=optimizers.RMSprop(),\n",
    "                     loss='categorical_crossentropy',\n",
    "                     metrics=['acc'])"
   ]
  },
  {
   "cell_type": "code",
   "execution_count": 48,
   "id": "fd448550",
   "metadata": {},
   "outputs": [],
   "source": [
    "img_shape = (X_train_img[1], X_train_img[2], X_train_img[3])\n",
    "\n",
    "model_res = models.Sequential()\n",
    "# For training from scratch change kernel_initializer to e.g.'VarianceScaling'\n",
    "model_res.add(layers.ZeroPadding2D(padding = (2,2), input_shape = (28, 28 ,4)))\n",
    "\n",
    "model_res.add(Feature_res)\n",
    "model_res.add(layers.Flatten())\n",
    "model_res.add(layers.Dense(256, activation='relu'))\n",
    "model_res.add(layers.Dense(128, activation='relu'))\n",
    "model_res.add(layers.Dense(4, activation='sigmoid'))\n",
    "\n",
    "model_res.compile(optimizer='Adam',\n",
    "                     loss='categorical_crossentropy',\n",
    "                     metrics=['acc'])"
   ]
  },
  {
   "cell_type": "code",
   "execution_count": 49,
   "id": "6dfa090c",
   "metadata": {},
   "outputs": [
    {
     "name": "stdout",
     "output_type": "stream",
     "text": [
      "Epoch 1/30\n",
      "200/200 [==============================] - 8s 38ms/step - loss: 1.2457 - acc: 0.4949 - val_loss: 1.2446 - val_acc: 0.4894\n",
      "Epoch 2/30\n",
      "200/200 [==============================] - 7s 36ms/step - loss: 1.2206 - acc: 0.5047 - val_loss: 1.2309 - val_acc: 0.4894\n",
      "Epoch 3/30\n",
      "200/200 [==============================] - 7s 36ms/step - loss: 1.2026 - acc: 0.5069 - val_loss: 1.2375 - val_acc: 0.4894\n",
      "Epoch 4/30\n",
      "200/200 [==============================] - 7s 36ms/step - loss: 1.2282 - acc: 0.4942 - val_loss: 1.2383 - val_acc: 0.4894\n",
      "Epoch 5/30\n",
      "200/200 [==============================] - 7s 36ms/step - loss: 1.2149 - acc: 0.5037 - val_loss: 1.2330 - val_acc: 0.4894\n",
      "Epoch 6/30\n",
      "200/200 [==============================] - 7s 36ms/step - loss: 1.2095 - acc: 0.5095 - val_loss: 1.2299 - val_acc: 0.4894\n",
      "Epoch 7/30\n",
      "200/200 [==============================] - 7s 36ms/step - loss: 1.2108 - acc: 0.5015 - val_loss: 1.2303 - val_acc: 0.4894\n",
      "Epoch 8/30\n",
      "200/200 [==============================] - 7s 36ms/step - loss: 1.2219 - acc: 0.4965 - val_loss: 1.2401 - val_acc: 0.4894\n",
      "Epoch 9/30\n",
      "200/200 [==============================] - 7s 36ms/step - loss: 1.2089 - acc: 0.5046 - val_loss: 1.2302 - val_acc: 0.4894\n",
      "Epoch 10/30\n",
      "200/200 [==============================] - 7s 36ms/step - loss: 1.2237 - acc: 0.4945 - val_loss: 1.2331 - val_acc: 0.4894\n",
      "Epoch 11/30\n",
      "200/200 [==============================] - 7s 36ms/step - loss: 1.2085 - acc: 0.5063 - val_loss: 1.2365 - val_acc: 0.4894\n",
      "Epoch 12/30\n",
      "200/200 [==============================] - 7s 36ms/step - loss: 1.2205 - acc: 0.4940 - val_loss: 1.2360 - val_acc: 0.4894\n",
      "Epoch 13/30\n",
      "200/200 [==============================] - 7s 36ms/step - loss: 1.2221 - acc: 0.4973 - val_loss: 1.2307 - val_acc: 0.4894\n",
      "Epoch 14/30\n",
      "200/200 [==============================] - 7s 36ms/step - loss: 1.2046 - acc: 0.5074 - val_loss: 1.2304 - val_acc: 0.4894\n",
      "Epoch 15/30\n",
      "200/200 [==============================] - 7s 36ms/step - loss: 1.2103 - acc: 0.4989 - val_loss: 1.2373 - val_acc: 0.4894\n",
      "Epoch 16/30\n",
      "200/200 [==============================] - 7s 36ms/step - loss: 1.2139 - acc: 0.4975 - val_loss: 1.2315 - val_acc: 0.4894\n",
      "Epoch 17/30\n",
      "200/200 [==============================] - 7s 36ms/step - loss: 1.2023 - acc: 0.5136 - val_loss: 1.2301 - val_acc: 0.4894\n",
      "Epoch 18/30\n",
      "200/200 [==============================] - 7s 36ms/step - loss: 1.2017 - acc: 0.5074 - val_loss: 1.2307 - val_acc: 0.4894\n",
      "Epoch 19/30\n",
      "200/200 [==============================] - 7s 36ms/step - loss: 1.2151 - acc: 0.4953 - val_loss: 1.2323 - val_acc: 0.4894\n",
      "Epoch 20/30\n",
      "200/200 [==============================] - 7s 36ms/step - loss: 1.2087 - acc: 0.5027 - val_loss: 1.2310 - val_acc: 0.4894\n",
      "Epoch 21/30\n",
      "200/200 [==============================] - 7s 36ms/step - loss: 1.2082 - acc: 0.5022 - val_loss: 1.2316 - val_acc: 0.4894\n",
      "Epoch 22/30\n",
      "200/200 [==============================] - 7s 36ms/step - loss: 1.2208 - acc: 0.4965 - val_loss: 1.2304 - val_acc: 0.4894\n",
      "Epoch 23/30\n",
      "200/200 [==============================] - 7s 36ms/step - loss: 1.2145 - acc: 0.5004 - val_loss: 1.2390 - val_acc: 0.4894\n",
      "Epoch 24/30\n",
      "200/200 [==============================] - 7s 36ms/step - loss: 1.2143 - acc: 0.4985 - val_loss: 1.2304 - val_acc: 0.4894\n",
      "Epoch 25/30\n",
      "200/200 [==============================] - 7s 36ms/step - loss: 1.2258 - acc: 0.4965 - val_loss: 1.2389 - val_acc: 0.4894\n",
      "Epoch 26/30\n",
      "200/200 [==============================] - 7s 36ms/step - loss: 1.2112 - acc: 0.5021 - val_loss: 1.2333 - val_acc: 0.4894\n",
      "Epoch 27/30\n",
      "200/200 [==============================] - 7s 36ms/step - loss: 1.2074 - acc: 0.5029 - val_loss: 1.2308 - val_acc: 0.4894\n",
      "Epoch 28/30\n",
      "200/200 [==============================] - 7s 36ms/step - loss: 1.2097 - acc: 0.5057 - val_loss: 1.2309 - val_acc: 0.4894\n",
      "Epoch 29/30\n",
      "200/200 [==============================] - 7s 36ms/step - loss: 1.2165 - acc: 0.4984 - val_loss: 1.2405 - val_acc: 0.4894\n",
      "Epoch 30/30\n",
      "200/200 [==============================] - 7s 36ms/step - loss: 1.2092 - acc: 0.5029 - val_loss: 1.2320 - val_acc: 0.4894\n"
     ]
    }
   ],
   "source": [
    "history_res = model_res.fit(x_train, y_train, epochs=30, validation_data=(x_val, y_val))"
   ]
  },
  {
   "cell_type": "code",
   "execution_count": 50,
   "id": "fa6c6e32",
   "metadata": {},
   "outputs": [
    {
     "name": "stdout",
     "output_type": "stream",
     "text": [
      "1   0.4893749952316284\n"
     ]
    },
    {
     "data": {
      "image/png": "[encoded data removed]",
      "text/plain": [
       "<Figure size 432x288 with 1 Axes>"
      ]
     },
     "metadata": {
      "needs_background": "light"
     },
     "output_type": "display_data"
    },
    {
     "name": "stdout",
     "output_type": "stream",
     "text": [
      "50/50 [==============================] - 1s 9ms/step - loss: 1.3863 - acc: 0.1383\n",
      "[1.3862948417663574, 0.13625000417232513]\n"
     ]
    },
    {
     "data": {
      "image/png": "[encoded data removed]",
      "text/plain": [
       "<Figure size 432x288 with 2 Axes>"
      ]
     },
     "metadata": {
      "needs_background": "light"
     },
     "output_type": "display_data"
    }
   ],
   "source": [
    "vgg_y_vaccuracy = history_res.history['val_acc'] \n",
    "vgg_y_accuracy = history_res.history['acc']\n",
    "\n",
    "visulization_by_epochs(vgg_y_vaccuracy, vgg_y_accuracy)\n",
    "\n",
    "result = model_vgg.evaluate(x_val, y_val)\n",
    "print(result)\n",
    "#confusion matrix를 확인하고 싶었지만, 해당 값이 분류모델로 되어있는 것이 아닌 상대적 확률로써 존재\n",
    "y_predict = model_vgg.predict(x_val)\n",
    "\n",
    "draw_confusionmatrix(y_predict, y_val)"
   ]
  }
 ],
 "metadata": {
  "kernelspec": {
   "display_name": "Python 3 (ipykernel)",
   "language": "python",
   "name": "python3"
  },
  "language_info": {
   "codemirror_mode": {
    "name": "ipython",
    "version": 3
   },
   "file_extension": ".py",
   "mimetype": "text/x-python",
   "name": "python",
   "nbconvert_exporter": "python",
   "pygments_lexer": "ipython3",
   "version": "3.8.13"
  }
 },
 "nbformat": 4,
 "nbformat_minor": 5
}
