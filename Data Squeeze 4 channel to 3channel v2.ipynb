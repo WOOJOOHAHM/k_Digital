{
 "cells": [
  {
   "cell_type": "code",
   "execution_count": 1,
   "id": "1519dd5e",
   "metadata": {},
   "outputs": [
    {
     "name": "stderr",
     "output_type": "stream",
     "text": [
      "2022-08-19 12:10:28.495157: I tensorflow/stream_executor/platform/default/dso_loader.cc:49] Successfully opened dynamic library libcudart.so.10.1\n"
     ]
    }
   ],
   "source": [
    "import numpy as np # linear algebra\n",
    "import pandas as pd # data processing and file IO\n",
    "import matplotlib.pyplot as plt # visualize images\n",
    "from scipy.stats import mode\n",
    "\n",
    "# evaluate label propagation on the semi-supervised learning dataset from numpy import concatenate\n",
    "\n",
    "import seaborn as sns\n",
    "from tensorflow.python.client import device_lib \n",
    "import tensorflow as tf\n",
    "from tensorflow.keras import layers,models\n",
    "\n",
    "from sklearn.model_selection import train_test_split\n",
    "from keras.layers import concatenate\n",
    "\n",
    "from sklearn.metrics import precision_score, recall_score, f1_score, confusion_matrix, plot_confusion_matrix"
   ]
  },
  {
   "cell_type": "markdown",
   "id": "0385744e",
   "metadata": {},
   "source": [
    "### Train Data 시각화 함수"
   ]
  },
  {
   "cell_type": "code",
   "execution_count": 2,
   "id": "7fc607bc",
   "metadata": {},
   "outputs": [],
   "source": [
    "# Not included in the problem slides.\n",
    "def Data_visualization(Y_train):\n",
    "    ratios = np.sum(Y_train, axis=0) / Y_train.shape[0] \n",
    "    labels = ['Barren Land', 'Trees', 'Grassland', 'Other']\n",
    "\n",
    "    for l, v in zip(labels, ratios * 100): \n",
    "        print('{}: {:.1f}%'.format(l, v))\n",
    "\n",
    "    cmap = plt.get_cmap('Pastel1')\n",
    "    colors = [cmap(i) for i in np.linspace(0, 1, 8)]\n",
    "\n",
    "    plt.pie(ratios, labels = labels, autopct='%.1f%%', shadow=True, colors=colors) \n",
    "    plt.show()\n",
    "    return ratios"
   ]
  },
  {
   "cell_type": "markdown",
   "id": "e8cc2d0e",
   "metadata": {},
   "source": [
    "### 평가 histogram 함수"
   ]
  },
  {
   "cell_type": "code",
   "execution_count": 3,
   "id": "70b87535",
   "metadata": {},
   "outputs": [],
   "source": [
    "def visulization_by_epochs(res_y_vaccuracy, res_y_accuracy):\n",
    "    print(res_y_vaccuracy.index(max(res_y_vaccuracy)) + 1, ' ',max(res_y_vaccuracy)) \n",
    "\n",
    "    res_x_len = np.arange(len(res_y_accuracy))\n",
    "\n",
    "    plt.plot(res_x_len, res_y_vaccuracy, marker='.', c='red', label=\"Validation-set Los\")\n",
    "    plt.plot(res_x_len, res_y_accuracy, marker='.', c='blue', label=\"Train-set Loss\")\n",
    "\n",
    "    plt.legend(loc='upper right') \n",
    "    plt.grid() \n",
    "    plt.xlabel('epoch') \n",
    "    plt.ylabel('accuracy') \n",
    "    plt.show()"
   ]
  },
  {
   "cell_type": "markdown",
   "id": "17d4dcc7",
   "metadata": {},
   "source": [
    "### Confusion Matrix 함수"
   ]
  },
  {
   "cell_type": "code",
   "execution_count": 4,
   "id": "b885acbd",
   "metadata": {},
   "outputs": [],
   "source": [
    "#confusion matrix를 확인하고 싶었지만, 해당 값이 분류모델로 되어있는 것이 아닌 상대적 확률로써 존재\n",
    "def draw_confusionmatrix(y_predict, y_test):\n",
    "    new_y_predict = []\n",
    "\n",
    "    for y in y_predict:\n",
    "        best_y = np.where(y == max(y))\n",
    "        new_array = np.array([0, 0, 0, 0])\n",
    "        new_array[best_y] = 1\n",
    "        new_y_predict.append(new_array)\n",
    "\n",
    "    new_y_predict = np.array(new_y_predict)\n",
    "\n",
    "\n",
    "    cf = confusion_matrix(new_y_predict.argmax(axis = 1), y_test.argmax(axis = 1))\n",
    "    f = sns.heatmap(cf, annot=True, fmt='d')"
   ]
  },
  {
   "cell_type": "markdown",
   "id": "14058430",
   "metadata": {},
   "source": [
    "### 기초 통계값 출력 함수"
   ]
  },
  {
   "cell_type": "code",
   "execution_count": 5,
   "id": "8921d5af",
   "metadata": {},
   "outputs": [],
   "source": [
    "def print_stat(y_res_add):\n",
    "    res_y_max = []\n",
    "\n",
    "    for y in y_res_add:\n",
    "        res_y_max.append(float(max(y)))\n",
    "\n",
    "    print('최빈값: ', mode(res_y_max))\n",
    "    print('평균: ', np.median(res_y_max))\n",
    "    print('분산: ', np.var(res_y_max))\n",
    "    print('표준편차: ', np.std(res_y_max))\n",
    "    print('사분위1: ', np.quantile(res_y_max, 0.25))\n",
    "    print('사분위2(중앙값): ', np.quantile(res_y_max, 0.5))\n",
    "    print('사분위3: ', np.quantile(res_y_max, 0.75))\n",
    "\n",
    "    hist, edges = np.histogram(res_y_max, 100)\n",
    "    sns.distplot(res_y_max, bins = 10, kde = False)\n",
    "\n",
    "    count_under = 0\n",
    "    count_upper = 0\n",
    "    for y in res_y_max:\n",
    "        if y < 0.9:\n",
    "            count_under += 1\n",
    "        else:\n",
    "            count_upper += 1\n",
    "\n",
    "    print('0.9 이하 개수: ', count_under)\n",
    "    print('0.9 이상 개수: ', count_upper)\n"
   ]
  },
  {
   "cell_type": "markdown",
   "id": "ee58b6a0",
   "metadata": {},
   "source": [
    "### Data 불러오기"
   ]
  },
  {
   "cell_type": "code",
   "execution_count": 6,
   "id": "a21a51d3",
   "metadata": {},
   "outputs": [
    {
     "name": "stdout",
     "output_type": "stream",
     "text": [
      "(2000, 28, 28, 4)\n",
      "Train_img\n",
      "(2000, 4)\n",
      "ADD_img\n",
      "(10000, 28, 28, 4)\n",
      "Test_img\n",
      "(10000, 28, 28, 4)\n",
      "(10000, 4)\n"
     ]
    }
   ],
   "source": [
    "#Train Data 불러오기\n",
    "X_train_path = 'data/X_train.csv' \n",
    "Y_train_path = 'data/y_train.csv'\n",
    "\n",
    "X_train_df = pd.read_csv(X_train_path, header=None)\n",
    "Y_train_df = pd.read_csv(Y_train_path, header=None)\n",
    "\n",
    "X_train = X_train_df.values / 255\n",
    "Y_train = Y_train_df.values\n",
    "\n",
    "n_images = X_train.shape[0]\n",
    "shape = [n_images, 28, 28, 4]\n",
    "X_train_img = X_train.reshape(shape) \n",
    "print(X_train_img.shape) \n",
    "print('Train_img') \n",
    "print(Y_train.shape)\n",
    "\n",
    "\n",
    "#ADD Data 불러오기\n",
    "X_add_path = 'data/X_add.csv' \n",
    "X_add_df = pd.read_csv(X_add_path, header=None) \n",
    "\n",
    "X_add = X_add_df.values / 255\n",
    "n_add_images = X_add.shape[0]\n",
    "add_shape = [n_add_images, 28, 28, 4]\n",
    "X_add_img = X_add.reshape(add_shape)\n",
    "print('ADD_img')\n",
    "print(X_add_img.shape)\n",
    "\n",
    "#Test Data 불러오기\n",
    "X_test_path = 'data/X_test.csv' \n",
    "Y_test_path = 'data/y_test.csv'\n",
    "\n",
    "X_test_df = pd.read_csv(X_test_path, header=None)\n",
    "Y_test_df = pd.read_csv(Y_test_path, header=None)\n",
    "\n",
    "X_test = X_test_df.values / 255 \n",
    "Y_test = Y_test_df.values \n",
    "\n",
    "n_test_images = X_test.shape[0]\n",
    "test_shape = [n_test_images, 28, 28, 4] \n",
    "print('Test_img')\n",
    "X_test_img = X_test.reshape(test_shape)\n",
    "print(X_test_img.shape)\n",
    "print(Y_test.shape)"
   ]
  },
  {
   "cell_type": "markdown",
   "id": "323a19ce",
   "metadata": {},
   "source": [
    "### Transfer Model 호출"
   ]
  },
  {
   "cell_type": "code",
   "execution_count": 7,
   "id": "61ca60e3",
   "metadata": {
    "scrolled": true
   },
   "outputs": [
    {
     "name": "stderr",
     "output_type": "stream",
     "text": [
      "2022-08-19 12:10:36.823199: I tensorflow/compiler/jit/xla_cpu_device.cc:41] Not creating XLA devices, tf_xla_enable_xla_devices not set\n",
      "2022-08-19 12:10:36.836591: I tensorflow/stream_executor/platform/default/dso_loader.cc:49] Successfully opened dynamic library libcuda.so.1\n",
      "2022-08-19 12:10:36.903480: I tensorflow/stream_executor/cuda/cuda_gpu_executor.cc:941] successful NUMA node read from SysFS had negative value (-1), but there must be at least one NUMA node, so returning NUMA node zero\n",
      "2022-08-19 12:10:36.904136: I tensorflow/core/common_runtime/gpu/gpu_device.cc:1720] Found device 0 with properties: \n",
      "pciBusID: 0000:00:04.0 name: Tesla T4 computeCapability: 7.5\n",
      "coreClock: 1.59GHz coreCount: 40 deviceMemorySize: 14.75GiB deviceMemoryBandwidth: 298.08GiB/s\n",
      "2022-08-19 12:10:36.904184: I tensorflow/stream_executor/platform/default/dso_loader.cc:49] Successfully opened dynamic library libcudart.so.10.1\n",
      "2022-08-19 12:10:36.970300: I tensorflow/stream_executor/platform/default/dso_loader.cc:49] Successfully opened dynamic library libcublas.so.10\n",
      "2022-08-19 12:10:36.970384: I tensorflow/stream_executor/platform/default/dso_loader.cc:49] Successfully opened dynamic library libcublasLt.so.10\n",
      "2022-08-19 12:10:37.007333: I tensorflow/stream_executor/platform/default/dso_loader.cc:49] Successfully opened dynamic library libcufft.so.10\n",
      "2022-08-19 12:10:37.015894: I tensorflow/stream_executor/platform/default/dso_loader.cc:49] Successfully opened dynamic library libcurand.so.10\n",
      "2022-08-19 12:10:37.103201: I tensorflow/stream_executor/platform/default/dso_loader.cc:49] Successfully opened dynamic library libcusolver.so.10\n",
      "2022-08-19 12:10:37.113267: I tensorflow/stream_executor/platform/default/dso_loader.cc:49] Successfully opened dynamic library libcusparse.so.10\n",
      "2022-08-19 12:10:37.229241: I tensorflow/stream_executor/platform/default/dso_loader.cc:49] Successfully opened dynamic library libcudnn.so.7\n",
      "2022-08-19 12:10:37.229428: I tensorflow/stream_executor/cuda/cuda_gpu_executor.cc:941] successful NUMA node read from SysFS had negative value (-1), but there must be at least one NUMA node, so returning NUMA node zero\n",
      "2022-08-19 12:10:37.230078: I tensorflow/stream_executor/cuda/cuda_gpu_executor.cc:941] successful NUMA node read from SysFS had negative value (-1), but there must be at least one NUMA node, so returning NUMA node zero\n",
      "2022-08-19 12:10:37.230650: I tensorflow/core/common_runtime/gpu/gpu_device.cc:1862] Adding visible gpu devices: 0\n",
      "2022-08-19 12:10:37.231656: I tensorflow/core/platform/cpu_feature_guard.cc:142] This TensorFlow binary is optimized with oneAPI Deep Neural Network Library (oneDNN) to use the following CPU instructions in performance-critical operations:  SSE4.1 SSE4.2 AVX AVX2 FMA\n",
      "To enable them in other operations, rebuild TensorFlow with the appropriate compiler flags.\n",
      "2022-08-19 12:10:37.231942: I tensorflow/compiler/jit/xla_gpu_device.cc:99] Not creating XLA devices, tf_xla_enable_xla_devices not set\n",
      "2022-08-19 12:10:37.232076: I tensorflow/stream_executor/cuda/cuda_gpu_executor.cc:941] successful NUMA node read from SysFS had negative value (-1), but there must be at least one NUMA node, so returning NUMA node zero\n",
      "2022-08-19 12:10:37.232679: I tensorflow/core/common_runtime/gpu/gpu_device.cc:1720] Found device 0 with properties: \n",
      "pciBusID: 0000:00:04.0 name: Tesla T4 computeCapability: 7.5\n",
      "coreClock: 1.59GHz coreCount: 40 deviceMemorySize: 14.75GiB deviceMemoryBandwidth: 298.08GiB/s\n",
      "2022-08-19 12:10:37.232720: I tensorflow/stream_executor/platform/default/dso_loader.cc:49] Successfully opened dynamic library libcudart.so.10.1\n",
      "2022-08-19 12:10:37.232739: I tensorflow/stream_executor/platform/default/dso_loader.cc:49] Successfully opened dynamic library libcublas.so.10\n",
      "2022-08-19 12:10:37.232752: I tensorflow/stream_executor/platform/default/dso_loader.cc:49] Successfully opened dynamic library libcublasLt.so.10\n",
      "2022-08-19 12:10:37.232764: I tensorflow/stream_executor/platform/default/dso_loader.cc:49] Successfully opened dynamic library libcufft.so.10\n",
      "2022-08-19 12:10:37.232776: I tensorflow/stream_executor/platform/default/dso_loader.cc:49] Successfully opened dynamic library libcurand.so.10\n",
      "2022-08-19 12:10:37.232789: I tensorflow/stream_executor/platform/default/dso_loader.cc:49] Successfully opened dynamic library libcusolver.so.10\n",
      "2022-08-19 12:10:37.232803: I tensorflow/stream_executor/platform/default/dso_loader.cc:49] Successfully opened dynamic library libcusparse.so.10\n",
      "2022-08-19 12:10:37.232815: I tensorflow/stream_executor/platform/default/dso_loader.cc:49] Successfully opened dynamic library libcudnn.so.7\n",
      "2022-08-19 12:10:37.232883: I tensorflow/stream_executor/cuda/cuda_gpu_executor.cc:941] successful NUMA node read from SysFS had negative value (-1), but there must be at least one NUMA node, so returning NUMA node zero\n",
      "2022-08-19 12:10:37.233470: I tensorflow/stream_executor/cuda/cuda_gpu_executor.cc:941] successful NUMA node read from SysFS had negative value (-1), but there must be at least one NUMA node, so returning NUMA node zero\n",
      "2022-08-19 12:10:37.233986: I tensorflow/core/common_runtime/gpu/gpu_device.cc:1862] Adding visible gpu devices: 0\n",
      "2022-08-19 12:10:37.234934: I tensorflow/stream_executor/platform/default/dso_loader.cc:49] Successfully opened dynamic library libcudart.so.10.1\n",
      "2022-08-19 12:10:38.954386: I tensorflow/core/common_runtime/gpu/gpu_device.cc:1261] Device interconnect StreamExecutor with strength 1 edge matrix:\n",
      "2022-08-19 12:10:38.954418: I tensorflow/core/common_runtime/gpu/gpu_device.cc:1267]      0 \n",
      "2022-08-19 12:10:38.954426: I tensorflow/core/common_runtime/gpu/gpu_device.cc:1280] 0:   N \n",
      "2022-08-19 12:10:38.955561: I tensorflow/stream_executor/cuda/cuda_gpu_executor.cc:941] successful NUMA node read from SysFS had negative value (-1), but there must be at least one NUMA node, so returning NUMA node zero\n",
      "2022-08-19 12:10:38.956209: I tensorflow/stream_executor/cuda/cuda_gpu_executor.cc:941] successful NUMA node read from SysFS had negative value (-1), but there must be at least one NUMA node, so returning NUMA node zero\n",
      "2022-08-19 12:10:38.957004: I tensorflow/stream_executor/cuda/cuda_gpu_executor.cc:941] successful NUMA node read from SysFS had negative value (-1), but there must be at least one NUMA node, so returning NUMA node zero\n",
      "2022-08-19 12:10:38.957645: I tensorflow/core/common_runtime/gpu/gpu_device.cc:1406] Created TensorFlow device (/job:localhost/replica:0/task:0/device:GPU:0 with 13873 MB memory) -> physical GPU (device: 0, name: Tesla T4, pci bus id: 0000:00:04.0, compute capability: 7.5)\n"
     ]
    }
   ],
   "source": [
    "ResNet50_MODEL = tf.keras.applications.ResNet50(input_shape = (32,32,3), \n",
    "                                                include_top = False,\n",
    "                                                weights = 'imagenet')"
   ]
  },
  {
   "cell_type": "code",
   "execution_count": 8,
   "id": "3ee89a54",
   "metadata": {},
   "outputs": [],
   "source": [
    "VGG16_model = tf.keras.applications.vgg16.VGG16(input_shape = (32,32,3), \n",
    "                                                include_top = False,\n",
    "                                                weights = 'imagenet')"
   ]
  },
  {
   "cell_type": "markdown",
   "id": "9cba2eb2",
   "metadata": {},
   "source": [
    "### Augmentation"
   ]
  },
  {
   "cell_type": "code",
   "execution_count": 9,
   "id": "7312b434",
   "metadata": {},
   "outputs": [],
   "source": [
    "from keras.preprocessing.image import ImageDataGenerator\n",
    "datagen2 = ImageDataGenerator(\n",
    "    rotation_range=15, #15도 회전\n",
    "    horizontal_flip = True, #상하반전\n",
    "    vertical_flip = True) # 좌우반전\n",
    "\n",
    "datagen3 = ImageDataGenerator(\n",
    "    #rotation_range=15, #15도 회전\n",
    "    horizontal_flip = True, #상하반전\n",
    "    vertical_flip = False) # 좌우반전\n",
    "\n",
    "datagen4 = ImageDataGenerator(\n",
    "    #rotation_range=15, #15도 회전\n",
    "    horizontal_flip = False, #상하반전\n",
    "    vertical_flip = True) # 좌우반전\n"
   ]
  },
  {
   "cell_type": "code",
   "execution_count": 10,
   "id": "ad4e108e",
   "metadata": {},
   "outputs": [],
   "source": [
    "#1번 솔루션\n",
    "x_squeeze_img_v1_train = np.squeeze(X_train_img[:, :, :, 0:3]) \n",
    "x_squeeze_img_v1_add = np.squeeze(X_add_img[:, :, :, 0:3]) \n",
    "\n",
    "\n",
    "#2번 솔루션\n",
    "x_squeeze_img_v2_train = np.concatenate((np.squeeze(X_train_img[:, :, :, 0:2]), np.squeeze(X_train_img[:, :, :, 3]).reshape(2000, 28, 28, 1)), axis = 3)\n",
    "x_squeeze_img_v2_add = np.concatenate((np.squeeze(X_add_img[:, :, :, 0:2]), np.squeeze(X_add_img[:, :, :, 3]).reshape(10000, 28, 28, 1)), axis = 3)\n",
    "\n",
    "#3번 솔루션\n",
    "x_squeeze_img_v3_train = np.concatenate((np.squeeze(X_train_img[:, :, :, 0]).reshape(2000, 28, 28, 1), np.squeeze(X_train_img[:, :, :, 2:4])), axis = 3)\n",
    "x_squeeze_img_v3_add = np.concatenate((np.squeeze(X_add_img[:, :, :, 0]).reshape(10000, 28, 28, 1), np.squeeze(X_add_img[:, :, :, 2:4])), axis = 3)\n",
    "\n",
    "\n",
    "#4번 솔루션\n",
    "x_squeeze_img_v4_train = np.squeeze(X_train_img[:, :, :, 1:4])\n",
    "x_squeeze_img_v4_add = np.squeeze(X_add_img[:, :, :, 1:4])"
   ]
  },
  {
   "cell_type": "code",
   "execution_count": 11,
   "id": "83aec7ee",
   "metadata": {},
   "outputs": [],
   "source": [
    "train_data_2 = datagen2.flow(x=x_squeeze_img_v2_train, y=Y_train, batch_size = 2000)\n",
    "train_data_3 = datagen3.flow(x=x_squeeze_img_v3_train, y=Y_train, batch_size = 2000)\n",
    "train_data_4 = datagen4.flow(x=x_squeeze_img_v4_train, y=Y_train, batch_size = 2000)\n",
    "\n",
    "train_X_2, train_y_2 = train_data_2.next()\n",
    "train_X_3, train_y_3 = train_data_3.next()\n",
    "train_X_4, train_y_4 = train_data_4.next()\n",
    "\n",
    "add_data_2 = datagen2.flow(x=x_squeeze_img_v2_add, batch_size = 10000)\n",
    "add_data_3 = datagen3.flow(x=x_squeeze_img_v3_add, batch_size = 10000)\n",
    "add_data_4 = datagen4.flow(x=x_squeeze_img_v4_add, batch_size = 10000)\n",
    "\n",
    "add_X_2 = add_data_2.next()\n",
    "add_X_3 = add_data_3.next()\n",
    "add_X_4 = add_data_4.next()"
   ]
  },
  {
   "cell_type": "code",
   "execution_count": 12,
   "id": "4a0c4e67",
   "metadata": {},
   "outputs": [
    {
     "name": "stdout",
     "output_type": "stream",
     "text": [
      "total_train_x (8000, 28, 28, 3)\n",
      "total_train_y (8000, 4)\n",
      "total_add_x (40000, 28, 28, 3)\n",
      "total_test_x (40000, 28, 28, 3)\n",
      "total_test_y (40000, 4)\n"
     ]
    }
   ],
   "source": [
    "total_train_x = np.concatenate((x_squeeze_img_v1_train, train_X_2, train_X_3, train_X_4), axis = 0)\n",
    "total_train_y = np.concatenate((Y_train, train_y_2, train_y_3, train_y_4), axis = 0)\n",
    "print('total_train_x', total_train_x.shape)\n",
    "print('total_train_y', total_train_y.shape)\n",
    "\n",
    "total_add_x = np.concatenate((x_squeeze_img_v1_add, add_X_2, add_X_3, add_X_4), axis = 0)\n",
    "print('total_add_x', total_add_x.shape)"
   ]
  },
  {
   "cell_type": "code",
   "execution_count": 13,
   "id": "682caa74",
   "metadata": {},
   "outputs": [
    {
     "name": "stdout",
     "output_type": "stream",
     "text": [
      "total_train_x:  8000\n",
      "total_train_y:  8000\n",
      "Barren Land: 12.5%\n",
      "Trees: 12.5%\n",
      "Grassland: 25.0%\n",
      "Other: 50.0%\n"
     ]
    },
    {
     "data": {
      "image/png": "[encoded data removed]",
      "text/plain": [
       "<Figure size 432x288 with 1 Axes>"
      ]
     },
     "metadata": {},
     "output_type": "display_data"
    },
    {
     "data": {
      "text/plain": [
       "array([0.125, 0.125, 0.25 , 0.5  ])"
      ]
     },
     "execution_count": 13,
     "metadata": {},
     "output_type": "execute_result"
    }
   ],
   "source": [
    "print('total_train_x: ',len(total_train_x))\n",
    "print('total_train_y: ',len(total_train_y))\n",
    "Data_visualization(total_train_y)"
   ]
  },
  {
   "cell_type": "markdown",
   "id": "aedaa557",
   "metadata": {},
   "source": [
    "### Pseudo Labeling"
   ]
  },
  {
   "cell_type": "markdown",
   "id": "57664ff2",
   "metadata": {},
   "source": [
    "##### Base Model train"
   ]
  },
  {
   "cell_type": "code",
   "execution_count": 14,
   "id": "7bb5b475",
   "metadata": {},
   "outputs": [],
   "source": [
    "x_train, x_test, y_train, y_test = train_test_split(total_train_x, total_train_y, test_size = 0.2)"
   ]
  },
  {
   "cell_type": "code",
   "execution_count": 15,
   "id": "90727c4a",
   "metadata": {},
   "outputs": [],
   "source": [
    "x_train, x_val, y_train, y_val = train_test_split(x_train, y_train, test_size = 0.2)"
   ]
  },
  {
   "cell_type": "code",
   "execution_count": 16,
   "id": "d16b355e",
   "metadata": {},
   "outputs": [
    {
     "name": "stdout",
     "output_type": "stream",
     "text": [
      "Model: \"sequential\"\n",
      "_________________________________________________________________\n",
      "Layer (type)                 Output Shape              Param #   \n",
      "=================================================================\n",
      "zero_padding2d (ZeroPadding2 (None, 32, 32, 3)         0         \n",
      "_________________________________________________________________\n",
      "resnet50 (Functional)        (None, 1, 1, 2048)        23587712  \n",
      "_________________________________________________________________\n",
      "flatten (Flatten)            (None, 2048)              0         \n",
      "_________________________________________________________________\n",
      "dense (Dense)                (None, 256)               524544    \n",
      "_________________________________________________________________\n",
      "dense_1 (Dense)              (None, 128)               32896     \n",
      "_________________________________________________________________\n",
      "dense_2 (Dense)              (None, 4)                 516       \n",
      "=================================================================\n",
      "Total params: 24,145,668\n",
      "Trainable params: 24,092,548\n",
      "Non-trainable params: 53,120\n",
      "_________________________________________________________________\n"
     ]
    }
   ],
   "source": [
    "img_shape = (x_squeeze_img_v1_train[1], x_squeeze_img_v1_train[2], x_squeeze_img_v1_train[3])\n",
    "model_res = models.Sequential()\n",
    "# For training from scratch change kernel_initializer to e.g.'VarianceScaling'\n",
    "model_res.add(layers.ZeroPadding2D(padding = (2,2), input_shape = (28, 28, 3)))\n",
    "model_res.add(ResNet50_MODEL)\n",
    "model_res.add(layers.Flatten())\n",
    "model_res.add(layers.Dense(256, activation='relu'))\n",
    "model_res.add(layers.Dense(128, activation='relu'))\n",
    "model_res.add(layers.Dense(4, activation='softmax'))\n",
    "\n",
    "model_res.compile(optimizer='Adam',\n",
    "                     loss='categorical_crossentropy',\n",
    "                     metrics=['acc'])\n",
    "\n",
    "model_res.summary()"
   ]
  },
  {
   "cell_type": "code",
   "execution_count": 17,
   "id": "de46014d",
   "metadata": {},
   "outputs": [
    {
     "name": "stdout",
     "output_type": "stream",
     "text": [
      "Model: \"sequential_1\"\n",
      "_________________________________________________________________\n",
      "Layer (type)                 Output Shape              Param #   \n",
      "=================================================================\n",
      "zero_padding2d_1 (ZeroPaddin (None, 32, 32, 3)         0         \n",
      "_________________________________________________________________\n",
      "vgg16 (Functional)           (None, 1, 1, 512)         14714688  \n",
      "_________________________________________________________________\n",
      "flatten_1 (Flatten)          (None, 512)               0         \n",
      "_________________________________________________________________\n",
      "dense_3 (Dense)              (None, 256)               131328    \n",
      "_________________________________________________________________\n",
      "dense_4 (Dense)              (None, 128)               32896     \n",
      "_________________________________________________________________\n",
      "dense_5 (Dense)              (None, 4)                 516       \n",
      "=================================================================\n",
      "Total params: 14,879,428\n",
      "Trainable params: 14,879,428\n",
      "Non-trainable params: 0\n",
      "_________________________________________________________________\n"
     ]
    }
   ],
   "source": [
    "img_shape = (X_train_img[1], X_train_img[2], X_train_img[3])\n",
    "model_vgg = models.Sequential()\n",
    "# For training from scratch change kernel_initializer to e.g.'VarianceScaling'\n",
    "model_vgg.add(layers.ZeroPadding2D(padding = (2,2), input_shape = (28, 28 ,3)))\n",
    "model_vgg.add(VGG16_model)\n",
    "model_vgg.add(layers.Flatten())\n",
    "model_vgg.add(layers.Dense(256, activation='relu'))\n",
    "model_vgg.add(layers.Dense(128, activation='relu'))\n",
    "model_vgg.add(layers.Dense(4, activation='softmax'))\n",
    "\n",
    "model_vgg.compile(optimizer='Adam',\n",
    "                     loss='categorical_crossentropy',\n",
    "                     metrics=['acc'])\n",
    "\n",
    "model_vgg.summary()"
   ]
  },
  {
   "cell_type": "code",
   "execution_count": 18,
   "id": "30967059",
   "metadata": {},
   "outputs": [
    {
     "name": "stdout",
     "output_type": "stream",
     "text": [
      "Model: \"sequential_2\"\n",
      "_________________________________________________________________\n",
      "Layer (type)                 Output Shape              Param #   \n",
      "=================================================================\n",
      "conv2d (Conv2D)              (None, 24, 24, 32)        2432      \n",
      "_________________________________________________________________\n",
      "max_pooling2d (MaxPooling2D) (None, 12, 12, 32)        0         \n",
      "_________________________________________________________________\n",
      "conv2d_1 (Conv2D)            (None, 12, 12, 64)        8256      \n",
      "_________________________________________________________________\n",
      "max_pooling2d_1 (MaxPooling2 (None, 6, 6, 64)          0         \n",
      "_________________________________________________________________\n",
      "dropout (Dropout)            (None, 6, 6, 64)          0         \n",
      "_________________________________________________________________\n",
      "flatten_2 (Flatten)          (None, 2304)              0         \n",
      "_________________________________________________________________\n",
      "dense_6 (Dense)              (None, 128)               295040    \n",
      "_________________________________________________________________\n",
      "dense_7 (Dense)              (None, 4)                 516       \n",
      "=================================================================\n",
      "Total params: 306,244\n",
      "Trainable params: 306,244\n",
      "Non-trainable params: 0\n",
      "_________________________________________________________________\n"
     ]
    }
   ],
   "source": [
    "model_base=models.Sequential()\n",
    "model_base.add( layers.Conv2D(32,(5,5),activation='relu',input_shape=(28,28,3)))\n",
    "model_base.add(layers.MaxPool2D((2,2)))\n",
    "model_base.add(layers.Conv2D(64,(2,2),activation='relu',padding='same'))\n",
    "model_base.add(layers.MaxPooling2D((2, 2)))\n",
    "model_base.add(layers.Dropout(0.25))\n",
    "model_base.add(layers.Flatten())\n",
    "\n",
    "model_base.add(layers.Dense(128, activation='relu'))\n",
    "model_base.add( layers.Dense(4, activation='softmax'))\n",
    "model_base.summary()\n",
    "model_base.compile(optimizer='adam', loss = 'categorical_crossentropy', metrics=['acc'])"
   ]
  },
  {
   "cell_type": "code",
   "execution_count": 19,
   "id": "6085cba6",
   "metadata": {
    "scrolled": true
   },
   "outputs": [
    {
     "name": "stdout",
     "output_type": "stream",
     "text": [
      "Epoch 1/50\n"
     ]
    },
    {
     "name": "stderr",
     "output_type": "stream",
     "text": [
      "2022-08-19 12:10:50.889863: I tensorflow/compiler/mlir/mlir_graph_optimization_pass.cc:116] None of the MLIR optimization passes are enabled (registered 2)\n",
      "2022-08-19 12:10:50.898618: I tensorflow/core/platform/profile_utils/cpu_utils.cc:112] CPU Frequency: 2299995000 Hz\n",
      "2022-08-19 12:10:54.894877: I tensorflow/stream_executor/platform/default/dso_loader.cc:49] Successfully opened dynamic library libcublas.so.10\n",
      "2022-08-19 12:10:55.527430: I tensorflow/stream_executor/platform/default/dso_loader.cc:49] Successfully opened dynamic library libcudnn.so.7\n",
      "2022-08-19 12:10:57.757769: W tensorflow/stream_executor/gpu/asm_compiler.cc:63] Running ptxas --version returned 256\n",
      "2022-08-19 12:10:57.825290: W tensorflow/stream_executor/gpu/redzone_allocator.cc:314] Internal: ptxas exited with non-zero error code 256, output: \n",
      "Relying on driver to perform ptx compilation. \n",
      "Modify $PATH to customize ptxas location.\n",
      "This message will be only logged once.\n"
     ]
    },
    {
     "name": "stdout",
     "output_type": "stream",
     "text": [
      "160/160 [==============================] - 47s 42ms/step - loss: 0.8507 - acc: 0.7248 - val_loss: 1.4667 - val_acc: 0.2508\n",
      "Epoch 2/50\n",
      "160/160 [==============================] - 6s 34ms/step - loss: 0.4434 - acc: 0.8439 - val_loss: 1.4977 - val_acc: 0.2508\n",
      "Epoch 3/50\n",
      "160/160 [==============================] - 6s 35ms/step - loss: 0.3130 - acc: 0.8944 - val_loss: 1.3462 - val_acc: 0.4852\n",
      "Epoch 4/50\n",
      "160/160 [==============================] - 6s 35ms/step - loss: 0.2766 - acc: 0.9149 - val_loss: 1.9912 - val_acc: 0.5000\n",
      "Epoch 5/50\n",
      "160/160 [==============================] - 6s 35ms/step - loss: 0.2275 - acc: 0.9152 - val_loss: 1.9398 - val_acc: 0.4102\n",
      "Epoch 6/50\n",
      "160/160 [==============================] - 6s 35ms/step - loss: 0.2597 - acc: 0.9155 - val_loss: 1.1255 - val_acc: 0.5719\n",
      "Epoch 7/50\n",
      "160/160 [==============================] - 6s 35ms/step - loss: 0.2805 - acc: 0.9102 - val_loss: 3.3027 - val_acc: 0.0656\n",
      "Epoch 8/50\n",
      "160/160 [==============================] - 6s 35ms/step - loss: 0.3131 - acc: 0.8879 - val_loss: 2.6589 - val_acc: 0.5133\n",
      "Epoch 9/50\n",
      "160/160 [==============================] - 6s 35ms/step - loss: 0.3258 - acc: 0.8795 - val_loss: 1.8340 - val_acc: 0.5906\n",
      "Epoch 10/50\n",
      "160/160 [==============================] - 6s 36ms/step - loss: 0.1892 - acc: 0.9311 - val_loss: 0.5906 - val_acc: 0.8297\n",
      "Epoch 11/50\n",
      "160/160 [==============================] - 6s 36ms/step - loss: 0.1714 - acc: 0.9359 - val_loss: 0.3245 - val_acc: 0.8813\n",
      "Epoch 12/50\n",
      "160/160 [==============================] - 6s 36ms/step - loss: 0.1411 - acc: 0.9564 - val_loss: 0.1956 - val_acc: 0.9305\n",
      "Epoch 13/50\n",
      "160/160 [==============================] - 6s 36ms/step - loss: 0.1437 - acc: 0.9470 - val_loss: 0.2546 - val_acc: 0.9078\n",
      "Epoch 14/50\n",
      "160/160 [==============================] - 6s 36ms/step - loss: 0.1011 - acc: 0.9667 - val_loss: 0.3984 - val_acc: 0.8867\n",
      "Epoch 15/50\n",
      "160/160 [==============================] - 6s 36ms/step - loss: 0.1005 - acc: 0.9671 - val_loss: 0.3488 - val_acc: 0.8836\n",
      "Epoch 16/50\n",
      "160/160 [==============================] - 6s 36ms/step - loss: 0.0984 - acc: 0.9639 - val_loss: 0.4677 - val_acc: 0.8477\n",
      "Epoch 17/50\n",
      "160/160 [==============================] - 6s 36ms/step - loss: 0.1115 - acc: 0.9600 - val_loss: 0.2233 - val_acc: 0.9305\n",
      "Epoch 18/50\n",
      "160/160 [==============================] - 6s 36ms/step - loss: 0.1014 - acc: 0.9666 - val_loss: 0.6273 - val_acc: 0.7875\n",
      "Epoch 19/50\n",
      "160/160 [==============================] - 6s 36ms/step - loss: 0.1291 - acc: 0.9551 - val_loss: 0.4298 - val_acc: 0.8687\n",
      "Epoch 20/50\n",
      "160/160 [==============================] - 6s 36ms/step - loss: 0.0836 - acc: 0.9698 - val_loss: 0.5516 - val_acc: 0.8633\n",
      "Epoch 21/50\n",
      "160/160 [==============================] - 6s 36ms/step - loss: 0.0859 - acc: 0.9724 - val_loss: 0.4182 - val_acc: 0.8648\n",
      "Epoch 22/50\n",
      "160/160 [==============================] - 6s 36ms/step - loss: 0.0920 - acc: 0.9690 - val_loss: 1.5954 - val_acc: 0.7047\n",
      "Epoch 23/50\n",
      "160/160 [==============================] - 6s 36ms/step - loss: 0.0924 - acc: 0.9709 - val_loss: 0.6858 - val_acc: 0.8227\n",
      "Epoch 24/50\n",
      "160/160 [==============================] - 6s 36ms/step - loss: 0.0835 - acc: 0.9750 - val_loss: 0.4725 - val_acc: 0.8617\n",
      "Epoch 25/50\n",
      "160/160 [==============================] - 6s 36ms/step - loss: 0.0727 - acc: 0.9773 - val_loss: 1.2606 - val_acc: 0.7578\n",
      "Epoch 26/50\n",
      "160/160 [==============================] - 6s 36ms/step - loss: 0.0990 - acc: 0.9670 - val_loss: 0.2302 - val_acc: 0.9227\n",
      "Epoch 27/50\n",
      "160/160 [==============================] - 6s 36ms/step - loss: 0.0671 - acc: 0.9776 - val_loss: 1.4162 - val_acc: 0.7203\n",
      "Epoch 28/50\n",
      "160/160 [==============================] - 6s 36ms/step - loss: 0.0753 - acc: 0.9756 - val_loss: 0.8403 - val_acc: 0.8172\n",
      "Epoch 29/50\n",
      "160/160 [==============================] - 6s 36ms/step - loss: 0.0801 - acc: 0.9731 - val_loss: 0.6367 - val_acc: 0.8188\n",
      "Epoch 30/50\n",
      "160/160 [==============================] - 6s 36ms/step - loss: 0.0622 - acc: 0.9823 - val_loss: 0.6724 - val_acc: 0.8273\n",
      "Epoch 31/50\n",
      "160/160 [==============================] - 6s 36ms/step - loss: 0.0745 - acc: 0.9775 - val_loss: 0.9143 - val_acc: 0.8016\n",
      "Epoch 32/50\n",
      "160/160 [==============================] - 6s 36ms/step - loss: 0.0641 - acc: 0.9817 - val_loss: 0.4756 - val_acc: 0.8859\n",
      "Epoch 33/50\n",
      "160/160 [==============================] - 6s 36ms/step - loss: 0.0613 - acc: 0.9827 - val_loss: 2.1231 - val_acc: 0.6969\n",
      "Epoch 34/50\n",
      "160/160 [==============================] - 6s 36ms/step - loss: 0.0603 - acc: 0.9784 - val_loss: 2.1231 - val_acc: 0.5266\n",
      "Epoch 35/50\n",
      "160/160 [==============================] - 6s 36ms/step - loss: 0.3363 - acc: 0.9010 - val_loss: 5.3898 - val_acc: 0.3555\n",
      "Epoch 36/50\n",
      "160/160 [==============================] - 6s 36ms/step - loss: 0.2557 - acc: 0.9175 - val_loss: 4.1844 - val_acc: 0.3945\n",
      "Epoch 37/50\n",
      "160/160 [==============================] - 6s 36ms/step - loss: 0.3736 - acc: 0.8712 - val_loss: 1.1203 - val_acc: 0.6875\n",
      "Epoch 38/50\n",
      "160/160 [==============================] - 6s 36ms/step - loss: 0.2595 - acc: 0.9095 - val_loss: 0.6180 - val_acc: 0.7945\n",
      "Epoch 39/50\n",
      "160/160 [==============================] - 6s 36ms/step - loss: 0.1749 - acc: 0.9451 - val_loss: 0.4567 - val_acc: 0.8609\n",
      "Epoch 40/50\n",
      "160/160 [==============================] - 6s 36ms/step - loss: 0.2611 - acc: 0.9056 - val_loss: 0.4432 - val_acc: 0.8484\n",
      "Epoch 41/50\n",
      "160/160 [==============================] - 6s 36ms/step - loss: 0.1541 - acc: 0.9476 - val_loss: 0.2387 - val_acc: 0.9070\n",
      "Epoch 42/50\n",
      "160/160 [==============================] - 6s 36ms/step - loss: 0.1011 - acc: 0.9677 - val_loss: 0.6671 - val_acc: 0.7984\n",
      "Epoch 43/50\n",
      "160/160 [==============================] - 6s 36ms/step - loss: 0.2209 - acc: 0.9285 - val_loss: 0.9561 - val_acc: 0.7922\n",
      "Epoch 44/50\n",
      "160/160 [==============================] - 6s 36ms/step - loss: 0.1468 - acc: 0.9545 - val_loss: 0.2987 - val_acc: 0.8914\n",
      "Epoch 45/50\n",
      "160/160 [==============================] - 6s 36ms/step - loss: 0.1001 - acc: 0.9689 - val_loss: 0.5398 - val_acc: 0.8398\n",
      "Epoch 46/50\n",
      "160/160 [==============================] - 6s 36ms/step - loss: 0.0733 - acc: 0.9747 - val_loss: 0.8132 - val_acc: 0.8008\n",
      "Epoch 47/50\n",
      "160/160 [==============================] - 6s 36ms/step - loss: 0.0760 - acc: 0.9729 - val_loss: 0.2851 - val_acc: 0.9227\n",
      "Epoch 48/50\n",
      "160/160 [==============================] - 6s 36ms/step - loss: 0.0464 - acc: 0.9855 - val_loss: 0.5306 - val_acc: 0.8531\n",
      "Epoch 49/50\n",
      "160/160 [==============================] - 6s 36ms/step - loss: 0.0436 - acc: 0.9861 - val_loss: 2.2909 - val_acc: 0.7039\n",
      "Epoch 50/50\n",
      "160/160 [==============================] - 6s 36ms/step - loss: 0.0491 - acc: 0.9851 - val_loss: 0.2084 - val_acc: 0.9367\n"
     ]
    }
   ],
   "source": [
    "history_res = model_res.fit(x_train, y_train, epochs=50, validation_data=(x_val, y_val))"
   ]
  },
  {
   "cell_type": "code",
   "execution_count": 20,
   "id": "83438c53",
   "metadata": {
    "scrolled": true
   },
   "outputs": [
    {
     "name": "stdout",
     "output_type": "stream",
     "text": [
      "Epoch 1/50\n",
      "160/160 [==============================] - 28s 30ms/step - loss: 1.1853 - acc: 0.5082 - val_loss: 0.7750 - val_acc: 0.6820\n",
      "Epoch 2/50\n",
      "160/160 [==============================] - 5s 28ms/step - loss: 0.7574 - acc: 0.6874 - val_loss: 0.6379 - val_acc: 0.7211\n",
      "Epoch 3/50\n",
      "160/160 [==============================] - 5s 29ms/step - loss: 0.6247 - acc: 0.7709 - val_loss: 0.4686 - val_acc: 0.8469\n",
      "Epoch 4/50\n",
      "160/160 [==============================] - 5s 29ms/step - loss: 0.5060 - acc: 0.8361 - val_loss: 0.4857 - val_acc: 0.8438\n",
      "Epoch 5/50\n",
      "160/160 [==============================] - 5s 29ms/step - loss: 0.5143 - acc: 0.8313 - val_loss: 0.5401 - val_acc: 0.8133\n",
      "Epoch 6/50\n",
      "160/160 [==============================] - 5s 29ms/step - loss: 0.7254 - acc: 0.7628 - val_loss: 0.7165 - val_acc: 0.6609\n",
      "Epoch 7/50\n",
      "160/160 [==============================] - 5s 29ms/step - loss: 0.6386 - acc: 0.7687 - val_loss: 0.5153 - val_acc: 0.8234\n",
      "Epoch 8/50\n",
      "160/160 [==============================] - 5s 29ms/step - loss: 0.4848 - acc: 0.8449 - val_loss: 0.5134 - val_acc: 0.8016\n",
      "Epoch 9/50\n",
      "160/160 [==============================] - 5s 29ms/step - loss: 0.4540 - acc: 0.8423 - val_loss: 0.4698 - val_acc: 0.8609\n",
      "Epoch 10/50\n",
      "160/160 [==============================] - 5s 29ms/step - loss: 0.4293 - acc: 0.8552 - val_loss: 0.7048 - val_acc: 0.6477\n",
      "Epoch 11/50\n",
      "160/160 [==============================] - 5s 29ms/step - loss: 0.5433 - acc: 0.7851 - val_loss: 0.8970 - val_acc: 0.8180\n",
      "Epoch 12/50\n",
      "160/160 [==============================] - 5s 29ms/step - loss: 0.4898 - acc: 0.8422 - val_loss: 0.3661 - val_acc: 0.8664\n",
      "Epoch 13/50\n",
      "160/160 [==============================] - 5s 29ms/step - loss: 0.4789 - acc: 0.8339 - val_loss: 0.5292 - val_acc: 0.8102\n",
      "Epoch 14/50\n",
      "160/160 [==============================] - 5s 29ms/step - loss: 0.4305 - acc: 0.8529 - val_loss: 0.3781 - val_acc: 0.8750\n",
      "Epoch 15/50\n",
      "160/160 [==============================] - 5s 29ms/step - loss: 0.3881 - acc: 0.8727 - val_loss: 0.3451 - val_acc: 0.8906\n",
      "Epoch 16/50\n",
      "160/160 [==============================] - 5s 28ms/step - loss: 0.3261 - acc: 0.8928 - val_loss: 0.2988 - val_acc: 0.8969\n",
      "Epoch 17/50\n",
      "160/160 [==============================] - 5s 29ms/step - loss: 0.2851 - acc: 0.9008 - val_loss: 0.2509 - val_acc: 0.9187\n",
      "Epoch 18/50\n",
      "160/160 [==============================] - 5s 29ms/step - loss: 0.3348 - acc: 0.8996 - val_loss: 0.5393 - val_acc: 0.8234\n",
      "Epoch 19/50\n",
      "160/160 [==============================] - 5s 28ms/step - loss: 0.4529 - acc: 0.8381 - val_loss: 0.4475 - val_acc: 0.8664\n",
      "Epoch 20/50\n",
      "160/160 [==============================] - 5s 29ms/step - loss: 0.3404 - acc: 0.8888 - val_loss: 0.3835 - val_acc: 0.8703\n",
      "Epoch 21/50\n",
      "160/160 [==============================] - 5s 29ms/step - loss: 0.2966 - acc: 0.8983 - val_loss: 0.2627 - val_acc: 0.9133\n",
      "Epoch 22/50\n",
      "160/160 [==============================] - 5s 28ms/step - loss: 0.2356 - acc: 0.9177 - val_loss: 0.3699 - val_acc: 0.8750\n",
      "Epoch 23/50\n",
      "160/160 [==============================] - 5s 29ms/step - loss: 0.2381 - acc: 0.9199 - val_loss: 0.2788 - val_acc: 0.9062\n",
      "Epoch 24/50\n",
      "160/160 [==============================] - 5s 29ms/step - loss: 0.2427 - acc: 0.9195 - val_loss: 0.3133 - val_acc: 0.8883\n",
      "Epoch 25/50\n",
      "160/160 [==============================] - 5s 29ms/step - loss: 0.2370 - acc: 0.9189 - val_loss: 0.9998 - val_acc: 0.5055\n",
      "Epoch 26/50\n",
      "160/160 [==============================] - 5s 29ms/step - loss: 0.8496 - acc: 0.6482 - val_loss: 0.6238 - val_acc: 0.7875\n",
      "Epoch 27/50\n",
      "160/160 [==============================] - 5s 29ms/step - loss: 0.5773 - acc: 0.7789 - val_loss: 0.4085 - val_acc: 0.8578\n",
      "Epoch 28/50\n",
      "160/160 [==============================] - 5s 29ms/step - loss: 0.3439 - acc: 0.8781 - val_loss: 0.3191 - val_acc: 0.8828\n",
      "Epoch 29/50\n",
      "160/160 [==============================] - 5s 29ms/step - loss: 0.2957 - acc: 0.9041 - val_loss: 0.2923 - val_acc: 0.8852\n",
      "Epoch 30/50\n",
      "160/160 [==============================] - 5s 29ms/step - loss: 0.2360 - acc: 0.9136 - val_loss: 0.2726 - val_acc: 0.9062\n",
      "Epoch 31/50\n",
      "160/160 [==============================] - 5s 29ms/step - loss: 0.2031 - acc: 0.9271 - val_loss: 0.2453 - val_acc: 0.9203\n",
      "Epoch 32/50\n",
      "160/160 [==============================] - 5s 29ms/step - loss: 0.1929 - acc: 0.9342 - val_loss: 0.2578 - val_acc: 0.9102\n",
      "Epoch 33/50\n",
      "160/160 [==============================] - 5s 29ms/step - loss: 0.1355 - acc: 0.9558 - val_loss: 0.2361 - val_acc: 0.9219\n",
      "Epoch 34/50\n",
      "160/160 [==============================] - 5s 29ms/step - loss: 0.1219 - acc: 0.9606 - val_loss: 0.2927 - val_acc: 0.8938\n",
      "Epoch 35/50\n",
      "160/160 [==============================] - 5s 29ms/step - loss: 0.1830 - acc: 0.9408 - val_loss: 0.2923 - val_acc: 0.8938\n",
      "Epoch 36/50\n",
      "160/160 [==============================] - 5s 29ms/step - loss: 0.1913 - acc: 0.9322 - val_loss: 0.2518 - val_acc: 0.9102\n",
      "Epoch 37/50\n",
      "160/160 [==============================] - 5s 29ms/step - loss: 0.1625 - acc: 0.9449 - val_loss: 0.2504 - val_acc: 0.9273\n",
      "Epoch 38/50\n",
      "160/160 [==============================] - 5s 29ms/step - loss: 0.1461 - acc: 0.9523 - val_loss: 0.2469 - val_acc: 0.9141\n",
      "Epoch 39/50\n",
      "160/160 [==============================] - 5s 29ms/step - loss: 0.1367 - acc: 0.9580 - val_loss: 0.2023 - val_acc: 0.9320\n",
      "Epoch 40/50\n",
      "160/160 [==============================] - 5s 29ms/step - loss: 0.1179 - acc: 0.9591 - val_loss: 0.1933 - val_acc: 0.9266\n",
      "Epoch 41/50\n",
      "160/160 [==============================] - 5s 29ms/step - loss: 0.1862 - acc: 0.9459 - val_loss: 0.1944 - val_acc: 0.9383\n",
      "Epoch 42/50\n",
      "160/160 [==============================] - 5s 29ms/step - loss: 0.1398 - acc: 0.9567 - val_loss: 0.2364 - val_acc: 0.9172\n",
      "Epoch 43/50\n",
      "160/160 [==============================] - 5s 29ms/step - loss: 0.1399 - acc: 0.9533 - val_loss: 0.2058 - val_acc: 0.9305\n",
      "Epoch 44/50\n",
      "160/160 [==============================] - 5s 29ms/step - loss: 0.1036 - acc: 0.9688 - val_loss: 0.1918 - val_acc: 0.9312\n",
      "Epoch 45/50\n",
      "160/160 [==============================] - 5s 29ms/step - loss: 0.0938 - acc: 0.9695 - val_loss: 0.2373 - val_acc: 0.9180\n",
      "Epoch 46/50\n",
      "160/160 [==============================] - 5s 29ms/step - loss: 0.0987 - acc: 0.9713 - val_loss: 0.1743 - val_acc: 0.9461\n",
      "Epoch 47/50\n",
      "160/160 [==============================] - 5s 29ms/step - loss: 0.0749 - acc: 0.9781 - val_loss: 0.2071 - val_acc: 0.9422\n",
      "Epoch 48/50\n",
      "160/160 [==============================] - 5s 29ms/step - loss: 0.0690 - acc: 0.9744 - val_loss: 0.1869 - val_acc: 0.9461\n",
      "Epoch 49/50\n",
      "160/160 [==============================] - 5s 29ms/step - loss: 0.0746 - acc: 0.9775 - val_loss: 0.2307 - val_acc: 0.9398\n",
      "Epoch 50/50\n",
      "160/160 [==============================] - 5s 29ms/step - loss: 0.0875 - acc: 0.9731 - val_loss: 0.2029 - val_acc: 0.9391\n"
     ]
    }
   ],
   "source": [
    "history_vgg = model_vgg.fit(x_train, y_train, epochs=50, validation_data=(x_val, y_val))"
   ]
  },
  {
   "cell_type": "code",
   "execution_count": 21,
   "id": "4fe0c9d3",
   "metadata": {
    "scrolled": true
   },
   "outputs": [
    {
     "name": "stdout",
     "output_type": "stream",
     "text": [
      "Epoch 1/50\n",
      "160/160 [==============================] - 4s 4ms/step - loss: 1.0158 - acc: 0.5777 - val_loss: 0.6288 - val_acc: 0.7570\n",
      "Epoch 2/50\n",
      "160/160 [==============================] - 0s 3ms/step - loss: 0.5879 - acc: 0.7655 - val_loss: 0.4869 - val_acc: 0.8328\n",
      "Epoch 3/50\n",
      "160/160 [==============================] - 0s 3ms/step - loss: 0.5132 - acc: 0.7955 - val_loss: 0.4623 - val_acc: 0.7922\n",
      "Epoch 4/50\n",
      "160/160 [==============================] - 0s 3ms/step - loss: 0.4616 - acc: 0.8085 - val_loss: 0.5593 - val_acc: 0.8078\n",
      "Epoch 5/50\n",
      "160/160 [==============================] - 0s 2ms/step - loss: 0.4766 - acc: 0.7996 - val_loss: 0.4616 - val_acc: 0.8195\n",
      "Epoch 6/50\n",
      "160/160 [==============================] - 0s 3ms/step - loss: 0.3791 - acc: 0.8504 - val_loss: 0.3279 - val_acc: 0.8711\n",
      "Epoch 7/50\n",
      "160/160 [==============================] - 0s 3ms/step - loss: 0.3317 - acc: 0.8639 - val_loss: 0.5011 - val_acc: 0.8141\n",
      "Epoch 8/50\n",
      "160/160 [==============================] - 0s 2ms/step - loss: 0.3317 - acc: 0.8733 - val_loss: 0.3334 - val_acc: 0.8664\n",
      "Epoch 9/50\n",
      "160/160 [==============================] - 0s 2ms/step - loss: 0.2771 - acc: 0.8914 - val_loss: 0.4789 - val_acc: 0.8094\n",
      "Epoch 10/50\n",
      "160/160 [==============================] - 0s 3ms/step - loss: 0.2998 - acc: 0.8817 - val_loss: 0.3821 - val_acc: 0.8352\n",
      "Epoch 11/50\n",
      "160/160 [==============================] - 0s 3ms/step - loss: 0.3061 - acc: 0.8725 - val_loss: 0.3150 - val_acc: 0.8703\n",
      "Epoch 12/50\n",
      "160/160 [==============================] - 0s 3ms/step - loss: 0.2543 - acc: 0.9028 - val_loss: 0.3306 - val_acc: 0.8648\n",
      "Epoch 13/50\n",
      "160/160 [==============================] - 0s 3ms/step - loss: 0.2807 - acc: 0.8923 - val_loss: 0.3368 - val_acc: 0.8734\n",
      "Epoch 14/50\n",
      "160/160 [==============================] - 0s 2ms/step - loss: 0.2542 - acc: 0.9050 - val_loss: 0.4630 - val_acc: 0.8516\n",
      "Epoch 15/50\n",
      "160/160 [==============================] - 0s 2ms/step - loss: 0.2554 - acc: 0.9040 - val_loss: 0.3247 - val_acc: 0.8742\n",
      "Epoch 16/50\n",
      "160/160 [==============================] - 0s 2ms/step - loss: 0.2076 - acc: 0.9237 - val_loss: 0.2819 - val_acc: 0.8930\n",
      "Epoch 17/50\n",
      "160/160 [==============================] - 0s 2ms/step - loss: 0.1982 - acc: 0.9225 - val_loss: 0.2958 - val_acc: 0.8969\n",
      "Epoch 18/50\n",
      "160/160 [==============================] - 0s 2ms/step - loss: 0.1856 - acc: 0.9329 - val_loss: 0.2804 - val_acc: 0.8961\n",
      "Epoch 19/50\n",
      "160/160 [==============================] - 0s 2ms/step - loss: 0.1741 - acc: 0.9325 - val_loss: 0.3649 - val_acc: 0.8562\n",
      "Epoch 20/50\n",
      "160/160 [==============================] - 0s 2ms/step - loss: 0.1744 - acc: 0.9344 - val_loss: 0.2574 - val_acc: 0.9047\n",
      "Epoch 21/50\n",
      "160/160 [==============================] - 0s 3ms/step - loss: 0.1692 - acc: 0.9322 - val_loss: 0.2706 - val_acc: 0.9023\n",
      "Epoch 22/50\n",
      "160/160 [==============================] - 0s 2ms/step - loss: 0.1746 - acc: 0.9365 - val_loss: 0.3988 - val_acc: 0.8594\n",
      "Epoch 23/50\n",
      "160/160 [==============================] - 0s 3ms/step - loss: 0.1566 - acc: 0.9388 - val_loss: 0.3497 - val_acc: 0.8742\n",
      "Epoch 24/50\n",
      "160/160 [==============================] - 0s 2ms/step - loss: 0.1971 - acc: 0.9226 - val_loss: 0.2331 - val_acc: 0.9141\n",
      "Epoch 25/50\n",
      "160/160 [==============================] - 0s 2ms/step - loss: 0.1379 - acc: 0.9468 - val_loss: 0.2661 - val_acc: 0.9031\n",
      "Epoch 26/50\n",
      "160/160 [==============================] - 0s 3ms/step - loss: 0.1657 - acc: 0.9384 - val_loss: 0.2285 - val_acc: 0.9156\n",
      "Epoch 27/50\n",
      "160/160 [==============================] - 0s 2ms/step - loss: 0.1356 - acc: 0.9513 - val_loss: 0.2779 - val_acc: 0.8977\n",
      "Epoch 28/50\n",
      "160/160 [==============================] - 0s 2ms/step - loss: 0.1432 - acc: 0.9449 - val_loss: 0.2637 - val_acc: 0.8984\n",
      "Epoch 29/50\n",
      "160/160 [==============================] - 0s 3ms/step - loss: 0.1533 - acc: 0.9430 - val_loss: 0.2531 - val_acc: 0.9148\n",
      "Epoch 30/50\n",
      "160/160 [==============================] - 0s 3ms/step - loss: 0.1072 - acc: 0.9618 - val_loss: 0.4287 - val_acc: 0.8539\n",
      "Epoch 31/50\n",
      "160/160 [==============================] - 0s 2ms/step - loss: 0.1424 - acc: 0.9426 - val_loss: 0.2460 - val_acc: 0.9094\n",
      "Epoch 32/50\n",
      "160/160 [==============================] - 0s 2ms/step - loss: 0.1162 - acc: 0.9570 - val_loss: 0.3330 - val_acc: 0.8836\n",
      "Epoch 33/50\n",
      "160/160 [==============================] - 0s 2ms/step - loss: 0.1147 - acc: 0.9579 - val_loss: 0.2609 - val_acc: 0.9039\n",
      "Epoch 34/50\n",
      "160/160 [==============================] - 0s 3ms/step - loss: 0.1252 - acc: 0.9546 - val_loss: 0.2826 - val_acc: 0.9016\n",
      "Epoch 35/50\n",
      "160/160 [==============================] - 0s 2ms/step - loss: 0.1151 - acc: 0.9559 - val_loss: 0.2157 - val_acc: 0.9305\n",
      "Epoch 36/50\n",
      "160/160 [==============================] - 0s 2ms/step - loss: 0.1181 - acc: 0.9528 - val_loss: 0.2471 - val_acc: 0.9164\n",
      "Epoch 37/50\n",
      "160/160 [==============================] - 0s 3ms/step - loss: 0.1079 - acc: 0.9615 - val_loss: 0.2467 - val_acc: 0.9187\n",
      "Epoch 38/50\n",
      "160/160 [==============================] - 0s 2ms/step - loss: 0.0930 - acc: 0.9659 - val_loss: 0.2956 - val_acc: 0.9102\n",
      "Epoch 39/50\n",
      "160/160 [==============================] - 0s 2ms/step - loss: 0.1066 - acc: 0.9623 - val_loss: 0.2340 - val_acc: 0.9172\n",
      "Epoch 40/50\n",
      "160/160 [==============================] - 0s 2ms/step - loss: 0.1081 - acc: 0.9590 - val_loss: 0.3412 - val_acc: 0.8836\n",
      "Epoch 41/50\n",
      "160/160 [==============================] - 0s 2ms/step - loss: 0.1237 - acc: 0.9524 - val_loss: 0.2709 - val_acc: 0.9062\n",
      "Epoch 42/50\n",
      "160/160 [==============================] - 0s 2ms/step - loss: 0.0978 - acc: 0.9675 - val_loss: 0.3121 - val_acc: 0.8977\n",
      "Epoch 43/50\n",
      "160/160 [==============================] - 0s 2ms/step - loss: 0.1271 - acc: 0.9518 - val_loss: 0.2701 - val_acc: 0.9109\n",
      "Epoch 44/50\n",
      "160/160 [==============================] - 0s 2ms/step - loss: 0.1112 - acc: 0.9585 - val_loss: 0.2678 - val_acc: 0.9203\n",
      "Epoch 45/50\n",
      "160/160 [==============================] - 0s 3ms/step - loss: 0.1069 - acc: 0.9592 - val_loss: 0.2698 - val_acc: 0.9133\n",
      "Epoch 46/50\n",
      "160/160 [==============================] - 0s 2ms/step - loss: 0.0949 - acc: 0.9658 - val_loss: 0.2722 - val_acc: 0.9117\n",
      "Epoch 47/50\n",
      "160/160 [==============================] - 0s 2ms/step - loss: 0.1144 - acc: 0.9592 - val_loss: 0.3328 - val_acc: 0.9086\n",
      "Epoch 48/50\n",
      "160/160 [==============================] - 0s 3ms/step - loss: 0.1020 - acc: 0.9615 - val_loss: 0.2608 - val_acc: 0.9172\n",
      "Epoch 49/50\n",
      "160/160 [==============================] - 0s 2ms/step - loss: 0.0802 - acc: 0.9731 - val_loss: 0.2942 - val_acc: 0.9164\n",
      "Epoch 50/50\n",
      "160/160 [==============================] - 0s 3ms/step - loss: 0.0814 - acc: 0.9710 - val_loss: 0.2628 - val_acc: 0.9266\n"
     ]
    }
   ],
   "source": [
    "history_base = model_base.fit(x_train, y_train, epochs=50, validation_data=(x_val, y_val))"
   ]
  },
  {
   "cell_type": "code",
   "execution_count": 22,
   "id": "a517d585",
   "metadata": {},
   "outputs": [
    {
     "name": "stdout",
     "output_type": "stream",
     "text": [
      "50   0.936718761920929\n"
     ]
    },
    {
     "data": {
      "image/png": "[encoded data removed]",
      "text/plain": [
       "<Figure size 432x288 with 1 Axes>"
      ]
     },
     "metadata": {
      "needs_background": "light"
     },
     "output_type": "display_data"
    },
    {
     "name": "stdout",
     "output_type": "stream",
     "text": [
      "50/50 [==============================] - 0s 9ms/step - loss: 0.1821 - acc: 0.9450\n",
      "[0.18212279677391052, 0.9449999928474426]\n"
     ]
    },
    {
     "data": {
      "image/png": "[encoded data removed]",
      "text/plain": [
       "<Figure size 432x288 with 2 Axes>"
      ]
     },
     "metadata": {
      "needs_background": "light"
     },
     "output_type": "display_data"
    }
   ],
   "source": [
    "res_y_vaccuracy = history_res.history['val_acc'] \n",
    "res_y_accuracy = history_res.history['acc']\n",
    "\n",
    "visulization_by_epochs(res_y_vaccuracy, res_y_accuracy)\n",
    "\n",
    "result = model_res.evaluate(x_test, y_test)\n",
    "print(result)\n",
    "\n",
    "#confusion matrix를 확인하고 싶었지만, 해당 값이 분류모델로 되어있는 것이 아닌 상대적 확률로써 존재\n",
    "y_predict = model_res.predict(x_test)\n",
    "\n",
    "draw_confusionmatrix(y_predict, y_test)"
   ]
  },
  {
   "cell_type": "code",
   "execution_count": 23,
   "id": "fd7750c2",
   "metadata": {},
   "outputs": [
    {
     "name": "stdout",
     "output_type": "stream",
     "text": [
      "46   0.946093738079071\n"
     ]
    },
    {
     "data": {
      "image/png": "[encoded data removed]",
      "text/plain": [
       "<Figure size 432x288 with 1 Axes>"
      ]
     },
     "metadata": {
      "needs_background": "light"
     },
     "output_type": "display_data"
    },
    {
     "name": "stdout",
     "output_type": "stream",
     "text": [
      "50/50 [==============================] - 0s 7ms/step - loss: 0.2111 - acc: 0.9456\n",
      "[0.21110644936561584, 0.9456250071525574]\n"
     ]
    },
    {
     "data": {
      "image/png": "[encoded data removed]",
      "text/plain": [
       "<Figure size 432x288 with 2 Axes>"
      ]
     },
     "metadata": {
      "needs_background": "light"
     },
     "output_type": "display_data"
    }
   ],
   "source": [
    "vgg_y_vaccuracy = history_vgg.history['val_acc'] \n",
    "vgg_y_accuracy = history_vgg.history['acc']\n",
    "\n",
    "visulization_by_epochs(vgg_y_vaccuracy, vgg_y_accuracy)\n",
    "\n",
    "result = model_vgg.evaluate(x_test, y_test)\n",
    "print(result)\n",
    "\n",
    "#confusion matrix를 확인하고 싶었지만, 해당 값이 분류모델로 되어있는 것이 아닌 상대적 확률로써 존재\n",
    "y_predict = model_vgg.predict(x_test)\n",
    "\n",
    "draw_confusionmatrix(y_predict, y_test)"
   ]
  },
  {
   "cell_type": "code",
   "execution_count": 24,
   "id": "97615f66",
   "metadata": {},
   "outputs": [
    {
     "name": "stdout",
     "output_type": "stream",
     "text": [
      "35   0.930468738079071\n"
     ]
    },
    {
     "data": {
      "image/png": "[encoded data removed]",
      "text/plain": [
       "<Figure size 432x288 with 1 Axes>"
      ]
     },
     "metadata": {
      "needs_background": "light"
     },
     "output_type": "display_data"
    },
    {
     "name": "stdout",
     "output_type": "stream",
     "text": [
      "50/50 [==============================] - 0s 1ms/step - loss: 0.2143 - acc: 0.9231\n",
      "[0.2142539918422699, 0.9231250286102295]\n"
     ]
    },
    {
     "data": {
      "image/png": "[encoded data removed]",
      "text/plain": [
       "<Figure size 432x288 with 2 Axes>"
      ]
     },
     "metadata": {
      "needs_background": "light"
     },
     "output_type": "display_data"
    }
   ],
   "source": [
    "base_y_vaccuracy = history_base.history['val_acc'] \n",
    "base_y_accuracy = history_base.history['acc']\n",
    "\n",
    "visulization_by_epochs(base_y_vaccuracy, base_y_accuracy)\n",
    "\n",
    "result = model_base.evaluate(x_test, y_test)\n",
    "print(result)\n",
    "\n",
    "#confusion matrix를 확인하고 싶었지만, 해당 값이 분류모델로 되어있는 것이 아닌 상대적 확률로써 존재\n",
    "y_predict = model_base.predict(x_test)\n",
    "\n",
    "draw_confusionmatrix(y_predict, y_test)"
   ]
  },
  {
   "cell_type": "markdown",
   "id": "151cbee9",
   "metadata": {},
   "source": [
    "##### epochs 조정\n",
    "###### res = 50-->유지\n",
    "###### vgg = 30\n",
    "###### base = 70"
   ]
  },
  {
   "cell_type": "code",
   "execution_count": 25,
   "id": "0ee5da01",
   "metadata": {
    "scrolled": true
   },
   "outputs": [
    {
     "name": "stdout",
     "output_type": "stream",
     "text": [
      "Epoch 1/30\n",
      "160/160 [==============================] - 5s 29ms/step - loss: 0.1542 - acc: 0.9566 - val_loss: 0.2397 - val_acc: 0.9195\n",
      "Epoch 2/30\n",
      "160/160 [==============================] - 5s 29ms/step - loss: 0.1286 - acc: 0.9545 - val_loss: 0.2316 - val_acc: 0.9367\n",
      "Epoch 3/30\n",
      "160/160 [==============================] - 5s 29ms/step - loss: 0.0964 - acc: 0.9662 - val_loss: 0.3187 - val_acc: 0.9273\n",
      "Epoch 4/30\n",
      "160/160 [==============================] - 5s 29ms/step - loss: 0.0778 - acc: 0.9748 - val_loss: 0.2120 - val_acc: 0.9391\n",
      "Epoch 5/30\n",
      "160/160 [==============================] - 5s 29ms/step - loss: 0.0951 - acc: 0.9676 - val_loss: 0.3141 - val_acc: 0.9078\n",
      "Epoch 6/30\n",
      "160/160 [==============================] - 5s 29ms/step - loss: 0.1221 - acc: 0.9596 - val_loss: 0.2052 - val_acc: 0.9367\n",
      "Epoch 7/30\n",
      "160/160 [==============================] - 5s 29ms/step - loss: 0.0785 - acc: 0.9744 - val_loss: 0.1949 - val_acc: 0.9352\n",
      "Epoch 8/30\n",
      "160/160 [==============================] - 5s 29ms/step - loss: 0.0718 - acc: 0.9760 - val_loss: 0.1877 - val_acc: 0.9344\n",
      "Epoch 9/30\n",
      "160/160 [==============================] - 5s 29ms/step - loss: 0.0876 - acc: 0.9766 - val_loss: 0.3594 - val_acc: 0.9000\n",
      "Epoch 10/30\n",
      "160/160 [==============================] - 5s 29ms/step - loss: 0.1377 - acc: 0.9578 - val_loss: 0.2240 - val_acc: 0.9305\n",
      "Epoch 11/30\n",
      "160/160 [==============================] - 5s 29ms/step - loss: 0.0506 - acc: 0.9840 - val_loss: 0.2483 - val_acc: 0.9328\n",
      "Epoch 12/30\n",
      "160/160 [==============================] - 5s 29ms/step - loss: 0.0610 - acc: 0.9801 - val_loss: 0.1784 - val_acc: 0.9445\n",
      "Epoch 13/30\n",
      "160/160 [==============================] - 5s 28ms/step - loss: 0.0645 - acc: 0.9803 - val_loss: 0.4279 - val_acc: 0.9047\n",
      "Epoch 14/30\n",
      "160/160 [==============================] - 5s 28ms/step - loss: 0.0741 - acc: 0.9750 - val_loss: 0.2074 - val_acc: 0.9344\n",
      "Epoch 15/30\n",
      "160/160 [==============================] - 5s 28ms/step - loss: 0.0454 - acc: 0.9865 - val_loss: 0.2528 - val_acc: 0.9289\n",
      "Epoch 16/30\n",
      "160/160 [==============================] - 5s 28ms/step - loss: 0.0412 - acc: 0.9857 - val_loss: 0.1749 - val_acc: 0.9516\n",
      "Epoch 17/30\n",
      "160/160 [==============================] - 5s 28ms/step - loss: 0.0398 - acc: 0.9877 - val_loss: 0.1951 - val_acc: 0.9430\n",
      "Epoch 18/30\n",
      "160/160 [==============================] - 5s 28ms/step - loss: 0.0944 - acc: 0.9746 - val_loss: 0.2904 - val_acc: 0.9023\n",
      "Epoch 19/30\n",
      "160/160 [==============================] - 5s 28ms/step - loss: 0.1303 - acc: 0.9584 - val_loss: 0.2269 - val_acc: 0.9367\n",
      "Epoch 20/30\n",
      "160/160 [==============================] - 5s 28ms/step - loss: 0.0859 - acc: 0.9734 - val_loss: 0.2725 - val_acc: 0.9164\n",
      "Epoch 21/30\n",
      "160/160 [==============================] - 5s 29ms/step - loss: 0.0580 - acc: 0.9816 - val_loss: 0.2230 - val_acc: 0.9312\n",
      "Epoch 22/30\n",
      "160/160 [==============================] - 5s 29ms/step - loss: 0.0374 - acc: 0.9881 - val_loss: 0.1564 - val_acc: 0.9539\n",
      "Epoch 23/30\n",
      "160/160 [==============================] - 5s 29ms/step - loss: 0.1036 - acc: 0.9787 - val_loss: 0.2118 - val_acc: 0.9258\n",
      "Epoch 24/30\n",
      "160/160 [==============================] - 5s 29ms/step - loss: 0.0881 - acc: 0.9742 - val_loss: 0.3014 - val_acc: 0.9227\n",
      "Epoch 25/30\n",
      "160/160 [==============================] - 5s 29ms/step - loss: 0.0513 - acc: 0.9826 - val_loss: 0.1818 - val_acc: 0.9508\n",
      "Epoch 26/30\n",
      "160/160 [==============================] - 5s 29ms/step - loss: 0.0441 - acc: 0.9863 - val_loss: 0.2154 - val_acc: 0.9469\n",
      "Epoch 27/30\n",
      "160/160 [==============================] - 5s 29ms/step - loss: 0.2610 - acc: 0.9139 - val_loss: 0.2136 - val_acc: 0.9312\n",
      "Epoch 28/30\n",
      "160/160 [==============================] - 5s 29ms/step - loss: 0.1171 - acc: 0.9633 - val_loss: 0.1920 - val_acc: 0.9406\n",
      "Epoch 29/30\n",
      "160/160 [==============================] - 5s 29ms/step - loss: 0.0424 - acc: 0.9865 - val_loss: 0.2876 - val_acc: 0.9375\n",
      "Epoch 30/30\n",
      "160/160 [==============================] - 5s 29ms/step - loss: 0.0764 - acc: 0.9758 - val_loss: 0.1872 - val_acc: 0.9383\n"
     ]
    }
   ],
   "source": [
    "history_vgg = model_vgg.fit(x_train, y_train, epochs=30, validation_data=(x_val, y_val))"
   ]
  },
  {
   "cell_type": "code",
   "execution_count": 26,
   "id": "4cdc355e",
   "metadata": {
    "scrolled": true
   },
   "outputs": [
    {
     "name": "stdout",
     "output_type": "stream",
     "text": [
      "Epoch 1/70\n",
      "160/160 [==============================] - 0s 3ms/step - loss: 0.0672 - acc: 0.9744 - val_loss: 0.3257 - val_acc: 0.8953\n",
      "Epoch 2/70\n",
      "160/160 [==============================] - 0s 2ms/step - loss: 0.0893 - acc: 0.9633 - val_loss: 0.2866 - val_acc: 0.9281\n",
      "Epoch 3/70\n",
      "160/160 [==============================] - 0s 2ms/step - loss: 0.0937 - acc: 0.9672 - val_loss: 0.2675 - val_acc: 0.9203\n",
      "Epoch 4/70\n",
      "160/160 [==============================] - 0s 2ms/step - loss: 0.0884 - acc: 0.9670 - val_loss: 0.2138 - val_acc: 0.9352\n",
      "Epoch 5/70\n",
      "160/160 [==============================] - 0s 2ms/step - loss: 0.0848 - acc: 0.9678 - val_loss: 0.2211 - val_acc: 0.9242\n",
      "Epoch 6/70\n",
      "160/160 [==============================] - 0s 2ms/step - loss: 0.0835 - acc: 0.9678 - val_loss: 0.2862 - val_acc: 0.9242\n",
      "Epoch 7/70\n",
      "160/160 [==============================] - 0s 2ms/step - loss: 0.0678 - acc: 0.9746 - val_loss: 0.3621 - val_acc: 0.9078\n",
      "Epoch 8/70\n",
      "160/160 [==============================] - 0s 2ms/step - loss: 0.0656 - acc: 0.9758 - val_loss: 0.2946 - val_acc: 0.9125\n",
      "Epoch 9/70\n",
      "160/160 [==============================] - 0s 2ms/step - loss: 0.0752 - acc: 0.9713 - val_loss: 0.2961 - val_acc: 0.9180\n",
      "Epoch 10/70\n",
      "160/160 [==============================] - 0s 3ms/step - loss: 0.0734 - acc: 0.9709 - val_loss: 0.3242 - val_acc: 0.9109\n",
      "Epoch 11/70\n",
      "160/160 [==============================] - 0s 3ms/step - loss: 0.0822 - acc: 0.9703 - val_loss: 0.2703 - val_acc: 0.9203\n",
      "Epoch 12/70\n",
      "160/160 [==============================] - 0s 2ms/step - loss: 0.0536 - acc: 0.9809 - val_loss: 0.2251 - val_acc: 0.9414\n",
      "Epoch 13/70\n",
      "160/160 [==============================] - 0s 2ms/step - loss: 0.0884 - acc: 0.9701 - val_loss: 0.2770 - val_acc: 0.9289\n",
      "Epoch 14/70\n",
      "160/160 [==============================] - 0s 2ms/step - loss: 0.0701 - acc: 0.9766 - val_loss: 0.3286 - val_acc: 0.9180\n",
      "Epoch 15/70\n",
      "160/160 [==============================] - 0s 2ms/step - loss: 0.0729 - acc: 0.9727 - val_loss: 0.2471 - val_acc: 0.9320\n",
      "Epoch 16/70\n",
      "160/160 [==============================] - 0s 2ms/step - loss: 0.0823 - acc: 0.9697 - val_loss: 0.3297 - val_acc: 0.8969\n",
      "Epoch 17/70\n",
      "160/160 [==============================] - 0s 2ms/step - loss: 0.0594 - acc: 0.9771 - val_loss: 0.2773 - val_acc: 0.9312\n",
      "Epoch 18/70\n",
      "160/160 [==============================] - 0s 2ms/step - loss: 0.0760 - acc: 0.9742 - val_loss: 0.2758 - val_acc: 0.9195\n",
      "Epoch 19/70\n",
      "160/160 [==============================] - 0s 2ms/step - loss: 0.0468 - acc: 0.9820 - val_loss: 0.2983 - val_acc: 0.9273\n",
      "Epoch 20/70\n",
      "160/160 [==============================] - 0s 2ms/step - loss: 0.0805 - acc: 0.9711 - val_loss: 0.2697 - val_acc: 0.9203\n",
      "Epoch 21/70\n",
      "160/160 [==============================] - 0s 2ms/step - loss: 0.0707 - acc: 0.9748 - val_loss: 0.3370 - val_acc: 0.9016\n",
      "Epoch 22/70\n",
      "160/160 [==============================] - 0s 2ms/step - loss: 0.1084 - acc: 0.9625 - val_loss: 0.3127 - val_acc: 0.9234\n",
      "Epoch 23/70\n",
      "160/160 [==============================] - 0s 2ms/step - loss: 0.0432 - acc: 0.9846 - val_loss: 0.3157 - val_acc: 0.9164\n",
      "Epoch 24/70\n",
      "160/160 [==============================] - 0s 2ms/step - loss: 0.0602 - acc: 0.9783 - val_loss: 0.3711 - val_acc: 0.9102\n",
      "Epoch 25/70\n",
      "160/160 [==============================] - 0s 2ms/step - loss: 0.0692 - acc: 0.9752 - val_loss: 0.3319 - val_acc: 0.9070\n",
      "Epoch 26/70\n",
      "160/160 [==============================] - 0s 2ms/step - loss: 0.0837 - acc: 0.9703 - val_loss: 0.2594 - val_acc: 0.9312\n",
      "Epoch 27/70\n",
      "160/160 [==============================] - 0s 2ms/step - loss: 0.0366 - acc: 0.9889 - val_loss: 0.2929 - val_acc: 0.9250\n",
      "Epoch 28/70\n",
      "160/160 [==============================] - 0s 2ms/step - loss: 0.0916 - acc: 0.9674 - val_loss: 0.3096 - val_acc: 0.9070\n",
      "Epoch 29/70\n",
      "160/160 [==============================] - 0s 2ms/step - loss: 0.0468 - acc: 0.9840 - val_loss: 0.3746 - val_acc: 0.9078\n",
      "Epoch 30/70\n",
      "160/160 [==============================] - 0s 2ms/step - loss: 0.0531 - acc: 0.9801 - val_loss: 0.3105 - val_acc: 0.9219\n",
      "Epoch 31/70\n",
      "160/160 [==============================] - 0s 2ms/step - loss: 0.0487 - acc: 0.9828 - val_loss: 0.2945 - val_acc: 0.9234\n",
      "Epoch 32/70\n",
      "160/160 [==============================] - 0s 2ms/step - loss: 0.0383 - acc: 0.9869 - val_loss: 0.4134 - val_acc: 0.9039\n",
      "Epoch 33/70\n",
      "160/160 [==============================] - 0s 2ms/step - loss: 0.0593 - acc: 0.9781 - val_loss: 0.3114 - val_acc: 0.9211\n",
      "Epoch 34/70\n",
      "160/160 [==============================] - 0s 2ms/step - loss: 0.0536 - acc: 0.9803 - val_loss: 0.5675 - val_acc: 0.8672\n",
      "Epoch 35/70\n",
      "160/160 [==============================] - 0s 2ms/step - loss: 0.0679 - acc: 0.9756 - val_loss: 0.2913 - val_acc: 0.9297\n",
      "Epoch 36/70\n",
      "160/160 [==============================] - 0s 3ms/step - loss: 0.0411 - acc: 0.9840 - val_loss: 0.3197 - val_acc: 0.9219\n",
      "Epoch 37/70\n",
      "160/160 [==============================] - 0s 3ms/step - loss: 0.0520 - acc: 0.9795 - val_loss: 0.3518 - val_acc: 0.9242\n",
      "Epoch 38/70\n",
      "160/160 [==============================] - 0s 2ms/step - loss: 0.0323 - acc: 0.9893 - val_loss: 0.3496 - val_acc: 0.9203\n",
      "Epoch 39/70\n",
      "160/160 [==============================] - 0s 2ms/step - loss: 0.0321 - acc: 0.9891 - val_loss: 0.3203 - val_acc: 0.9336\n",
      "Epoch 40/70\n",
      "160/160 [==============================] - 0s 3ms/step - loss: 0.0419 - acc: 0.9846 - val_loss: 0.3598 - val_acc: 0.9203\n",
      "Epoch 41/70\n",
      "160/160 [==============================] - 0s 2ms/step - loss: 0.0342 - acc: 0.9893 - val_loss: 0.3706 - val_acc: 0.9180\n",
      "Epoch 42/70\n",
      "160/160 [==============================] - 0s 3ms/step - loss: 0.0651 - acc: 0.9783 - val_loss: 0.3818 - val_acc: 0.9242\n",
      "Epoch 43/70\n",
      "160/160 [==============================] - 0s 2ms/step - loss: 0.0484 - acc: 0.9834 - val_loss: 0.3038 - val_acc: 0.9336\n",
      "Epoch 44/70\n",
      "160/160 [==============================] - 0s 2ms/step - loss: 0.0673 - acc: 0.9766 - val_loss: 0.3709 - val_acc: 0.9148\n",
      "Epoch 45/70\n",
      "160/160 [==============================] - 0s 3ms/step - loss: 0.0343 - acc: 0.9887 - val_loss: 0.3081 - val_acc: 0.9383\n",
      "Epoch 46/70\n",
      "160/160 [==============================] - 0s 2ms/step - loss: 0.0257 - acc: 0.9910 - val_loss: 0.3315 - val_acc: 0.9312\n",
      "Epoch 47/70\n",
      "160/160 [==============================] - 0s 3ms/step - loss: 0.0466 - acc: 0.9828 - val_loss: 0.3495 - val_acc: 0.9312\n",
      "Epoch 48/70\n",
      "160/160 [==============================] - 0s 2ms/step - loss: 0.0188 - acc: 0.9937 - val_loss: 0.3859 - val_acc: 0.9273\n",
      "Epoch 49/70\n",
      "160/160 [==============================] - 0s 3ms/step - loss: 0.0313 - acc: 0.9871 - val_loss: 0.3749 - val_acc: 0.9273\n",
      "Epoch 50/70\n",
      "160/160 [==============================] - 0s 3ms/step - loss: 0.1048 - acc: 0.9648 - val_loss: 0.3603 - val_acc: 0.9156\n",
      "Epoch 51/70\n",
      "160/160 [==============================] - 0s 3ms/step - loss: 0.0378 - acc: 0.9867 - val_loss: 0.3050 - val_acc: 0.9312\n",
      "Epoch 52/70\n",
      "160/160 [==============================] - 0s 2ms/step - loss: 0.0349 - acc: 0.9875 - val_loss: 0.2859 - val_acc: 0.9352\n",
      "Epoch 53/70\n",
      "160/160 [==============================] - 0s 2ms/step - loss: 0.0419 - acc: 0.9861 - val_loss: 0.3895 - val_acc: 0.9023\n",
      "Epoch 54/70\n",
      "160/160 [==============================] - 0s 2ms/step - loss: 0.0347 - acc: 0.9877 - val_loss: 0.3602 - val_acc: 0.9117\n",
      "Epoch 55/70\n",
      "160/160 [==============================] - 0s 2ms/step - loss: 0.0378 - acc: 0.9855 - val_loss: 0.4661 - val_acc: 0.9133\n",
      "Epoch 56/70\n",
      "160/160 [==============================] - 0s 2ms/step - loss: 0.0328 - acc: 0.9867 - val_loss: 0.2876 - val_acc: 0.9344\n",
      "Epoch 57/70\n",
      "160/160 [==============================] - 0s 2ms/step - loss: 0.0226 - acc: 0.9918 - val_loss: 0.3256 - val_acc: 0.9297\n",
      "Epoch 58/70\n",
      "160/160 [==============================] - 0s 3ms/step - loss: 0.0294 - acc: 0.9885 - val_loss: 0.2886 - val_acc: 0.9430\n",
      "Epoch 59/70\n",
      "160/160 [==============================] - 0s 3ms/step - loss: 0.0303 - acc: 0.9885 - val_loss: 0.3656 - val_acc: 0.9258\n",
      "Epoch 60/70\n",
      "160/160 [==============================] - 0s 3ms/step - loss: 0.0539 - acc: 0.9807 - val_loss: 0.3896 - val_acc: 0.9047\n",
      "Epoch 61/70\n",
      "160/160 [==============================] - 0s 3ms/step - loss: 0.0213 - acc: 0.9932 - val_loss: 0.2813 - val_acc: 0.9391\n",
      "Epoch 62/70\n",
      "160/160 [==============================] - 0s 3ms/step - loss: 0.0209 - acc: 0.9928 - val_loss: 0.3304 - val_acc: 0.9344\n",
      "Epoch 63/70\n",
      "160/160 [==============================] - 0s 2ms/step - loss: 0.0249 - acc: 0.9896 - val_loss: 0.3029 - val_acc: 0.9312\n",
      "Epoch 64/70\n",
      "160/160 [==============================] - 0s 3ms/step - loss: 0.0584 - acc: 0.9771 - val_loss: 0.3895 - val_acc: 0.9297\n",
      "Epoch 65/70\n",
      "160/160 [==============================] - 0s 3ms/step - loss: 0.0235 - acc: 0.9920 - val_loss: 0.3372 - val_acc: 0.9406\n",
      "Epoch 66/70\n",
      "160/160 [==============================] - 0s 2ms/step - loss: 0.0265 - acc: 0.9906 - val_loss: 0.3808 - val_acc: 0.9203\n",
      "Epoch 67/70\n",
      "160/160 [==============================] - 0s 2ms/step - loss: 0.0341 - acc: 0.9859 - val_loss: 0.3324 - val_acc: 0.9359\n",
      "Epoch 68/70\n",
      "160/160 [==============================] - 0s 2ms/step - loss: 0.0374 - acc: 0.9873 - val_loss: 0.2896 - val_acc: 0.9383\n",
      "Epoch 69/70\n",
      "160/160 [==============================] - 0s 2ms/step - loss: 0.0221 - acc: 0.9922 - val_loss: 0.3542 - val_acc: 0.9328\n",
      "Epoch 70/70\n",
      "160/160 [==============================] - 0s 2ms/step - loss: 0.0648 - acc: 0.9766 - val_loss: 0.4783 - val_acc: 0.8922\n"
     ]
    }
   ],
   "source": [
    "history_base = model_base.fit(x_train, y_train, epochs=70, validation_data=(x_val, y_val))"
   ]
  },
  {
   "cell_type": "code",
   "execution_count": 27,
   "id": "8e57b185",
   "metadata": {},
   "outputs": [
    {
     "name": "stdout",
     "output_type": "stream",
     "text": [
      "22   0.953906238079071\n"
     ]
    },
    {
     "data": {
      "image/png": "[encoded data removed]",
      "text/plain": [
       "<Figure size 432x288 with 1 Axes>"
      ]
     },
     "metadata": {
      "needs_background": "light"
     },
     "output_type": "display_data"
    },
    {
     "name": "stdout",
     "output_type": "stream",
     "text": [
      "50/50 [==============================] - 0s 7ms/step - loss: 0.1817 - acc: 0.9419\n",
      "[0.18174859881401062, 0.9418749809265137]\n"
     ]
    },
    {
     "data": {
      "image/png": "[encoded data removed]",
      "text/plain": [
       "<Figure size 432x288 with 2 Axes>"
      ]
     },
     "metadata": {
      "needs_background": "light"
     },
     "output_type": "display_data"
    }
   ],
   "source": [
    "vgg_y_vaccuracy = history_vgg.history['val_acc'] \n",
    "vgg_y_accuracy = history_vgg.history['acc']\n",
    "\n",
    "visulization_by_epochs(vgg_y_vaccuracy, vgg_y_accuracy)\n",
    "\n",
    "result = model_vgg.evaluate(x_test, y_test)\n",
    "print(result)\n",
    "\n",
    "#confusion matrix를 확인하고 싶었지만, 해당 값이 분류모델로 되어있는 것이 아닌 상대적 확률로써 존재\n",
    "y_predict = model_vgg.predict(x_test)\n",
    "\n",
    "draw_confusionmatrix(y_predict, y_test)"
   ]
  },
  {
   "cell_type": "code",
   "execution_count": 28,
   "id": "b39802ec",
   "metadata": {},
   "outputs": [
    {
     "name": "stdout",
     "output_type": "stream",
     "text": [
      "58   0.9429687261581421\n"
     ]
    },
    {
     "data": {
      "image/png": "[encoded data removed]",
      "text/plain": [
       "<Figure size 432x288 with 1 Axes>"
      ]
     },
     "metadata": {
      "needs_background": "light"
     },
     "output_type": "display_data"
    },
    {
     "name": "stdout",
     "output_type": "stream",
     "text": [
      "50/50 [==============================] - 0s 1ms/step - loss: 0.4465 - acc: 0.9087\n",
      "[0.4465373158454895, 0.9087499976158142]\n"
     ]
    },
    {
     "data": {
      "image/png": "[encoded data removed]",
      "text/plain": [
       "<Figure size 432x288 with 2 Axes>"
      ]
     },
     "metadata": {
      "needs_background": "light"
     },
     "output_type": "display_data"
    }
   ],
   "source": [
    "base_y_vaccuracy = history_base.history['val_acc'] \n",
    "base_y_accuracy = history_base.history['acc']\n",
    "\n",
    "visulization_by_epochs(base_y_vaccuracy, base_y_accuracy)\n",
    "\n",
    "result = model_base.evaluate(x_test, y_test)\n",
    "print(result)\n",
    "\n",
    "#confusion matrix를 확인하고 싶었지만, 해당 값이 분류모델로 되어있는 것이 아닌 상대적 확률로써 존재\n",
    "y_predict = model_base.predict(x_test)\n",
    "\n",
    "draw_confusionmatrix(y_predict, y_test)"
   ]
  },
  {
   "cell_type": "markdown",
   "id": "2b5be2eb",
   "metadata": {},
   "source": [
    "### make Ensemble for Peseudo Labeling Voting 방식"
   ]
  },
  {
   "cell_type": "markdown",
   "id": "0895df77",
   "metadata": {},
   "source": [
    "##### Max Value in Whole Model 전체 모델에서 가장 높은 값으로 결정"
   ]
  },
  {
   "cell_type": "code",
   "execution_count": 29,
   "id": "a4c3614b",
   "metadata": {},
   "outputs": [],
   "source": [
    "res = model_res.predict(total_add_x)\n",
    "vgg = model_vgg.predict(total_add_x)\n",
    "base = model_base.predict(total_add_x)"
   ]
  },
  {
   "cell_type": "code",
   "execution_count": 30,
   "id": "a9c10282",
   "metadata": {},
   "outputs": [],
   "source": [
    "def get_best_array(a):\n",
    "    best_y = np.where(a == max(a))\n",
    "    new_array = np.array([0, 0, 0, 0])\n",
    "    new_array[best_y] = 1\n",
    "    return new_array"
   ]
  },
  {
   "cell_type": "code",
   "execution_count": 31,
   "id": "907683a1",
   "metadata": {},
   "outputs": [
    {
     "name": "stdout",
     "output_type": "stream",
     "text": [
      "Barren Land: 21.1%\n",
      "Trees: 23.8%\n",
      "Grassland: 27.1%\n",
      "Other: 28.1%\n"
     ]
    },
    {
     "data": {
      "image/png": "[encoded data removed]",
      "text/plain": [
       "<Figure size 432x288 with 1 Axes>"
      ]
     },
     "metadata": {},
     "output_type": "display_data"
    },
    {
     "data": {
      "text/plain": [
       "array([0.21065 , 0.2375  , 0.271175, 0.280675])"
      ]
     },
     "execution_count": 31,
     "metadata": {},
     "output_type": "execute_result"
    }
   ],
   "source": [
    "total_add_y = []\n",
    "for i in range(len(total_add_x)):\n",
    "    maxes = [max(res[i]), max(vgg[i]), max(base[i])]\n",
    "\n",
    "    max_model_num = maxes.index(max(maxes))\n",
    "    if max_model_num == 0:\n",
    "        y = get_best_array(res[i])\n",
    "    elif max_model_num == 1:\n",
    "        y = get_best_array(vgg[i])\n",
    "    else:\n",
    "        y = get_best_array(base[i])\n",
    "        \n",
    "    total_add_y.append(y)\n",
    "    \n",
    "total_add_y = np.array(total_add_y)\n",
    "Data_visualization(total_add_y)"
   ]
  },
  {
   "cell_type": "code",
   "execution_count": 32,
   "id": "72037dad",
   "metadata": {},
   "outputs": [
    {
     "name": "stdout",
     "output_type": "stream",
     "text": [
      "Barren Land: 21.1%\n",
      "Trees: 23.8%\n",
      "Grassland: 27.1%\n",
      "Other: 28.1%\n"
     ]
    },
    {
     "data": {
      "image/png": "[encoded data removed]",
      "text/plain": [
       "<Figure size 432x288 with 1 Axes>"
      ]
     },
     "metadata": {},
     "output_type": "display_data"
    },
    {
     "data": {
      "text/plain": [
       "array([0.21065 , 0.2375  , 0.271175, 0.280675])"
      ]
     },
     "execution_count": 32,
     "metadata": {},
     "output_type": "execute_result"
    }
   ],
   "source": [
    "total_train_add_x = np.concatenate((total_train_x, total_add_x), axis = 0)\n",
    "total_train_add_y = np.concatenate((total_train_y, total_add_y), axis = 0)\n",
    "\n",
    "Data_visualization(total_add_y)"
   ]
  },
  {
   "cell_type": "markdown",
   "id": "5dc8f498",
   "metadata": {},
   "source": [
    "### Create Ensemble Model"
   ]
  },
  {
   "cell_type": "markdown",
   "id": "98546c8a",
   "metadata": {},
   "source": [
    "##### model_res\n",
    "##### model_vgg\n",
    "##### model_base\n",
    "##### 를 가지고 있음"
   ]
  },
  {
   "cell_type": "code",
   "execution_count": 33,
   "id": "0596a9a3",
   "metadata": {},
   "outputs": [],
   "source": [
    "x_train, x_test, y_train, y_test = train_test_split(total_train_add_x, total_train_add_y, test_size = 0.2)"
   ]
  },
  {
   "cell_type": "code",
   "execution_count": 34,
   "id": "04ef0154",
   "metadata": {},
   "outputs": [],
   "source": [
    "x_train, x_val, y_train, y_val = train_test_split(x_train, y_train, test_size = 0.2)"
   ]
  },
  {
   "cell_type": "code",
   "execution_count": 35,
   "id": "8eeb596d",
   "metadata": {
    "scrolled": true
   },
   "outputs": [
    {
     "name": "stdout",
     "output_type": "stream",
     "text": [
      "Epoch 1/30\n",
      "960/960 [==============================] - 35s 36ms/step - loss: 0.2436 - acc: 0.9196 - val_loss: 0.1956 - val_acc: 0.9177\n",
      "Epoch 2/30\n",
      "960/960 [==============================] - 34s 36ms/step - loss: 0.2095 - acc: 0.9250 - val_loss: 0.3077 - val_acc: 0.8957\n",
      "Epoch 3/30\n",
      "960/960 [==============================] - 34s 36ms/step - loss: 0.1987 - acc: 0.9291 - val_loss: 0.2096 - val_acc: 0.9271\n",
      "Epoch 4/30\n",
      "960/960 [==============================] - 34s 36ms/step - loss: 0.1831 - acc: 0.9329 - val_loss: 0.8091 - val_acc: 0.7581\n",
      "Epoch 5/30\n",
      "960/960 [==============================] - 34s 36ms/step - loss: 0.1596 - acc: 0.9428 - val_loss: 0.2515 - val_acc: 0.8969\n",
      "Epoch 6/30\n",
      "960/960 [==============================] - 34s 36ms/step - loss: 0.1690 - acc: 0.9382 - val_loss: 0.1838 - val_acc: 0.9357\n",
      "Epoch 7/30\n",
      "960/960 [==============================] - 34s 36ms/step - loss: 0.1488 - acc: 0.9455 - val_loss: 0.1688 - val_acc: 0.9391\n",
      "Epoch 8/30\n",
      "960/960 [==============================] - 34s 36ms/step - loss: 0.1684 - acc: 0.9377 - val_loss: 0.1590 - val_acc: 0.9405\n",
      "Epoch 9/30\n",
      "960/960 [==============================] - 34s 36ms/step - loss: 0.1328 - acc: 0.9527 - val_loss: 19.1577 - val_acc: 0.3777\n",
      "Epoch 10/30\n",
      "960/960 [==============================] - 34s 36ms/step - loss: 0.1664 - acc: 0.9409 - val_loss: 0.3602 - val_acc: 0.8589\n",
      "Epoch 11/30\n",
      "960/960 [==============================] - 34s 36ms/step - loss: 0.1290 - acc: 0.9545 - val_loss: 0.3946 - val_acc: 0.8556\n",
      "Epoch 12/30\n",
      "960/960 [==============================] - 34s 36ms/step - loss: 0.1299 - acc: 0.9554 - val_loss: 0.1766 - val_acc: 0.9309\n",
      "Epoch 13/30\n",
      "960/960 [==============================] - 34s 36ms/step - loss: 0.1668 - acc: 0.9402 - val_loss: 0.3111 - val_acc: 0.8872\n",
      "Epoch 14/30\n",
      "960/960 [==============================] - 34s 36ms/step - loss: 0.1606 - acc: 0.9398 - val_loss: 0.1578 - val_acc: 0.9422\n",
      "Epoch 15/30\n",
      "960/960 [==============================] - 34s 36ms/step - loss: 0.1178 - acc: 0.9561 - val_loss: 0.4513 - val_acc: 0.8618\n",
      "Epoch 16/30\n",
      "960/960 [==============================] - 34s 36ms/step - loss: 0.1089 - acc: 0.9618 - val_loss: 0.2657 - val_acc: 0.8978\n",
      "Epoch 17/30\n",
      "960/960 [==============================] - 34s 36ms/step - loss: 0.0802 - acc: 0.9718 - val_loss: 0.2158 - val_acc: 0.9342\n",
      "Epoch 18/30\n",
      "960/960 [==============================] - 34s 36ms/step - loss: 0.0889 - acc: 0.9687 - val_loss: 0.2417 - val_acc: 0.9292\n",
      "Epoch 19/30\n",
      "960/960 [==============================] - 34s 36ms/step - loss: 0.0888 - acc: 0.9690 - val_loss: 1.3497 - val_acc: 0.7204\n",
      "Epoch 20/30\n",
      "960/960 [==============================] - 34s 36ms/step - loss: 0.0770 - acc: 0.9717 - val_loss: 0.3025 - val_acc: 0.9102\n",
      "Epoch 21/30\n",
      "960/960 [==============================] - 34s 36ms/step - loss: 0.0698 - acc: 0.9753 - val_loss: 0.2008 - val_acc: 0.9277\n",
      "Epoch 22/30\n",
      "960/960 [==============================] - 34s 36ms/step - loss: 0.0618 - acc: 0.9786 - val_loss: 0.2407 - val_acc: 0.9253\n",
      "Epoch 23/30\n",
      "960/960 [==============================] - 34s 36ms/step - loss: 0.0592 - acc: 0.9788 - val_loss: 0.3813 - val_acc: 0.8757\n",
      "Epoch 24/30\n",
      "960/960 [==============================] - 34s 36ms/step - loss: 0.0881 - acc: 0.9688 - val_loss: 0.1680 - val_acc: 0.9447\n",
      "Epoch 25/30\n",
      "960/960 [==============================] - 34s 36ms/step - loss: 0.0577 - acc: 0.9800 - val_loss: 0.4290 - val_acc: 0.8685\n",
      "Epoch 26/30\n",
      "960/960 [==============================] - 34s 36ms/step - loss: 0.0735 - acc: 0.9744 - val_loss: 0.1771 - val_acc: 0.9385\n",
      "Epoch 27/30\n",
      "960/960 [==============================] - 34s 36ms/step - loss: 0.0566 - acc: 0.9816 - val_loss: 0.4780 - val_acc: 0.8746\n",
      "Epoch 28/30\n",
      "960/960 [==============================] - 34s 36ms/step - loss: 0.0488 - acc: 0.9829 - val_loss: 0.5062 - val_acc: 0.8589\n",
      "Epoch 29/30\n",
      "960/960 [==============================] - 34s 36ms/step - loss: 0.0492 - acc: 0.9836 - val_loss: 0.2495 - val_acc: 0.9302\n",
      "Epoch 30/30\n",
      "960/960 [==============================] - 34s 36ms/step - loss: 0.0407 - acc: 0.9866 - val_loss: 0.2348 - val_acc: 0.9277\n"
     ]
    }
   ],
   "source": [
    "history_res = model_res.fit(x_train, y_train, epochs=30, validation_data=(x_val, y_val))"
   ]
  },
  {
   "cell_type": "code",
   "execution_count": 36,
   "id": "3ef74d42",
   "metadata": {
    "scrolled": true
   },
   "outputs": [
    {
     "name": "stdout",
     "output_type": "stream",
     "text": [
      "Epoch 1/30\n",
      "960/960 [==============================] - 27s 29ms/step - loss: 0.1968 - acc: 0.9294 - val_loss: 0.1795 - val_acc: 0.9368\n",
      "Epoch 2/30\n",
      "960/960 [==============================] - 27s 29ms/step - loss: 0.1726 - acc: 0.9385 - val_loss: 0.1730 - val_acc: 0.9375\n",
      "Epoch 3/30\n",
      "960/960 [==============================] - 27s 29ms/step - loss: 0.1404 - acc: 0.9490 - val_loss: 0.1480 - val_acc: 0.9492\n",
      "Epoch 4/30\n",
      "960/960 [==============================] - 27s 29ms/step - loss: 0.1394 - acc: 0.9510 - val_loss: 0.1826 - val_acc: 0.9422\n",
      "Epoch 5/30\n",
      "960/960 [==============================] - 27s 29ms/step - loss: 0.1324 - acc: 0.9537 - val_loss: 0.1553 - val_acc: 0.9451\n",
      "Epoch 6/30\n",
      "960/960 [==============================] - 27s 29ms/step - loss: 0.1128 - acc: 0.9602 - val_loss: 0.1799 - val_acc: 0.9448\n",
      "Epoch 7/30\n",
      "960/960 [==============================] - 27s 29ms/step - loss: 0.1355 - acc: 0.9558 - val_loss: 0.2127 - val_acc: 0.9322\n",
      "Epoch 8/30\n",
      "960/960 [==============================] - 27s 29ms/step - loss: 0.1615 - acc: 0.9432 - val_loss: 0.1472 - val_acc: 0.9453\n",
      "Epoch 9/30\n",
      "960/960 [==============================] - 27s 29ms/step - loss: 0.1022 - acc: 0.9622 - val_loss: 0.1554 - val_acc: 0.9448\n",
      "Epoch 10/30\n",
      "960/960 [==============================] - 27s 29ms/step - loss: 0.0845 - acc: 0.9703 - val_loss: 0.1741 - val_acc: 0.9408\n",
      "Epoch 11/30\n",
      "960/960 [==============================] - 27s 29ms/step - loss: 0.0828 - acc: 0.9707 - val_loss: 0.1520 - val_acc: 0.9510\n",
      "Epoch 12/30\n",
      "960/960 [==============================] - 27s 29ms/step - loss: 0.0834 - acc: 0.9715 - val_loss: 0.1967 - val_acc: 0.9389\n",
      "Epoch 13/30\n",
      "960/960 [==============================] - 27s 29ms/step - loss: 0.0738 - acc: 0.9744 - val_loss: 0.2315 - val_acc: 0.9353\n",
      "Epoch 14/30\n",
      "960/960 [==============================] - 27s 29ms/step - loss: 0.0727 - acc: 0.9748 - val_loss: 0.1835 - val_acc: 0.9452\n",
      "Epoch 15/30\n",
      "960/960 [==============================] - 27s 29ms/step - loss: 0.1572 - acc: 0.9451 - val_loss: 0.1749 - val_acc: 0.9487\n",
      "Epoch 16/30\n",
      "960/960 [==============================] - 27s 29ms/step - loss: 0.0758 - acc: 0.9721 - val_loss: 0.2161 - val_acc: 0.9380\n",
      "Epoch 17/30\n",
      "960/960 [==============================] - 27s 29ms/step - loss: 0.1575 - acc: 0.9552 - val_loss: 0.1801 - val_acc: 0.9491\n",
      "Epoch 18/30\n",
      "960/960 [==============================] - 27s 29ms/step - loss: 0.1329 - acc: 0.9553 - val_loss: 0.1713 - val_acc: 0.9383\n",
      "Epoch 19/30\n",
      "960/960 [==============================] - 27s 29ms/step - loss: 0.0990 - acc: 0.9650 - val_loss: 0.1790 - val_acc: 0.9419\n",
      "Epoch 20/30\n",
      "960/960 [==============================] - 27s 29ms/step - loss: 0.0647 - acc: 0.9774 - val_loss: 0.2193 - val_acc: 0.9461\n",
      "Epoch 21/30\n",
      "960/960 [==============================] - 27s 29ms/step - loss: 0.0917 - acc: 0.9685 - val_loss: 0.2110 - val_acc: 0.9409\n",
      "Epoch 22/30\n",
      "960/960 [==============================] - 27s 29ms/step - loss: 0.0655 - acc: 0.9770 - val_loss: 0.2637 - val_acc: 0.9337\n",
      "Epoch 23/30\n",
      "960/960 [==============================] - 27s 29ms/step - loss: 0.0630 - acc: 0.9798 - val_loss: 0.3318 - val_acc: 0.9056\n",
      "Epoch 24/30\n",
      "960/960 [==============================] - 27s 29ms/step - loss: 0.0662 - acc: 0.9771 - val_loss: 0.3714 - val_acc: 0.9280\n",
      "Epoch 25/30\n",
      "960/960 [==============================] - 27s 29ms/step - loss: 0.0565 - acc: 0.9804 - val_loss: 0.2367 - val_acc: 0.9464\n",
      "Epoch 26/30\n",
      "960/960 [==============================] - 27s 29ms/step - loss: 0.0589 - acc: 0.9804 - val_loss: 0.2185 - val_acc: 0.9470\n",
      "Epoch 27/30\n",
      "960/960 [==============================] - 28s 29ms/step - loss: 0.0489 - acc: 0.9832 - val_loss: 0.2387 - val_acc: 0.9504\n",
      "Epoch 28/30\n",
      "960/960 [==============================] - 27s 29ms/step - loss: 0.0575 - acc: 0.9808 - val_loss: 0.1959 - val_acc: 0.9490\n",
      "Epoch 29/30\n",
      "960/960 [==============================] - 27s 29ms/step - loss: 0.0434 - acc: 0.9858 - val_loss: 0.2046 - val_acc: 0.9483\n",
      "Epoch 30/30\n",
      "960/960 [==============================] - 27s 29ms/step - loss: 0.0528 - acc: 0.9825 - val_loss: 0.2193 - val_acc: 0.9415\n"
     ]
    }
   ],
   "source": [
    "history_vgg = model_vgg.fit(x_train, y_train, epochs=30, validation_data=(x_val, y_val))"
   ]
  },
  {
   "cell_type": "code",
   "execution_count": 37,
   "id": "731c44cb",
   "metadata": {
    "scrolled": true
   },
   "outputs": [
    {
     "name": "stdout",
     "output_type": "stream",
     "text": [
      "Epoch 1/30\n",
      "960/960 [==============================] - 2s 2ms/step - loss: 0.2162 - acc: 0.9248 - val_loss: 0.1592 - val_acc: 0.9387\n",
      "Epoch 2/30\n",
      "960/960 [==============================] - 2s 2ms/step - loss: 0.1599 - acc: 0.9396 - val_loss: 0.1558 - val_acc: 0.9419\n",
      "Epoch 3/30\n",
      "960/960 [==============================] - 2s 2ms/step - loss: 0.1402 - acc: 0.9452 - val_loss: 0.1625 - val_acc: 0.9391\n",
      "Epoch 4/30\n",
      "960/960 [==============================] - 2s 2ms/step - loss: 0.1300 - acc: 0.9509 - val_loss: 0.1276 - val_acc: 0.9497\n",
      "Epoch 5/30\n",
      "960/960 [==============================] - 2s 2ms/step - loss: 0.1258 - acc: 0.9515 - val_loss: 0.1538 - val_acc: 0.9413\n",
      "Epoch 6/30\n",
      "960/960 [==============================] - 2s 2ms/step - loss: 0.1136 - acc: 0.9567 - val_loss: 0.1508 - val_acc: 0.9460\n",
      "Epoch 7/30\n",
      "960/960 [==============================] - 2s 2ms/step - loss: 0.1085 - acc: 0.9580 - val_loss: 0.1376 - val_acc: 0.9488\n",
      "Epoch 8/30\n",
      "960/960 [==============================] - 2s 2ms/step - loss: 0.1018 - acc: 0.9624 - val_loss: 0.1332 - val_acc: 0.9490\n",
      "Epoch 9/30\n",
      "960/960 [==============================] - 2s 2ms/step - loss: 0.0951 - acc: 0.9640 - val_loss: 0.1438 - val_acc: 0.9493\n",
      "Epoch 10/30\n",
      "960/960 [==============================] - 2s 2ms/step - loss: 0.0920 - acc: 0.9650 - val_loss: 0.1326 - val_acc: 0.9500\n",
      "Epoch 11/30\n",
      "960/960 [==============================] - 2s 2ms/step - loss: 0.0879 - acc: 0.9667 - val_loss: 0.2329 - val_acc: 0.9335\n",
      "Epoch 12/30\n",
      "960/960 [==============================] - 2s 2ms/step - loss: 0.0897 - acc: 0.9664 - val_loss: 0.1638 - val_acc: 0.9458\n",
      "Epoch 13/30\n",
      "960/960 [==============================] - 2s 2ms/step - loss: 0.0827 - acc: 0.9691 - val_loss: 0.1359 - val_acc: 0.9540\n",
      "Epoch 14/30\n",
      "960/960 [==============================] - 2s 2ms/step - loss: 0.0746 - acc: 0.9720 - val_loss: 0.1500 - val_acc: 0.9465\n",
      "Epoch 15/30\n",
      "960/960 [==============================] - 2s 2ms/step - loss: 0.0782 - acc: 0.9710 - val_loss: 0.1527 - val_acc: 0.9488\n",
      "Epoch 16/30\n",
      "960/960 [==============================] - 2s 2ms/step - loss: 0.0726 - acc: 0.9735 - val_loss: 0.1633 - val_acc: 0.9445\n",
      "Epoch 17/30\n",
      "960/960 [==============================] - 2s 2ms/step - loss: 0.0713 - acc: 0.9750 - val_loss: 0.1559 - val_acc: 0.9496\n",
      "Epoch 18/30\n",
      "960/960 [==============================] - 2s 2ms/step - loss: 0.0677 - acc: 0.9747 - val_loss: 0.1621 - val_acc: 0.9483\n",
      "Epoch 19/30\n",
      "960/960 [==============================] - 2s 2ms/step - loss: 0.0646 - acc: 0.9751 - val_loss: 0.1682 - val_acc: 0.9480\n",
      "Epoch 20/30\n",
      "960/960 [==============================] - 2s 2ms/step - loss: 0.0641 - acc: 0.9775 - val_loss: 0.1798 - val_acc: 0.9470\n",
      "Epoch 21/30\n",
      "960/960 [==============================] - 2s 2ms/step - loss: 0.0616 - acc: 0.9772 - val_loss: 0.2245 - val_acc: 0.9375\n",
      "Epoch 22/30\n",
      "960/960 [==============================] - 2s 2ms/step - loss: 0.0591 - acc: 0.9788 - val_loss: 0.1793 - val_acc: 0.9452\n",
      "Epoch 23/30\n",
      "960/960 [==============================] - 2s 2ms/step - loss: 0.0584 - acc: 0.9784 - val_loss: 0.1836 - val_acc: 0.9436\n",
      "Epoch 24/30\n",
      "960/960 [==============================] - 2s 2ms/step - loss: 0.0571 - acc: 0.9788 - val_loss: 0.2092 - val_acc: 0.9368\n",
      "Epoch 25/30\n",
      "960/960 [==============================] - 2s 2ms/step - loss: 0.0553 - acc: 0.9797 - val_loss: 0.2023 - val_acc: 0.9461\n",
      "Epoch 26/30\n",
      "960/960 [==============================] - 2s 2ms/step - loss: 0.0512 - acc: 0.9814 - val_loss: 0.1797 - val_acc: 0.9499\n",
      "Epoch 27/30\n",
      "960/960 [==============================] - 2s 2ms/step - loss: 0.0500 - acc: 0.9816 - val_loss: 0.2028 - val_acc: 0.9477\n",
      "Epoch 28/30\n",
      "960/960 [==============================] - 2s 2ms/step - loss: 0.0526 - acc: 0.9804 - val_loss: 0.2186 - val_acc: 0.9401\n",
      "Epoch 29/30\n",
      "960/960 [==============================] - 2s 2ms/step - loss: 0.0448 - acc: 0.9834 - val_loss: 0.1842 - val_acc: 0.9509\n",
      "Epoch 30/30\n",
      "960/960 [==============================] - 2s 2ms/step - loss: 0.0457 - acc: 0.9835 - val_loss: 0.2307 - val_acc: 0.9419\n"
     ]
    }
   ],
   "source": [
    "history_base = model_base.fit(x_train, y_train, epochs=30, validation_data=(x_val, y_val))"
   ]
  },
  {
   "cell_type": "code",
   "execution_count": 38,
   "id": "dee72583",
   "metadata": {},
   "outputs": [
    {
     "name": "stdout",
     "output_type": "stream",
     "text": [
      "24   0.9446614384651184\n"
     ]
    },
    {
     "data": {
      "image/png": "[encoded data removed]",
      "text/plain": [
       "<Figure size 432x288 with 1 Axes>"
      ]
     },
     "metadata": {
      "needs_background": "light"
     },
     "output_type": "display_data"
    },
    {
     "name": "stdout",
     "output_type": "stream",
     "text": [
      "300/300 [==============================] - 3s 9ms/step - loss: 0.2534 - acc: 0.9248\n",
      "[0.25340038537979126, 0.924791693687439]\n"
     ]
    },
    {
     "data": {
      "image/png": "[encoded data removed]",
      "text/plain": [
       "<Figure size 432x288 with 2 Axes>"
      ]
     },
     "metadata": {
      "needs_background": "light"
     },
     "output_type": "display_data"
    }
   ],
   "source": [
    "res_y_vaccuracy = history_res.history['val_acc'] \n",
    "res_y_accuracy = history_res.history['acc']\n",
    "\n",
    "visulization_by_epochs(res_y_vaccuracy, res_y_accuracy)\n",
    "\n",
    "result = model_res.evaluate(x_test, y_test)\n",
    "print(result)\n",
    "\n",
    "#confusion matrix를 확인하고 싶었지만, 해당 값이 분류모델로 되어있는 것이 아닌 상대적 확률로써 존재\n",
    "y_predict = model_res.predict(x_test)\n",
    "\n",
    "draw_confusionmatrix(y_predict, y_test)"
   ]
  },
  {
   "cell_type": "code",
   "execution_count": 39,
   "id": "b03c532e",
   "metadata": {},
   "outputs": [
    {
     "name": "stdout",
     "output_type": "stream",
     "text": [
      "11   0.9510416388511658\n"
     ]
    },
    {
     "data": {
      "image/png": "[encoded data removed]",
      "text/plain": [
       "<Figure size 432x288 with 1 Axes>"
      ]
     },
     "metadata": {
      "needs_background": "light"
     },
     "output_type": "display_data"
    },
    {
     "name": "stdout",
     "output_type": "stream",
     "text": [
      "300/300 [==============================] - 2s 7ms/step - loss: 0.1906 - acc: 0.9438\n",
      "[0.19055218994617462, 0.9437500238418579]\n"
     ]
    },
    {
     "data": {
      "image/png": "[encoded data removed]",
      "text/plain": [
       "<Figure size 432x288 with 2 Axes>"
      ]
     },
     "metadata": {
      "needs_background": "light"
     },
     "output_type": "display_data"
    }
   ],
   "source": [
    "vgg_y_vaccuracy = history_vgg.history['val_acc'] \n",
    "vgg_y_accuracy = history_vgg.history['acc']\n",
    "\n",
    "visulization_by_epochs(vgg_y_vaccuracy, vgg_y_accuracy)\n",
    "\n",
    "result = model_vgg.evaluate(x_test, y_test)\n",
    "print(result)\n",
    "\n",
    "#confusion matrix를 확인하고 싶었지만, 해당 값이 분류모델로 되어있는 것이 아닌 상대적 확률로써 존재\n",
    "y_predict = model_vgg.predict(x_test)\n",
    "\n",
    "draw_confusionmatrix(y_predict, y_test)"
   ]
  },
  {
   "cell_type": "code",
   "execution_count": 40,
   "id": "e7ecbf3d",
   "metadata": {},
   "outputs": [
    {
     "name": "stdout",
     "output_type": "stream",
     "text": [
      "13   0.9540364742279053\n"
     ]
    },
    {
     "data": {
      "image/png": "[encoded data removed]",
      "text/plain": [
       "<Figure size 432x288 with 1 Axes>"
      ]
     },
     "metadata": {
      "needs_background": "light"
     },
     "output_type": "display_data"
    },
    {
     "name": "stdout",
     "output_type": "stream",
     "text": [
      "300/300 [==============================] - 0s 1ms/step - loss: 0.2452 - acc: 0.9418\n",
      "[0.2452060431241989, 0.9417708516120911]\n"
     ]
    },
    {
     "data": {
      "image/png": "[encoded data removed]",
      "text/plain": [
       "<Figure size 432x288 with 2 Axes>"
      ]
     },
     "metadata": {
      "needs_background": "light"
     },
     "output_type": "display_data"
    }
   ],
   "source": [
    "base_y_vaccuracy = history_base.history['val_acc'] \n",
    "base_y_accuracy = history_base.history['acc']\n",
    "\n",
    "visulization_by_epochs(base_y_vaccuracy, base_y_accuracy)\n",
    "\n",
    "result = model_base.evaluate(x_test, y_test)\n",
    "print(result)\n",
    "\n",
    "#confusion matrix를 확인하고 싶었지만, 해당 값이 분류모델로 되어있는 것이 아닌 상대적 확률로써 존재\n",
    "y_predict = model_base.predict(x_test)\n",
    "\n",
    "draw_confusionmatrix(y_predict, y_test)"
   ]
  },
  {
   "cell_type": "markdown",
   "id": "dce49a12",
   "metadata": {},
   "source": [
    "### Bagging"
   ]
  },
  {
   "cell_type": "markdown",
   "id": "8e6c2f90",
   "metadata": {},
   "source": [
    "### 보편적으로 확률이 좋은 VGG16을 설정"
   ]
  },
  {
   "cell_type": "code",
   "execution_count": 41,
   "id": "dcf390fa",
   "metadata": {},
   "outputs": [],
   "source": [
    "x_train, x_test, y_train, y_test = train_test_split(total_train_add_x, total_train_add_y, test_size = 0.2)"
   ]
  },
  {
   "cell_type": "code",
   "execution_count": 42,
   "id": "42c383f0",
   "metadata": {},
   "outputs": [],
   "source": [
    "x_train_1, x_train_3, y_train_1, y_train_3 = train_test_split(total_train_add_x, total_train_add_y, test_size = 0.3)\n",
    "x_train_1, x_train_2, y_train_1, y_train_2 = train_test_split(x_train_1, y_train_1, test_size = 0.5)"
   ]
  },
  {
   "cell_type": "code",
   "execution_count": 43,
   "id": "676b5f3a",
   "metadata": {},
   "outputs": [],
   "source": [
    "x_train_1, x_val_1, y_train_1, y_val_1 = train_test_split(x_train_1, y_train_1, test_size = 0.2)\n",
    "x_train_2, x_val_2, y_train_2, y_val_2 = train_test_split(x_train_2, y_train_2, test_size = 0.2)\n",
    "x_train_3, x_val_3, y_train_3, y_val_3 = train_test_split(x_train_3, y_train_3, test_size = 0.2)"
   ]
  },
  {
   "cell_type": "code",
   "execution_count": 44,
   "id": "084b553e",
   "metadata": {
    "scrolled": true
   },
   "outputs": [
    {
     "name": "stdout",
     "output_type": "stream",
     "text": [
      "Epoch 1/30\n",
      "420/420 [==============================] - 12s 29ms/step - loss: 0.1499 - acc: 0.9519 - val_loss: 0.2087 - val_acc: 0.9455\n",
      "Epoch 2/30\n",
      "420/420 [==============================] - 12s 29ms/step - loss: 0.0907 - acc: 0.9701 - val_loss: 0.1024 - val_acc: 0.9688\n",
      "Epoch 3/30\n",
      "420/420 [==============================] - 12s 29ms/step - loss: 0.0494 - acc: 0.9824 - val_loss: 0.1004 - val_acc: 0.9693\n",
      "Epoch 4/30\n",
      "420/420 [==============================] - 12s 29ms/step - loss: 0.0616 - acc: 0.9829 - val_loss: 0.1358 - val_acc: 0.9616\n",
      "Epoch 5/30\n",
      "420/420 [==============================] - 12s 29ms/step - loss: 0.0602 - acc: 0.9801 - val_loss: 0.1589 - val_acc: 0.9577\n",
      "Epoch 6/30\n",
      "420/420 [==============================] - 12s 29ms/step - loss: 0.2195 - acc: 0.9295 - val_loss: 0.2104 - val_acc: 0.9253\n",
      "Epoch 7/30\n",
      "420/420 [==============================] - 12s 29ms/step - loss: 0.0983 - acc: 0.9644 - val_loss: 0.1566 - val_acc: 0.9551\n",
      "Epoch 8/30\n",
      "420/420 [==============================] - 12s 29ms/step - loss: 0.1532 - acc: 0.9601 - val_loss: 0.1670 - val_acc: 0.9440\n",
      "Epoch 9/30\n",
      "420/420 [==============================] - 12s 29ms/step - loss: 0.0977 - acc: 0.9684 - val_loss: 0.1370 - val_acc: 0.9518\n",
      "Epoch 10/30\n",
      "420/420 [==============================] - 12s 29ms/step - loss: 0.0548 - acc: 0.9816 - val_loss: 0.1517 - val_acc: 0.9533\n",
      "Epoch 11/30\n",
      "420/420 [==============================] - 12s 29ms/step - loss: 0.0417 - acc: 0.9850 - val_loss: 0.1894 - val_acc: 0.9461\n",
      "Epoch 12/30\n",
      "420/420 [==============================] - 12s 29ms/step - loss: 0.0321 - acc: 0.9890 - val_loss: 0.1332 - val_acc: 0.9646\n",
      "Epoch 13/30\n",
      "420/420 [==============================] - 12s 29ms/step - loss: 0.0268 - acc: 0.9914 - val_loss: 0.1568 - val_acc: 0.9610\n",
      "Epoch 14/30\n",
      "420/420 [==============================] - 12s 29ms/step - loss: 0.0332 - acc: 0.9899 - val_loss: 0.1432 - val_acc: 0.9637\n",
      "Epoch 15/30\n",
      "420/420 [==============================] - 12s 29ms/step - loss: 0.0210 - acc: 0.9931 - val_loss: 0.1876 - val_acc: 0.9616\n",
      "Epoch 16/30\n",
      "420/420 [==============================] - 12s 29ms/step - loss: 0.0369 - acc: 0.9879 - val_loss: 0.1503 - val_acc: 0.9557\n",
      "Epoch 17/30\n",
      "420/420 [==============================] - 12s 29ms/step - loss: 0.0554 - acc: 0.9843 - val_loss: 0.1699 - val_acc: 0.9574\n",
      "Epoch 18/30\n",
      "420/420 [==============================] - 12s 29ms/step - loss: 0.0190 - acc: 0.9930 - val_loss: 0.2012 - val_acc: 0.9580\n",
      "Epoch 19/30\n",
      "420/420 [==============================] - 12s 29ms/step - loss: 0.0276 - acc: 0.9921 - val_loss: 0.1252 - val_acc: 0.9643\n",
      "Epoch 20/30\n",
      "420/420 [==============================] - 12s 29ms/step - loss: 0.0279 - acc: 0.9903 - val_loss: 0.1537 - val_acc: 0.9568\n",
      "Epoch 21/30\n",
      "420/420 [==============================] - 12s 29ms/step - loss: 0.0282 - acc: 0.9915 - val_loss: 0.2371 - val_acc: 0.9455\n",
      "Epoch 22/30\n",
      "420/420 [==============================] - 12s 29ms/step - loss: 0.0418 - acc: 0.9875 - val_loss: 0.3920 - val_acc: 0.9381\n",
      "Epoch 23/30\n",
      "420/420 [==============================] - 12s 29ms/step - loss: 0.0380 - acc: 0.9882 - val_loss: 0.9917 - val_acc: 0.9628\n",
      "Epoch 24/30\n",
      "420/420 [==============================] - 12s 29ms/step - loss: 0.1233 - acc: 0.9705 - val_loss: 0.1636 - val_acc: 0.9503\n",
      "Epoch 25/30\n",
      "420/420 [==============================] - 12s 29ms/step - loss: 0.0412 - acc: 0.9884 - val_loss: 0.1718 - val_acc: 0.9563\n",
      "Epoch 26/30\n",
      "420/420 [==============================] - 12s 29ms/step - loss: 0.0320 - acc: 0.9893 - val_loss: 0.3318 - val_acc: 0.9420\n",
      "Epoch 27/30\n",
      "420/420 [==============================] - 12s 29ms/step - loss: 0.0259 - acc: 0.9921 - val_loss: 0.2079 - val_acc: 0.9658\n",
      "Epoch 28/30\n",
      "420/420 [==============================] - 12s 29ms/step - loss: 0.1228 - acc: 0.9615 - val_loss: 0.2652 - val_acc: 0.9098\n",
      "Epoch 29/30\n",
      "420/420 [==============================] - 12s 29ms/step - loss: 0.2978 - acc: 0.9092 - val_loss: 0.1580 - val_acc: 0.9458\n",
      "Epoch 30/30\n",
      "420/420 [==============================] - 12s 29ms/step - loss: 0.1031 - acc: 0.9629 - val_loss: 0.1332 - val_acc: 0.9533\n"
     ]
    }
   ],
   "source": [
    "history_vgg_1 = model_vgg.fit(x_train_1, y_train_1, epochs=30, validation_data=(x_val_1, y_val_1))"
   ]
  },
  {
   "cell_type": "code",
   "execution_count": 45,
   "id": "3ed64d60",
   "metadata": {
    "scrolled": true
   },
   "outputs": [
    {
     "name": "stdout",
     "output_type": "stream",
     "text": [
      "Epoch 1/30\n",
      "420/420 [==============================] - 12s 29ms/step - loss: 0.1423 - acc: 0.9504 - val_loss: 0.1624 - val_acc: 0.9423\n",
      "Epoch 2/30\n",
      "420/420 [==============================] - 12s 29ms/step - loss: 0.1041 - acc: 0.9624 - val_loss: 0.1544 - val_acc: 0.9488\n",
      "Epoch 3/30\n",
      "420/420 [==============================] - 12s 29ms/step - loss: 0.0825 - acc: 0.9708 - val_loss: 0.1250 - val_acc: 0.9565\n",
      "Epoch 4/30\n",
      "420/420 [==============================] - 12s 29ms/step - loss: 0.0642 - acc: 0.9774 - val_loss: 0.1437 - val_acc: 0.9533\n",
      "Epoch 5/30\n",
      "420/420 [==============================] - 12s 29ms/step - loss: 0.0555 - acc: 0.9802 - val_loss: 0.1681 - val_acc: 0.9533\n",
      "Epoch 6/30\n",
      "420/420 [==============================] - 12s 29ms/step - loss: 0.1120 - acc: 0.9668 - val_loss: 0.1476 - val_acc: 0.9527\n",
      "Epoch 7/30\n",
      "420/420 [==============================] - 12s 29ms/step - loss: 0.0499 - acc: 0.9824 - val_loss: 0.1741 - val_acc: 0.9533\n",
      "Epoch 8/30\n",
      "420/420 [==============================] - 12s 29ms/step - loss: 0.0422 - acc: 0.9856 - val_loss: 0.1949 - val_acc: 0.9485\n",
      "Epoch 9/30\n",
      "420/420 [==============================] - 12s 29ms/step - loss: 0.0308 - acc: 0.9895 - val_loss: 0.1837 - val_acc: 0.9554\n",
      "Epoch 10/30\n",
      "420/420 [==============================] - 12s 29ms/step - loss: 0.0292 - acc: 0.9912 - val_loss: 0.1723 - val_acc: 0.9491\n",
      "Epoch 11/30\n",
      "420/420 [==============================] - 12s 29ms/step - loss: 0.0338 - acc: 0.9897 - val_loss: 0.1565 - val_acc: 0.9565\n",
      "Epoch 12/30\n",
      "420/420 [==============================] - 12s 29ms/step - loss: 0.0377 - acc: 0.9878 - val_loss: 0.1789 - val_acc: 0.9583\n",
      "Epoch 13/30\n",
      "420/420 [==============================] - 12s 29ms/step - loss: 0.0312 - acc: 0.9899 - val_loss: 0.2049 - val_acc: 0.9586\n",
      "Epoch 14/30\n",
      "420/420 [==============================] - 12s 29ms/step - loss: 0.0436 - acc: 0.9858 - val_loss: 0.2069 - val_acc: 0.9491\n",
      "Epoch 15/30\n",
      "420/420 [==============================] - 12s 29ms/step - loss: 0.0331 - acc: 0.9897 - val_loss: 0.1962 - val_acc: 0.9563\n",
      "Epoch 16/30\n",
      "420/420 [==============================] - 12s 29ms/step - loss: 0.1199 - acc: 0.9640 - val_loss: 0.1750 - val_acc: 0.9452\n",
      "Epoch 17/30\n",
      "420/420 [==============================] - 12s 29ms/step - loss: 0.0633 - acc: 0.9773 - val_loss: 0.1536 - val_acc: 0.9545\n",
      "Epoch 18/30\n",
      "420/420 [==============================] - 12s 29ms/step - loss: 0.0430 - acc: 0.9857 - val_loss: 0.1702 - val_acc: 0.9518\n",
      "Epoch 19/30\n",
      "420/420 [==============================] - 12s 29ms/step - loss: 0.0232 - acc: 0.9929 - val_loss: 0.1720 - val_acc: 0.9574\n",
      "Epoch 20/30\n",
      "420/420 [==============================] - 12s 29ms/step - loss: 0.0178 - acc: 0.9939 - val_loss: 0.1860 - val_acc: 0.9533\n",
      "Epoch 21/30\n",
      "420/420 [==============================] - 12s 29ms/step - loss: 0.0202 - acc: 0.9928 - val_loss: 0.2226 - val_acc: 0.9485\n",
      "Epoch 22/30\n",
      "420/420 [==============================] - 12s 29ms/step - loss: 0.0327 - acc: 0.9887 - val_loss: 0.2057 - val_acc: 0.9473\n",
      "Epoch 23/30\n",
      "420/420 [==============================] - 12s 29ms/step - loss: 0.0932 - acc: 0.9725 - val_loss: 0.1833 - val_acc: 0.9381\n",
      "Epoch 24/30\n",
      "420/420 [==============================] - 12s 29ms/step - loss: 0.0891 - acc: 0.9716 - val_loss: 0.1866 - val_acc: 0.9506\n",
      "Epoch 25/30\n",
      "420/420 [==============================] - 12s 29ms/step - loss: 0.0260 - acc: 0.9917 - val_loss: 0.2031 - val_acc: 0.9533\n",
      "Epoch 26/30\n",
      "420/420 [==============================] - 12s 29ms/step - loss: 0.0164 - acc: 0.9944 - val_loss: 0.2204 - val_acc: 0.9506\n",
      "Epoch 27/30\n",
      "420/420 [==============================] - 12s 29ms/step - loss: 0.0140 - acc: 0.9960 - val_loss: 0.2001 - val_acc: 0.9524\n",
      "Epoch 28/30\n",
      "420/420 [==============================] - 12s 29ms/step - loss: 0.0277 - acc: 0.9914 - val_loss: 0.2054 - val_acc: 0.9470\n",
      "Epoch 29/30\n",
      "420/420 [==============================] - 12s 29ms/step - loss: 0.0354 - acc: 0.9886 - val_loss: 0.2737 - val_acc: 0.9494\n",
      "Epoch 30/30\n",
      "420/420 [==============================] - 12s 29ms/step - loss: 0.0163 - acc: 0.9947 - val_loss: 0.2928 - val_acc: 0.9470\n"
     ]
    }
   ],
   "source": [
    "model_vgg2 = model_vgg\n",
    "history_vgg_2 = model_vgg2.fit(x_train_2, y_train_2, epochs=30, validation_data=(x_val_2, y_val_2))"
   ]
  },
  {
   "cell_type": "code",
   "execution_count": 46,
   "id": "71beb1ca",
   "metadata": {
    "scrolled": true
   },
   "outputs": [
    {
     "name": "stdout",
     "output_type": "stream",
     "text": [
      "Epoch 1/30\n",
      "360/360 [==============================] - 10s 29ms/step - loss: 0.1505 - acc: 0.9490 - val_loss: 0.1156 - val_acc: 0.9615\n",
      "Epoch 2/30\n",
      "360/360 [==============================] - 10s 29ms/step - loss: 0.1012 - acc: 0.9651 - val_loss: 0.1029 - val_acc: 0.9625\n",
      "Epoch 3/30\n",
      "360/360 [==============================] - 10s 29ms/step - loss: 0.0723 - acc: 0.9740 - val_loss: 0.0982 - val_acc: 0.9681\n",
      "Epoch 4/30\n",
      "360/360 [==============================] - 10s 29ms/step - loss: 0.0597 - acc: 0.9813 - val_loss: 0.0988 - val_acc: 0.9663\n",
      "Epoch 5/30\n",
      "360/360 [==============================] - 10s 29ms/step - loss: 0.0464 - acc: 0.9865 - val_loss: 0.1182 - val_acc: 0.9649\n",
      "Epoch 6/30\n",
      "360/360 [==============================] - 10s 29ms/step - loss: 0.0451 - acc: 0.9854 - val_loss: 0.1399 - val_acc: 0.9653\n",
      "Epoch 7/30\n",
      "360/360 [==============================] - 10s 29ms/step - loss: 0.2059 - acc: 0.9701 - val_loss: 0.2844 - val_acc: 0.9052\n",
      "Epoch 8/30\n",
      "360/360 [==============================] - 10s 29ms/step - loss: 0.1770 - acc: 0.9383 - val_loss: 0.1319 - val_acc: 0.9528\n",
      "Epoch 9/30\n",
      "360/360 [==============================] - 10s 29ms/step - loss: 0.0837 - acc: 0.9711 - val_loss: 0.1342 - val_acc: 0.9517\n",
      "Epoch 10/30\n",
      "360/360 [==============================] - 10s 29ms/step - loss: 0.0614 - acc: 0.9794 - val_loss: 0.1485 - val_acc: 0.9545\n",
      "Epoch 11/30\n",
      "360/360 [==============================] - 10s 29ms/step - loss: 0.0402 - acc: 0.9863 - val_loss: 0.1519 - val_acc: 0.9587\n",
      "Epoch 12/30\n",
      "360/360 [==============================] - 10s 29ms/step - loss: 0.0349 - acc: 0.9877 - val_loss: 0.1652 - val_acc: 0.9566\n",
      "Epoch 13/30\n",
      "360/360 [==============================] - 10s 29ms/step - loss: 0.0321 - acc: 0.9891 - val_loss: 0.2751 - val_acc: 0.9517\n",
      "Epoch 14/30\n",
      "360/360 [==============================] - 10s 29ms/step - loss: 0.0342 - acc: 0.9889 - val_loss: 0.2317 - val_acc: 0.9535\n",
      "Epoch 15/30\n",
      "360/360 [==============================] - 10s 29ms/step - loss: 0.0296 - acc: 0.9910 - val_loss: 0.1855 - val_acc: 0.9590\n",
      "Epoch 16/30\n",
      "360/360 [==============================] - 10s 29ms/step - loss: 0.0315 - acc: 0.9892 - val_loss: 0.2890 - val_acc: 0.9521\n",
      "Epoch 17/30\n",
      "360/360 [==============================] - 10s 29ms/step - loss: 0.0480 - acc: 0.9850 - val_loss: 0.1873 - val_acc: 0.9573\n",
      "Epoch 18/30\n",
      "360/360 [==============================] - 10s 29ms/step - loss: 0.0191 - acc: 0.9935 - val_loss: 0.2010 - val_acc: 0.9552\n",
      "Epoch 19/30\n",
      "360/360 [==============================] - 10s 29ms/step - loss: 0.0228 - acc: 0.9940 - val_loss: 0.1511 - val_acc: 0.9597\n",
      "Epoch 20/30\n",
      "360/360 [==============================] - 10s 29ms/step - loss: 0.0145 - acc: 0.9950 - val_loss: 0.2146 - val_acc: 0.9615\n",
      "Epoch 21/30\n",
      "360/360 [==============================] - 10s 29ms/step - loss: 0.0577 - acc: 0.9846 - val_loss: 0.2328 - val_acc: 0.9490\n",
      "Epoch 22/30\n",
      "360/360 [==============================] - 10s 29ms/step - loss: 0.1930 - acc: 0.9419 - val_loss: 0.1975 - val_acc: 0.9469\n",
      "Epoch 23/30\n",
      "360/360 [==============================] - 10s 29ms/step - loss: 0.2377 - acc: 0.9569 - val_loss: 0.2069 - val_acc: 0.9403\n",
      "Epoch 24/30\n",
      "360/360 [==============================] - 10s 29ms/step - loss: 0.0773 - acc: 0.9798 - val_loss: 0.1581 - val_acc: 0.9549\n",
      "Epoch 25/30\n",
      "360/360 [==============================] - 10s 29ms/step - loss: 0.0302 - acc: 0.9909 - val_loss: 0.2036 - val_acc: 0.9549\n",
      "Epoch 26/30\n",
      "360/360 [==============================] - 10s 29ms/step - loss: 0.0210 - acc: 0.9936 - val_loss: 0.2601 - val_acc: 0.9476\n",
      "Epoch 27/30\n",
      "360/360 [==============================] - 10s 29ms/step - loss: 0.0243 - acc: 0.9933 - val_loss: 0.1914 - val_acc: 0.9476\n",
      "Epoch 28/30\n",
      "360/360 [==============================] - 10s 29ms/step - loss: 0.0208 - acc: 0.9932 - val_loss: 0.3581 - val_acc: 0.9378\n",
      "Epoch 29/30\n",
      "360/360 [==============================] - 10s 29ms/step - loss: 0.0377 - acc: 0.9905 - val_loss: 0.2131 - val_acc: 0.9528\n",
      "Epoch 30/30\n",
      "360/360 [==============================] - 10s 29ms/step - loss: 0.0124 - acc: 0.9961 - val_loss: 0.2332 - val_acc: 0.9545\n"
     ]
    }
   ],
   "source": [
    "model_vgg3 = model_vgg\n",
    "history_vgg_3 = model_vgg3.fit(x_train_3, y_train_3, epochs=30, validation_data=(x_val_3, y_val_3))"
   ]
  },
  {
   "cell_type": "code",
   "execution_count": 47,
   "id": "f6c3dcec",
   "metadata": {},
   "outputs": [],
   "source": [
    "model_vgg.save('./bagging/bagging_vgg1.h5')\n",
    "model_vgg2.save('./bagging/bagging_vgg2.h5')\n",
    "model_vgg3.save('./bagging/bagging_vgg3.h5')"
   ]
  },
  {
   "cell_type": "markdown",
   "id": "b2d0f0d4",
   "metadata": {},
   "source": [
    "### Voting"
   ]
  },
  {
   "cell_type": "code",
   "execution_count": 49,
   "id": "1c7964c6",
   "metadata": {},
   "outputs": [
    {
     "name": "stdout",
     "output_type": "stream",
     "text": [
      "Epoch 1/30\n",
      "1200/1200 [==============================] - 43s 36ms/step - loss: 0.1373 - acc: 0.9556 - val_loss: 1.9375 - val_acc: 0.7783\n",
      "Epoch 2/30\n",
      "1200/1200 [==============================] - 42s 35ms/step - loss: 0.1489 - acc: 0.9475 - val_loss: 0.2574 - val_acc: 0.9000\n",
      "Epoch 3/30\n",
      "1200/1200 [==============================] - 43s 36ms/step - loss: 0.1065 - acc: 0.9628 - val_loss: 0.2040 - val_acc: 0.9250\n",
      "Epoch 4/30\n",
      "1200/1200 [==============================] - 43s 35ms/step - loss: 0.0793 - acc: 0.9724 - val_loss: 0.1139 - val_acc: 0.9590\n",
      "Epoch 5/30\n",
      "1200/1200 [==============================] - 43s 35ms/step - loss: 0.0695 - acc: 0.9753 - val_loss: 0.1341 - val_acc: 0.9531\n",
      "Epoch 6/30\n",
      "1200/1200 [==============================] - 43s 35ms/step - loss: 0.0593 - acc: 0.9794 - val_loss: 0.0974 - val_acc: 0.9658\n",
      "Epoch 7/30\n",
      "1200/1200 [==============================] - 43s 36ms/step - loss: 0.0712 - acc: 0.9763 - val_loss: 0.1052 - val_acc: 0.9615\n",
      "Epoch 8/30\n",
      "1200/1200 [==============================] - 43s 35ms/step - loss: 0.0526 - acc: 0.9812 - val_loss: 0.2096 - val_acc: 0.9263\n",
      "Epoch 9/30\n",
      "1200/1200 [==============================] - 43s 35ms/step - loss: 0.0547 - acc: 0.9809 - val_loss: 0.1286 - val_acc: 0.9615\n",
      "Epoch 10/30\n",
      "1200/1200 [==============================] - 43s 36ms/step - loss: 0.0507 - acc: 0.9824 - val_loss: 0.1183 - val_acc: 0.9579\n",
      "Epoch 11/30\n",
      "1200/1200 [==============================] - 43s 35ms/step - loss: 0.0463 - acc: 0.9838 - val_loss: 0.3011 - val_acc: 0.9055\n",
      "Epoch 12/30\n",
      "1200/1200 [==============================] - 43s 35ms/step - loss: 0.0738 - acc: 0.9750 - val_loss: 0.5665 - val_acc: 0.8315\n",
      "Epoch 13/30\n",
      "1200/1200 [==============================] - 43s 35ms/step - loss: 0.0889 - acc: 0.9719 - val_loss: 0.0875 - val_acc: 0.9714\n",
      "Epoch 14/30\n",
      "1200/1200 [==============================] - 43s 35ms/step - loss: 0.0441 - acc: 0.9848 - val_loss: 0.0903 - val_acc: 0.9728\n",
      "Epoch 15/30\n",
      "1200/1200 [==============================] - 43s 36ms/step - loss: 0.0501 - acc: 0.9842 - val_loss: 0.3731 - val_acc: 0.8948\n",
      "Epoch 16/30\n",
      "1200/1200 [==============================] - 43s 35ms/step - loss: 0.1655 - acc: 0.9460 - val_loss: 0.1238 - val_acc: 0.9639\n",
      "Epoch 17/30\n",
      "1200/1200 [==============================] - 43s 36ms/step - loss: 0.0913 - acc: 0.9732 - val_loss: 0.1565 - val_acc: 0.9591\n",
      "Epoch 18/30\n",
      "1200/1200 [==============================] - 43s 35ms/step - loss: 0.0448 - acc: 0.9860 - val_loss: 0.0751 - val_acc: 0.9775\n",
      "Epoch 19/30\n",
      "1200/1200 [==============================] - 43s 36ms/step - loss: 0.0305 - acc: 0.9893 - val_loss: 0.0851 - val_acc: 0.9732\n",
      "Epoch 20/30\n",
      "1200/1200 [==============================] - 43s 35ms/step - loss: 0.0447 - acc: 0.9858 - val_loss: 0.7453 - val_acc: 0.7896\n",
      "Epoch 21/30\n",
      "1200/1200 [==============================] - 43s 36ms/step - loss: 0.0431 - acc: 0.9855 - val_loss: 0.1289 - val_acc: 0.9609\n",
      "Epoch 22/30\n",
      "1200/1200 [==============================] - 43s 36ms/step - loss: 0.0309 - acc: 0.9893 - val_loss: 0.0973 - val_acc: 0.9651\n",
      "Epoch 23/30\n",
      "1200/1200 [==============================] - 43s 35ms/step - loss: 0.0375 - acc: 0.9874 - val_loss: 0.1887 - val_acc: 0.9451\n",
      "Epoch 24/30\n",
      "1200/1200 [==============================] - 43s 36ms/step - loss: 0.0418 - acc: 0.9879 - val_loss: 0.1310 - val_acc: 0.9582\n",
      "Epoch 25/30\n",
      "1200/1200 [==============================] - 43s 35ms/step - loss: 0.0362 - acc: 0.9896 - val_loss: 0.0967 - val_acc: 0.9678\n",
      "Epoch 26/30\n",
      "1200/1200 [==============================] - 43s 35ms/step - loss: 0.2006 - acc: 0.9359 - val_loss: 0.1429 - val_acc: 0.9538\n",
      "Epoch 27/30\n",
      "1200/1200 [==============================] - 43s 35ms/step - loss: 0.0854 - acc: 0.9737 - val_loss: 0.0633 - val_acc: 0.9819\n",
      "Epoch 28/30\n",
      "1200/1200 [==============================] - 43s 35ms/step - loss: 0.0781 - acc: 0.9743 - val_loss: 0.1079 - val_acc: 0.9638\n",
      "Epoch 29/30\n",
      "1200/1200 [==============================] - 43s 35ms/step - loss: 0.1109 - acc: 0.9624 - val_loss: 0.1337 - val_acc: 0.9539\n",
      "Epoch 30/30\n",
      "1200/1200 [==============================] - 43s 35ms/step - loss: 0.0884 - acc: 0.9670 - val_loss: 0.1643 - val_acc: 0.9275\n"
     ]
    }
   ],
   "source": [
    "history_res = model_res.fit(x_train, y_train, epochs=30, validation_data=(x_val, y_val))"
   ]
  },
  {
   "cell_type": "code",
   "execution_count": 50,
   "id": "1a2785eb",
   "metadata": {},
   "outputs": [
    {
     "name": "stdout",
     "output_type": "stream",
     "text": [
      "Epoch 1/50\n",
      "1200/1200 [==============================] - 34s 28ms/step - loss: 0.2039 - acc: 0.9419 - val_loss: 0.1285 - val_acc: 0.9555\n",
      "Epoch 2/50\n",
      "1200/1200 [==============================] - 34s 28ms/step - loss: 0.0935 - acc: 0.9677 - val_loss: 0.0939 - val_acc: 0.9684\n",
      "Epoch 3/50\n",
      "1200/1200 [==============================] - 34s 28ms/step - loss: 0.0731 - acc: 0.9752 - val_loss: 0.1010 - val_acc: 0.9658\n",
      "Epoch 4/50\n",
      "1200/1200 [==============================] - 34s 28ms/step - loss: 0.0900 - acc: 0.9700 - val_loss: 0.0519 - val_acc: 0.9822\n",
      "Epoch 5/50\n",
      "1200/1200 [==============================] - 34s 28ms/step - loss: 0.0516 - acc: 0.9833 - val_loss: 0.0521 - val_acc: 0.9835\n",
      "Epoch 6/50\n",
      "1200/1200 [==============================] - 34s 28ms/step - loss: 0.0420 - acc: 0.9863 - val_loss: 0.0349 - val_acc: 0.9897\n",
      "Epoch 7/50\n",
      "1200/1200 [==============================] - 34s 28ms/step - loss: 0.0424 - acc: 0.9862 - val_loss: 0.0309 - val_acc: 0.9875\n",
      "Epoch 8/50\n",
      "1200/1200 [==============================] - 34s 28ms/step - loss: 0.0436 - acc: 0.9866 - val_loss: 0.0407 - val_acc: 0.9867\n",
      "Epoch 9/50\n",
      "1200/1200 [==============================] - 34s 28ms/step - loss: 0.4394 - acc: 0.9141 - val_loss: 0.1413 - val_acc: 0.9471\n",
      "Epoch 10/50\n",
      "1200/1200 [==============================] - 34s 28ms/step - loss: 0.1213 - acc: 0.9579 - val_loss: 0.0851 - val_acc: 0.9703\n",
      "Epoch 11/50\n",
      "1200/1200 [==============================] - 34s 28ms/step - loss: 0.0675 - acc: 0.9761 - val_loss: 0.0928 - val_acc: 0.9665\n",
      "Epoch 12/50\n",
      "1200/1200 [==============================] - 34s 28ms/step - loss: 0.0476 - acc: 0.9842 - val_loss: 0.0578 - val_acc: 0.9828\n",
      "Epoch 13/50\n",
      "1200/1200 [==============================] - 34s 28ms/step - loss: 0.1583 - acc: 0.9509 - val_loss: 0.0817 - val_acc: 0.9754\n",
      "Epoch 14/50\n",
      "1200/1200 [==============================] - 34s 28ms/step - loss: 0.0690 - acc: 0.9792 - val_loss: 0.0504 - val_acc: 0.9846\n",
      "Epoch 15/50\n",
      "1200/1200 [==============================] - 34s 28ms/step - loss: 0.2230 - acc: 0.9324 - val_loss: 0.1197 - val_acc: 0.9589\n",
      "Epoch 16/50\n",
      "1200/1200 [==============================] - 34s 28ms/step - loss: 0.0963 - acc: 0.9672 - val_loss: 0.0683 - val_acc: 0.9772\n",
      "Epoch 17/50\n",
      "1200/1200 [==============================] - 34s 28ms/step - loss: 0.0638 - acc: 0.9796 - val_loss: 0.0629 - val_acc: 0.9798\n",
      "Epoch 18/50\n",
      "1200/1200 [==============================] - 34s 28ms/step - loss: 0.0523 - acc: 0.9835 - val_loss: 0.0457 - val_acc: 0.9863\n",
      "Epoch 19/50\n",
      "1200/1200 [==============================] - 34s 28ms/step - loss: 0.0641 - acc: 0.9802 - val_loss: 0.1071 - val_acc: 0.9706\n",
      "Epoch 20/50\n",
      "1200/1200 [==============================] - 34s 28ms/step - loss: 0.7160 - acc: 0.9047 - val_loss: 0.3524 - val_acc: 0.8757\n",
      "Epoch 21/50\n",
      "1200/1200 [==============================] - 34s 28ms/step - loss: 0.3475 - acc: 0.8779 - val_loss: 0.2204 - val_acc: 0.9277\n",
      "Epoch 22/50\n",
      "1200/1200 [==============================] - 34s 28ms/step - loss: 0.2140 - acc: 0.9249 - val_loss: 0.1946 - val_acc: 0.9299\n",
      "Epoch 23/50\n",
      "1200/1200 [==============================] - 34s 28ms/step - loss: 0.1763 - acc: 0.9377 - val_loss: 0.1606 - val_acc: 0.9428\n",
      "Epoch 24/50\n",
      "1200/1200 [==============================] - 34s 28ms/step - loss: 0.1523 - acc: 0.9450 - val_loss: 0.1742 - val_acc: 0.9375\n",
      "Epoch 25/50\n",
      "1200/1200 [==============================] - 34s 28ms/step - loss: 0.1313 - acc: 0.9538 - val_loss: 0.1103 - val_acc: 0.9605\n",
      "Epoch 26/50\n",
      "1200/1200 [==============================] - 34s 28ms/step - loss: 0.1150 - acc: 0.9601 - val_loss: 0.1567 - val_acc: 0.9480\n",
      "Epoch 27/50\n",
      "1200/1200 [==============================] - 34s 28ms/step - loss: 0.1103 - acc: 0.9592 - val_loss: 0.1093 - val_acc: 0.9592\n",
      "Epoch 28/50\n",
      "1200/1200 [==============================] - 34s 28ms/step - loss: 0.0926 - acc: 0.9676 - val_loss: 0.1158 - val_acc: 0.9602\n",
      "Epoch 29/50\n",
      "1200/1200 [==============================] - 34s 28ms/step - loss: 0.0673 - acc: 0.9766 - val_loss: 0.0698 - val_acc: 0.9780\n",
      "Epoch 30/50\n",
      "1200/1200 [==============================] - 34s 28ms/step - loss: 0.0671 - acc: 0.9776 - val_loss: 0.0698 - val_acc: 0.9842\n",
      "Epoch 31/50\n",
      "1200/1200 [==============================] - 34s 28ms/step - loss: 0.0680 - acc: 0.9784 - val_loss: 0.1489 - val_acc: 0.9510\n",
      "Epoch 32/50\n",
      "1200/1200 [==============================] - 34s 28ms/step - loss: 0.0543 - acc: 0.9847 - val_loss: 0.0519 - val_acc: 0.9857\n",
      "Epoch 33/50\n",
      "1200/1200 [==============================] - 34s 28ms/step - loss: 0.0363 - acc: 0.9897 - val_loss: 0.0578 - val_acc: 0.9862\n",
      "Epoch 34/50\n",
      "1200/1200 [==============================] - 34s 28ms/step - loss: 0.2970 - acc: 0.9241 - val_loss: 0.1481 - val_acc: 0.9438\n",
      "Epoch 35/50\n",
      "1200/1200 [==============================] - 34s 28ms/step - loss: 0.1221 - acc: 0.9549 - val_loss: 0.1046 - val_acc: 0.9642\n",
      "Epoch 36/50\n",
      "1200/1200 [==============================] - 34s 28ms/step - loss: 0.0900 - acc: 0.9701 - val_loss: 0.0895 - val_acc: 0.9724\n",
      "Epoch 37/50\n",
      "1200/1200 [==============================] - 34s 28ms/step - loss: 0.0927 - acc: 0.9699 - val_loss: 0.1604 - val_acc: 0.9457\n",
      "Epoch 38/50\n",
      "1200/1200 [==============================] - 34s 28ms/step - loss: 0.0816 - acc: 0.9712 - val_loss: 0.0688 - val_acc: 0.9737\n",
      "Epoch 39/50\n",
      "1200/1200 [==============================] - 34s 28ms/step - loss: 0.0575 - acc: 0.9802 - val_loss: 0.0635 - val_acc: 0.9802\n",
      "Epoch 40/50\n",
      "1200/1200 [==============================] - 34s 28ms/step - loss: 0.0445 - acc: 0.9858 - val_loss: 0.0568 - val_acc: 0.9809\n",
      "Epoch 41/50\n",
      "1200/1200 [==============================] - 34s 28ms/step - loss: 0.0365 - acc: 0.9876 - val_loss: 0.0479 - val_acc: 0.9861\n",
      "Epoch 42/50\n",
      "1200/1200 [==============================] - 34s 28ms/step - loss: 0.0709 - acc: 0.9791 - val_loss: 0.0568 - val_acc: 0.9807\n",
      "Epoch 43/50\n",
      "1200/1200 [==============================] - 34s 28ms/step - loss: 0.0810 - acc: 0.9745 - val_loss: 0.0877 - val_acc: 0.9691\n",
      "Epoch 44/50\n",
      "1200/1200 [==============================] - 34s 28ms/step - loss: 0.0482 - acc: 0.9830 - val_loss: 0.0392 - val_acc: 0.9862\n",
      "Epoch 45/50\n",
      "1200/1200 [==============================] - 34s 28ms/step - loss: 0.0413 - acc: 0.9897 - val_loss: 0.0436 - val_acc: 0.9872\n",
      "Epoch 46/50\n",
      "1200/1200 [==============================] - 34s 28ms/step - loss: 0.0356 - acc: 0.9893 - val_loss: 0.0508 - val_acc: 0.9859\n",
      "Epoch 47/50\n",
      "1200/1200 [==============================] - 34s 28ms/step - loss: 0.0232 - acc: 0.9929 - val_loss: 0.0699 - val_acc: 0.9844\n",
      "Epoch 48/50\n",
      "1200/1200 [==============================] - 34s 28ms/step - loss: 0.0803 - acc: 0.9761 - val_loss: 0.1154 - val_acc: 0.9604\n",
      "Epoch 49/50\n",
      "1200/1200 [==============================] - 34s 28ms/step - loss: 0.0627 - acc: 0.9779 - val_loss: 0.0554 - val_acc: 0.9835\n",
      "Epoch 50/50\n",
      "1200/1200 [==============================] - 34s 28ms/step - loss: 0.0305 - acc: 0.9898 - val_loss: 0.0530 - val_acc: 0.9852\n"
     ]
    }
   ],
   "source": [
    "history_vgg = model_vgg.fit(x_train, y_train, epochs=50, validation_data=(x_val, y_val))"
   ]
  },
  {
   "cell_type": "code",
   "execution_count": 51,
   "id": "fdfb5a71",
   "metadata": {},
   "outputs": [
    {
     "name": "stdout",
     "output_type": "stream",
     "text": [
      "Epoch 1/30\n",
      "1200/1200 [==============================] - 3s 3ms/step - loss: 0.1175 - acc: 0.9618 - val_loss: 0.1458 - val_acc: 0.9478\n",
      "Epoch 2/30\n",
      "1200/1200 [==============================] - 3s 3ms/step - loss: 0.0887 - acc: 0.9697 - val_loss: 0.1221 - val_acc: 0.9574\n",
      "Epoch 3/30\n",
      "1200/1200 [==============================] - 3s 3ms/step - loss: 0.0731 - acc: 0.9745 - val_loss: 0.0838 - val_acc: 0.9724\n",
      "Epoch 4/30\n",
      "1200/1200 [==============================] - 3s 3ms/step - loss: 0.0743 - acc: 0.9730 - val_loss: 0.0905 - val_acc: 0.9697\n",
      "Epoch 5/30\n",
      "1200/1200 [==============================] - 3s 2ms/step - loss: 0.0688 - acc: 0.9756 - val_loss: 0.0874 - val_acc: 0.9708\n",
      "Epoch 6/30\n",
      "1200/1200 [==============================] - 3s 2ms/step - loss: 0.0652 - acc: 0.9766 - val_loss: 0.0849 - val_acc: 0.9717\n",
      "Epoch 7/30\n",
      "1200/1200 [==============================] - 3s 2ms/step - loss: 0.0621 - acc: 0.9770 - val_loss: 0.0705 - val_acc: 0.9757\n",
      "Epoch 8/30\n",
      "1200/1200 [==============================] - 3s 2ms/step - loss: 0.0582 - acc: 0.9784 - val_loss: 0.0757 - val_acc: 0.9751\n",
      "Epoch 9/30\n",
      "1200/1200 [==============================] - 3s 2ms/step - loss: 0.0578 - acc: 0.9785 - val_loss: 0.0881 - val_acc: 0.9719\n",
      "Epoch 10/30\n",
      "1200/1200 [==============================] - 3s 2ms/step - loss: 0.0569 - acc: 0.9800 - val_loss: 0.1004 - val_acc: 0.9706\n",
      "Epoch 11/30\n",
      "1200/1200 [==============================] - 3s 2ms/step - loss: 0.0534 - acc: 0.9801 - val_loss: 0.0796 - val_acc: 0.9751\n",
      "Epoch 12/30\n",
      "1200/1200 [==============================] - 3s 2ms/step - loss: 0.0496 - acc: 0.9812 - val_loss: 0.0587 - val_acc: 0.9826\n",
      "Epoch 13/30\n",
      "1200/1200 [==============================] - 3s 2ms/step - loss: 0.0497 - acc: 0.9824 - val_loss: 0.0678 - val_acc: 0.9768\n",
      "Epoch 14/30\n",
      "1200/1200 [==============================] - 3s 2ms/step - loss: 0.0511 - acc: 0.9826 - val_loss: 0.0565 - val_acc: 0.9839\n",
      "Epoch 15/30\n",
      "1200/1200 [==============================] - 3s 2ms/step - loss: 0.0487 - acc: 0.9818 - val_loss: 0.0706 - val_acc: 0.9790\n",
      "Epoch 16/30\n",
      "1200/1200 [==============================] - 3s 2ms/step - loss: 0.0462 - acc: 0.9833 - val_loss: 0.0525 - val_acc: 0.9858\n",
      "Epoch 17/30\n",
      "1200/1200 [==============================] - 3s 2ms/step - loss: 0.0452 - acc: 0.9841 - val_loss: 0.0548 - val_acc: 0.9837\n",
      "Epoch 18/30\n",
      "1200/1200 [==============================] - 3s 2ms/step - loss: 0.0467 - acc: 0.9829 - val_loss: 0.0636 - val_acc: 0.9831\n",
      "Epoch 19/30\n",
      "1200/1200 [==============================] - 3s 2ms/step - loss: 0.0414 - acc: 0.9852 - val_loss: 0.0686 - val_acc: 0.9824\n",
      "Epoch 20/30\n",
      "1200/1200 [==============================] - 3s 2ms/step - loss: 0.0423 - acc: 0.9849 - val_loss: 0.0740 - val_acc: 0.9784\n",
      "Epoch 21/30\n",
      "1200/1200 [==============================] - 3s 2ms/step - loss: 0.0423 - acc: 0.9851 - val_loss: 0.0717 - val_acc: 0.9779\n",
      "Epoch 22/30\n",
      "1200/1200 [==============================] - 3s 2ms/step - loss: 0.0398 - acc: 0.9854 - val_loss: 0.0628 - val_acc: 0.9846\n",
      "Epoch 23/30\n",
      "1200/1200 [==============================] - 3s 2ms/step - loss: 0.0372 - acc: 0.9873 - val_loss: 0.0854 - val_acc: 0.9785\n",
      "Epoch 24/30\n",
      "1200/1200 [==============================] - 3s 2ms/step - loss: 0.0426 - acc: 0.9848 - val_loss: 0.0557 - val_acc: 0.9867\n",
      "Epoch 25/30\n",
      "1200/1200 [==============================] - 3s 2ms/step - loss: 0.0442 - acc: 0.9844 - val_loss: 0.0616 - val_acc: 0.9845\n",
      "Epoch 26/30\n",
      "1200/1200 [==============================] - 3s 2ms/step - loss: 0.0375 - acc: 0.9872 - val_loss: 0.0650 - val_acc: 0.9823\n",
      "Epoch 27/30\n",
      "1200/1200 [==============================] - 3s 2ms/step - loss: 0.0403 - acc: 0.9857 - val_loss: 0.1329 - val_acc: 0.9617\n",
      "Epoch 28/30\n",
      "1200/1200 [==============================] - 3s 2ms/step - loss: 0.0377 - acc: 0.9863 - val_loss: 0.0645 - val_acc: 0.9824\n",
      "Epoch 29/30\n",
      "1200/1200 [==============================] - 3s 2ms/step - loss: 0.0369 - acc: 0.9868 - val_loss: 0.0587 - val_acc: 0.9874\n",
      "Epoch 30/30\n",
      "1200/1200 [==============================] - 3s 2ms/step - loss: 0.0337 - acc: 0.9881 - val_loss: 0.0527 - val_acc: 0.9859\n"
     ]
    }
   ],
   "source": [
    "history_base = model_base.fit(x_train, y_train, epochs=30, validation_data=(x_val, y_val))"
   ]
  },
  {
   "cell_type": "code",
   "execution_count": 52,
   "id": "0d7d67d9",
   "metadata": {},
   "outputs": [
    {
     "name": "stdout",
     "output_type": "stream",
     "text": [
      "Model: \"sequential_3\"\n",
      "_________________________________________________________________\n",
      "Layer (type)                 Output Shape              Param #   \n",
      "=================================================================\n",
      "zero_padding2d_2 (ZeroPaddin (None, 32, 32, 3)         0         \n",
      "_________________________________________________________________\n",
      "resnet50 (Functional)        (None, 1, 1, 2048)        23587712  \n",
      "_________________________________________________________________\n",
      "dropout_1 (Dropout)          (None, 1, 1, 2048)        0         \n",
      "_________________________________________________________________\n",
      "flatten_3 (Flatten)          (None, 2048)              0         \n",
      "_________________________________________________________________\n",
      "dense_8 (Dense)              (None, 256)               524544    \n",
      "_________________________________________________________________\n",
      "dense_9 (Dense)              (None, 128)               32896     \n",
      "_________________________________________________________________\n",
      "dense_10 (Dense)             (None, 4)                 516       \n",
      "=================================================================\n",
      "Total params: 24,145,668\n",
      "Trainable params: 24,092,548\n",
      "Non-trainable params: 53,120\n",
      "_________________________________________________________________\n",
      "Epoch 1/30\n",
      "1200/1200 [==============================] - 48s 36ms/step - loss: 0.1851 - acc: 0.9577 - val_loss: 0.1424 - val_acc: 0.9704\n",
      "Epoch 2/30\n",
      "1200/1200 [==============================] - 43s 36ms/step - loss: 0.0904 - acc: 0.9712 - val_loss: 0.0561 - val_acc: 0.9819\n",
      "Epoch 3/30\n",
      "1200/1200 [==============================] - 43s 36ms/step - loss: 0.0420 - acc: 0.9866 - val_loss: 0.0501 - val_acc: 0.9872\n",
      "Epoch 4/30\n",
      "1200/1200 [==============================] - 43s 36ms/step - loss: 0.0332 - acc: 0.9893 - val_loss: 0.0433 - val_acc: 0.9859\n",
      "Epoch 5/30\n",
      "1200/1200 [==============================] - 43s 36ms/step - loss: 0.0271 - acc: 0.9913 - val_loss: 1.0692 - val_acc: 0.7482\n",
      "Epoch 6/30\n",
      "1200/1200 [==============================] - 43s 36ms/step - loss: 0.0645 - acc: 0.9796 - val_loss: 0.1381 - val_acc: 0.9585\n",
      "Epoch 7/30\n",
      "1200/1200 [==============================] - 43s 36ms/step - loss: 0.0374 - acc: 0.9885 - val_loss: 0.0544 - val_acc: 0.9806\n",
      "Epoch 8/30\n",
      "1200/1200 [==============================] - 43s 36ms/step - loss: 0.0363 - acc: 0.9901 - val_loss: 0.0579 - val_acc: 0.9788\n",
      "Epoch 9/30\n",
      "1200/1200 [==============================] - 44s 36ms/step - loss: 0.0299 - acc: 0.9920 - val_loss: 0.0956 - val_acc: 0.9747\n",
      "Epoch 10/30\n",
      "1200/1200 [==============================] - 44s 36ms/step - loss: 0.0336 - acc: 0.9898 - val_loss: 0.6799 - val_acc: 0.8828\n",
      "Epoch 11/30\n",
      "1200/1200 [==============================] - 43s 36ms/step - loss: 0.0309 - acc: 0.9899 - val_loss: 0.1809 - val_acc: 0.9507\n",
      "Epoch 12/30\n",
      "1200/1200 [==============================] - 43s 36ms/step - loss: 0.0275 - acc: 0.9918 - val_loss: 0.1423 - val_acc: 0.9520\n",
      "Epoch 13/30\n",
      "1200/1200 [==============================] - 43s 36ms/step - loss: 0.0299 - acc: 0.9906 - val_loss: 0.1612 - val_acc: 0.9460\n",
      "Epoch 14/30\n",
      "1200/1200 [==============================] - 43s 36ms/step - loss: 0.0263 - acc: 0.9917 - val_loss: 0.2168 - val_acc: 0.9264\n",
      "Epoch 15/30\n",
      "1200/1200 [==============================] - 43s 36ms/step - loss: 0.0434 - acc: 0.9857 - val_loss: 0.0586 - val_acc: 0.9809\n",
      "Epoch 16/30\n",
      "1200/1200 [==============================] - 43s 36ms/step - loss: 0.0425 - acc: 0.9865 - val_loss: 0.0565 - val_acc: 0.9852\n",
      "Epoch 17/30\n",
      "1200/1200 [==============================] - 43s 36ms/step - loss: 0.0169 - acc: 0.9939 - val_loss: 0.0648 - val_acc: 0.9772\n",
      "Epoch 18/30\n",
      "1200/1200 [==============================] - 43s 36ms/step - loss: 0.0194 - acc: 0.9937 - val_loss: 0.2347 - val_acc: 0.9441\n",
      "Epoch 19/30\n",
      "1200/1200 [==============================] - 43s 36ms/step - loss: 0.0747 - acc: 0.9822 - val_loss: 3.4279 - val_acc: 0.9741\n",
      "Epoch 20/30\n",
      "1200/1200 [==============================] - 43s 36ms/step - loss: 0.0338 - acc: 0.9891 - val_loss: 6.7721 - val_acc: 0.9707\n",
      "Epoch 21/30\n",
      "1200/1200 [==============================] - 44s 37ms/step - loss: 0.0203 - acc: 0.9938 - val_loss: 0.4907 - val_acc: 0.9543\n",
      "Epoch 22/30\n",
      "1200/1200 [==============================] - 43s 36ms/step - loss: 0.0276 - acc: 0.9928 - val_loss: 3.5755 - val_acc: 0.9638\n",
      "Epoch 23/30\n",
      "1200/1200 [==============================] - 43s 36ms/step - loss: 0.0224 - acc: 0.9936 - val_loss: 7.5180 - val_acc: 0.9616\n",
      "Epoch 24/30\n",
      "1200/1200 [==============================] - 44s 37ms/step - loss: 0.0235 - acc: 0.9924 - val_loss: 2.6558 - val_acc: 0.9314\n",
      "Epoch 25/30\n",
      "1200/1200 [==============================] - 43s 36ms/step - loss: 0.0266 - acc: 0.9920 - val_loss: 0.0789 - val_acc: 0.9802\n",
      "Epoch 26/30\n",
      "1200/1200 [==============================] - 43s 36ms/step - loss: 0.0730 - acc: 0.9821 - val_loss: 0.0756 - val_acc: 0.9728\n",
      "Epoch 27/30\n",
      "1200/1200 [==============================] - 44s 37ms/step - loss: 0.0252 - acc: 0.9922 - val_loss: 0.0644 - val_acc: 0.9844\n",
      "Epoch 28/30\n",
      "1200/1200 [==============================] - 44s 36ms/step - loss: 0.0285 - acc: 0.9918 - val_loss: 0.0730 - val_acc: 0.9803\n",
      "Epoch 29/30\n",
      "1200/1200 [==============================] - 43s 36ms/step - loss: 0.0170 - acc: 0.9950 - val_loss: 1.2271 - val_acc: 0.6661\n",
      "Epoch 30/30\n",
      "1200/1200 [==============================] - 43s 36ms/step - loss: 0.0622 - acc: 0.9803 - val_loss: 0.0510 - val_acc: 0.9849\n"
     ]
    }
   ],
   "source": [
    "img_shape = (x_squeeze_img_v1_train[1], x_squeeze_img_v1_train[2], x_squeeze_img_v1_train[3])\n",
    "model_res2 = models.Sequential()\n",
    "# For training from scratch change kernel_initializer to e.g.'VarianceScaling'\n",
    "model_res2.add(layers.ZeroPadding2D(padding = (2,2), input_shape = (28, 28, 3)))\n",
    "model_res2.add(ResNet50_MODEL)\n",
    "model_res2.add(layers.Dropout(0.25))\n",
    "model_res2.add(layers.Flatten())\n",
    "model_res2.add(layers.Dense(256, activation='relu'))\n",
    "model_res2.add(layers.Dense(128, activation='relu'))\n",
    "model_res2.add(layers.Dense(4, activation='softmax'))\n",
    "\n",
    "model_res2.compile(optimizer='Adam',\n",
    "                     loss='categorical_crossentropy',\n",
    "                     metrics=['acc'])\n",
    "\n",
    "model_res2.summary()\n",
    "history_res_2 = model_res2.fit(x_train, y_train, epochs=30, validation_data=(x_val, y_val))"
   ]
  },
  {
   "cell_type": "code",
   "execution_count": 53,
   "id": "470f4860",
   "metadata": {},
   "outputs": [
    {
     "name": "stdout",
     "output_type": "stream",
     "text": [
      "Model: \"sequential_4\"\n",
      "_________________________________________________________________\n",
      "Layer (type)                 Output Shape              Param #   \n",
      "=================================================================\n",
      "zero_padding2d_3 (ZeroPaddin (None, 32, 32, 3)         0         \n",
      "_________________________________________________________________\n",
      "vgg16 (Functional)           (None, 1, 1, 512)         14714688  \n",
      "_________________________________________________________________\n",
      "dropout_2 (Dropout)          (None, 1, 1, 512)         0         \n",
      "_________________________________________________________________\n",
      "flatten_4 (Flatten)          (None, 512)               0         \n",
      "_________________________________________________________________\n",
      "dense_11 (Dense)             (None, 256)               131328    \n",
      "_________________________________________________________________\n",
      "dense_12 (Dense)             (None, 128)               32896     \n",
      "_________________________________________________________________\n",
      "dense_13 (Dense)             (None, 4)                 516       \n",
      "=================================================================\n",
      "Total params: 14,879,428\n",
      "Trainable params: 14,879,428\n",
      "Non-trainable params: 0\n",
      "_________________________________________________________________\n",
      "Epoch 1/50\n",
      "1200/1200 [==============================] - 35s 28ms/step - loss: 4.4559 - acc: 0.6729 - val_loss: 0.1525 - val_acc: 0.9633\n",
      "Epoch 2/50\n",
      "1200/1200 [==============================] - 34s 28ms/step - loss: 0.5234 - acc: 0.8214 - val_loss: 0.7610 - val_acc: 0.6618\n",
      "Epoch 3/50\n",
      "1200/1200 [==============================] - 34s 28ms/step - loss: 0.9792 - acc: 0.5526 - val_loss: 1.3713 - val_acc: 0.3076\n",
      "Epoch 4/50\n",
      "1200/1200 [==============================] - 34s 28ms/step - loss: 1.3695 - acc: 0.3202 - val_loss: 1.3749 - val_acc: 0.3076\n",
      "Epoch 5/50\n",
      "1200/1200 [==============================] - 34s 28ms/step - loss: 1.3716 - acc: 0.3146 - val_loss: 1.3712 - val_acc: 0.3076\n",
      "Epoch 6/50\n",
      "1200/1200 [==============================] - 34s 28ms/step - loss: 1.3702 - acc: 0.3177 - val_loss: 1.3726 - val_acc: 0.3076\n",
      "Epoch 7/50\n",
      "1200/1200 [==============================] - 34s 28ms/step - loss: 1.3705 - acc: 0.3149 - val_loss: 1.3713 - val_acc: 0.3076\n",
      "Epoch 8/50\n",
      "1200/1200 [==============================] - 34s 28ms/step - loss: 1.3717 - acc: 0.3112 - val_loss: 1.3744 - val_acc: 0.3076\n",
      "Epoch 9/50\n",
      "1200/1200 [==============================] - 34s 28ms/step - loss: 1.3713 - acc: 0.3128 - val_loss: 1.3739 - val_acc: 0.3076\n",
      "Epoch 10/50\n",
      "1200/1200 [==============================] - 34s 28ms/step - loss: 1.3682 - acc: 0.3225 - val_loss: 1.3711 - val_acc: 0.3076\n",
      "Epoch 11/50\n",
      "1200/1200 [==============================] - 34s 28ms/step - loss: 1.3724 - acc: 0.3077 - val_loss: 1.3710 - val_acc: 0.3076\n",
      "Epoch 12/50\n",
      "1200/1200 [==============================] - 34s 28ms/step - loss: 1.3696 - acc: 0.3187 - val_loss: 1.3711 - val_acc: 0.3076\n",
      "Epoch 13/50\n",
      "1200/1200 [==============================] - 33s 28ms/step - loss: 1.3708 - acc: 0.3155 - val_loss: 1.3708 - val_acc: 0.3076\n",
      "Epoch 14/50\n",
      "1200/1200 [==============================] - 33s 28ms/step - loss: 1.3700 - acc: 0.3168 - val_loss: 1.3716 - val_acc: 0.3076\n",
      "Epoch 15/50\n",
      "1200/1200 [==============================] - 33s 28ms/step - loss: 1.3701 - acc: 0.3173 - val_loss: 1.3710 - val_acc: 0.3076\n",
      "Epoch 16/50\n",
      "1200/1200 [==============================] - 34s 28ms/step - loss: 1.3700 - acc: 0.3205 - val_loss: 1.3726 - val_acc: 0.3076\n",
      "Epoch 17/50\n",
      "1200/1200 [==============================] - 34s 28ms/step - loss: 1.3693 - acc: 0.3202 - val_loss: 1.3709 - val_acc: 0.3076\n",
      "Epoch 18/50\n",
      "1200/1200 [==============================] - 34s 28ms/step - loss: 1.3697 - acc: 0.3199 - val_loss: 1.3709 - val_acc: 0.3076\n",
      "Epoch 19/50\n",
      "1200/1200 [==============================] - 34s 28ms/step - loss: 1.3688 - acc: 0.3197 - val_loss: 1.3714 - val_acc: 0.3076\n",
      "Epoch 20/50\n",
      "1200/1200 [==============================] - 33s 28ms/step - loss: 1.3696 - acc: 0.3208 - val_loss: 1.3711 - val_acc: 0.3076\n",
      "Epoch 21/50\n",
      "1200/1200 [==============================] - 34s 28ms/step - loss: 1.3686 - acc: 0.3203 - val_loss: 1.3712 - val_acc: 0.3076\n",
      "Epoch 22/50\n",
      "1200/1200 [==============================] - 33s 28ms/step - loss: 1.3692 - acc: 0.3211 - val_loss: 1.3711 - val_acc: 0.3076\n",
      "Epoch 23/50\n",
      "1200/1200 [==============================] - 34s 28ms/step - loss: 1.3693 - acc: 0.3194 - val_loss: 1.3708 - val_acc: 0.3076\n",
      "Epoch 24/50\n",
      "1200/1200 [==============================] - 34s 28ms/step - loss: 1.3708 - acc: 0.3177 - val_loss: 1.3711 - val_acc: 0.3076\n",
      "Epoch 25/50\n",
      "1200/1200 [==============================] - 34s 28ms/step - loss: 1.3689 - acc: 0.3160 - val_loss: 1.3714 - val_acc: 0.3076\n",
      "Epoch 26/50\n",
      "1200/1200 [==============================] - 34s 28ms/step - loss: 1.3686 - acc: 0.3204 - val_loss: 1.3715 - val_acc: 0.3076\n",
      "Epoch 27/50\n",
      "1200/1200 [==============================] - 34s 28ms/step - loss: 1.3687 - acc: 0.3198 - val_loss: 1.3709 - val_acc: 0.3076\n",
      "Epoch 28/50\n",
      "1200/1200 [==============================] - 34s 28ms/step - loss: 1.3703 - acc: 0.3170 - val_loss: 1.3708 - val_acc: 0.3076\n",
      "Epoch 29/50\n",
      "1200/1200 [==============================] - 33s 28ms/step - loss: 1.3705 - acc: 0.3117 - val_loss: 1.3712 - val_acc: 0.3076\n",
      "Epoch 30/50\n",
      "1200/1200 [==============================] - 34s 28ms/step - loss: 1.3686 - acc: 0.3213 - val_loss: 1.3709 - val_acc: 0.3076\n",
      "Epoch 31/50\n",
      "1200/1200 [==============================] - 33s 28ms/step - loss: 1.3701 - acc: 0.3180 - val_loss: 1.3708 - val_acc: 0.3076\n",
      "Epoch 32/50\n",
      "1200/1200 [==============================] - 33s 28ms/step - loss: 1.3675 - acc: 0.3193 - val_loss: 1.3716 - val_acc: 0.3076\n",
      "Epoch 33/50\n",
      "1200/1200 [==============================] - 33s 28ms/step - loss: 1.3672 - acc: 0.3228 - val_loss: 1.3709 - val_acc: 0.3076\n",
      "Epoch 34/50\n",
      "1200/1200 [==============================] - 34s 28ms/step - loss: 1.3678 - acc: 0.3219 - val_loss: 1.3709 - val_acc: 0.3076\n",
      "Epoch 35/50\n",
      "1200/1200 [==============================] - 34s 28ms/step - loss: 1.3706 - acc: 0.3148 - val_loss: 1.3711 - val_acc: 0.3076\n",
      "Epoch 36/50\n",
      "1200/1200 [==============================] - 34s 28ms/step - loss: 1.3695 - acc: 0.3165 - val_loss: 1.3708 - val_acc: 0.3076\n",
      "Epoch 37/50\n",
      "1200/1200 [==============================] - 34s 28ms/step - loss: 1.3710 - acc: 0.3157 - val_loss: 1.3714 - val_acc: 0.3076\n",
      "Epoch 38/50\n",
      "1200/1200 [==============================] - 34s 28ms/step - loss: 1.3707 - acc: 0.3137 - val_loss: 1.3711 - val_acc: 0.3076\n",
      "Epoch 39/50\n",
      "1200/1200 [==============================] - 34s 28ms/step - loss: 1.3676 - acc: 0.3220 - val_loss: 1.3711 - val_acc: 0.3076\n",
      "Epoch 40/50\n",
      "1200/1200 [==============================] - 34s 28ms/step - loss: 1.3678 - acc: 0.3205 - val_loss: 1.3715 - val_acc: 0.3076\n",
      "Epoch 41/50\n",
      "1200/1200 [==============================] - 33s 28ms/step - loss: 1.3688 - acc: 0.3176 - val_loss: 1.3710 - val_acc: 0.3076\n",
      "Epoch 42/50\n",
      "1200/1200 [==============================] - 33s 28ms/step - loss: 1.3704 - acc: 0.3167 - val_loss: 1.3714 - val_acc: 0.3076\n",
      "Epoch 43/50\n",
      "1200/1200 [==============================] - 34s 28ms/step - loss: 1.3692 - acc: 0.3178 - val_loss: 1.3710 - val_acc: 0.3076\n",
      "Epoch 44/50\n",
      "1200/1200 [==============================] - 34s 28ms/step - loss: 1.3692 - acc: 0.3182 - val_loss: 1.3710 - val_acc: 0.3076\n",
      "Epoch 45/50\n",
      "1200/1200 [==============================] - 34s 28ms/step - loss: 1.3707 - acc: 0.3158 - val_loss: 1.3728 - val_acc: 0.3076\n",
      "Epoch 46/50\n",
      "1200/1200 [==============================] - 34s 28ms/step - loss: 1.3685 - acc: 0.3198 - val_loss: 1.3711 - val_acc: 0.3076\n",
      "Epoch 47/50\n",
      "1200/1200 [==============================] - 34s 28ms/step - loss: 1.3684 - acc: 0.3196 - val_loss: 1.3719 - val_acc: 0.3076\n",
      "Epoch 48/50\n",
      "1200/1200 [==============================] - 33s 28ms/step - loss: 1.3697 - acc: 0.3173 - val_loss: 1.3716 - val_acc: 0.3076\n",
      "Epoch 49/50\n",
      "1200/1200 [==============================] - 34s 28ms/step - loss: 1.3689 - acc: 0.3177 - val_loss: 1.3711 - val_acc: 0.3076\n",
      "Epoch 50/50\n",
      "1200/1200 [==============================] - 33s 28ms/step - loss: 1.3693 - acc: 0.3151 - val_loss: 1.3714 - val_acc: 0.3076\n"
     ]
    }
   ],
   "source": [
    "img_shape = (X_train_img[1], X_train_img[2], X_train_img[3])\n",
    "model_vgg2 = models.Sequential()\n",
    "# For training from scratch change kernel_initializer to e.g.'VarianceScaling'\n",
    "model_vgg2.add(layers.ZeroPadding2D(padding = (2,2), input_shape = (28, 28 ,3)))\n",
    "model_vgg2.add(VGG16_model)\n",
    "model_vgg2.add(layers.Dropout(0.25))\n",
    "model_vgg2.add(layers.Flatten())\n",
    "model_vgg2.add(layers.Dense(256, activation='relu'))\n",
    "model_vgg2.add(layers.Dense(128, activation='relu'))\n",
    "model_vgg2.add(layers.Dense(4, activation='softmax'))\n",
    "\n",
    "model_vgg2.compile(optimizer='Adam',\n",
    "                     loss='categorical_crossentropy',\n",
    "                     metrics=['acc'])\n",
    "\n",
    "model_vgg2.summary()\n",
    "history_vgg_2 = model_vgg2.fit(x_train, y_train, epochs=50, validation_data=(x_val, y_val))"
   ]
  },
  {
   "cell_type": "code",
   "execution_count": 54,
   "id": "df6d4ff4",
   "metadata": {},
   "outputs": [
    {
     "name": "stdout",
     "output_type": "stream",
     "text": [
      "Model: \"sequential_5\"\n",
      "_________________________________________________________________\n",
      "Layer (type)                 Output Shape              Param #   \n",
      "=================================================================\n",
      "conv2d_2 (Conv2D)            (None, 24, 24, 32)        2432      \n",
      "_________________________________________________________________\n",
      "max_pooling2d_2 (MaxPooling2 (None, 12, 12, 32)        0         \n",
      "_________________________________________________________________\n",
      "conv2d_3 (Conv2D)            (None, 12, 12, 64)        8256      \n",
      "_________________________________________________________________\n",
      "max_pooling2d_3 (MaxPooling2 (None, 6, 6, 64)          0         \n",
      "_________________________________________________________________\n",
      "conv2d_4 (Conv2D)            (None, 6, 6, 128)         32896     \n",
      "_________________________________________________________________\n",
      "max_pooling2d_4 (MaxPooling2 (None, 3, 3, 128)         0         \n",
      "_________________________________________________________________\n",
      "dropout_3 (Dropout)          (None, 3, 3, 128)         0         \n",
      "_________________________________________________________________\n",
      "flatten_5 (Flatten)          (None, 1152)              0         \n",
      "_________________________________________________________________\n",
      "dense_14 (Dense)             (None, 128)               147584    \n",
      "_________________________________________________________________\n",
      "dense_15 (Dense)             (None, 64)                8256      \n",
      "_________________________________________________________________\n",
      "dense_16 (Dense)             (None, 4)                 260       \n",
      "=================================================================\n",
      "Total params: 199,684\n",
      "Trainable params: 199,684\n",
      "Non-trainable params: 0\n",
      "_________________________________________________________________\n",
      "Epoch 1/30\n",
      "1200/1200 [==============================] - 7s 3ms/step - loss: 0.6118 - acc: 0.7431 - val_loss: 0.3748 - val_acc: 0.8689\n",
      "Epoch 2/30\n",
      "1200/1200 [==============================] - 3s 3ms/step - loss: 0.3135 - acc: 0.8788 - val_loss: 0.2122 - val_acc: 0.9184\n",
      "Epoch 3/30\n",
      "1200/1200 [==============================] - 3s 3ms/step - loss: 0.2670 - acc: 0.8975 - val_loss: 0.1927 - val_acc: 0.9237\n",
      "Epoch 4/30\n",
      "1200/1200 [==============================] - 3s 3ms/step - loss: 0.2253 - acc: 0.9132 - val_loss: 0.2466 - val_acc: 0.9040\n",
      "Epoch 5/30\n",
      "1200/1200 [==============================] - 3s 3ms/step - loss: 0.2052 - acc: 0.9212 - val_loss: 0.2159 - val_acc: 0.9116\n",
      "Epoch 6/30\n",
      "1200/1200 [==============================] - 3s 3ms/step - loss: 0.1932 - acc: 0.9243 - val_loss: 0.2195 - val_acc: 0.9163\n",
      "Epoch 7/30\n",
      "1200/1200 [==============================] - 3s 3ms/step - loss: 0.1810 - acc: 0.9326 - val_loss: 0.1594 - val_acc: 0.9374\n",
      "Epoch 8/30\n",
      "1200/1200 [==============================] - 3s 3ms/step - loss: 0.1883 - acc: 0.9278 - val_loss: 0.1943 - val_acc: 0.9220\n",
      "Epoch 9/30\n",
      "1200/1200 [==============================] - 3s 3ms/step - loss: 0.1673 - acc: 0.9370 - val_loss: 0.1382 - val_acc: 0.9451\n",
      "Epoch 10/30\n",
      "1200/1200 [==============================] - 3s 3ms/step - loss: 0.1670 - acc: 0.9345 - val_loss: 0.1632 - val_acc: 0.9402\n",
      "Epoch 11/30\n",
      "1200/1200 [==============================] - 3s 3ms/step - loss: 0.1599 - acc: 0.9361 - val_loss: 0.1305 - val_acc: 0.9503\n",
      "Epoch 12/30\n",
      "1200/1200 [==============================] - 3s 3ms/step - loss: 0.1479 - acc: 0.9433 - val_loss: 0.1144 - val_acc: 0.9549\n",
      "Epoch 13/30\n",
      "1200/1200 [==============================] - 3s 3ms/step - loss: 0.1437 - acc: 0.9436 - val_loss: 0.1091 - val_acc: 0.9565\n",
      "Epoch 14/30\n",
      "1200/1200 [==============================] - 3s 3ms/step - loss: 0.1368 - acc: 0.9471 - val_loss: 0.1398 - val_acc: 0.9469\n",
      "Epoch 15/30\n",
      "1200/1200 [==============================] - 3s 3ms/step - loss: 0.1322 - acc: 0.9495 - val_loss: 0.1257 - val_acc: 0.9516\n",
      "Epoch 16/30\n",
      "1200/1200 [==============================] - 3s 3ms/step - loss: 0.1267 - acc: 0.9519 - val_loss: 0.1310 - val_acc: 0.9495\n",
      "Epoch 17/30\n",
      "1200/1200 [==============================] - 3s 3ms/step - loss: 0.1281 - acc: 0.9517 - val_loss: 0.1578 - val_acc: 0.9383\n",
      "Epoch 18/30\n",
      "1200/1200 [==============================] - 3s 3ms/step - loss: 0.1193 - acc: 0.9554 - val_loss: 0.1000 - val_acc: 0.9641\n",
      "Epoch 19/30\n",
      "1200/1200 [==============================] - 3s 3ms/step - loss: 0.1191 - acc: 0.9532 - val_loss: 0.0986 - val_acc: 0.9628\n",
      "Epoch 20/30\n",
      "1200/1200 [==============================] - 3s 3ms/step - loss: 0.1152 - acc: 0.9562 - val_loss: 0.0872 - val_acc: 0.9654\n",
      "Epoch 21/30\n",
      "1200/1200 [==============================] - 3s 3ms/step - loss: 0.1027 - acc: 0.9597 - val_loss: 0.0922 - val_acc: 0.9646\n",
      "Epoch 22/30\n",
      "1200/1200 [==============================] - 3s 3ms/step - loss: 0.1087 - acc: 0.9576 - val_loss: 0.0787 - val_acc: 0.9737\n",
      "Epoch 23/30\n",
      "1200/1200 [==============================] - 3s 3ms/step - loss: 0.1002 - acc: 0.9613 - val_loss: 0.0717 - val_acc: 0.9728\n",
      "Epoch 24/30\n",
      "1200/1200 [==============================] - 3s 3ms/step - loss: 0.0957 - acc: 0.9643 - val_loss: 0.0991 - val_acc: 0.9622\n",
      "Epoch 25/30\n",
      "1200/1200 [==============================] - 3s 3ms/step - loss: 0.1012 - acc: 0.9617 - val_loss: 0.1151 - val_acc: 0.9581\n",
      "Epoch 26/30\n",
      "1200/1200 [==============================] - 3s 3ms/step - loss: 0.0929 - acc: 0.9635 - val_loss: 0.0971 - val_acc: 0.9604\n",
      "Epoch 27/30\n",
      "1200/1200 [==============================] - 3s 3ms/step - loss: 0.0857 - acc: 0.9668 - val_loss: 0.0874 - val_acc: 0.9668\n",
      "Epoch 28/30\n",
      "1200/1200 [==============================] - 3s 3ms/step - loss: 0.0895 - acc: 0.9665 - val_loss: 0.0838 - val_acc: 0.9688\n",
      "Epoch 29/30\n",
      "1200/1200 [==============================] - 3s 3ms/step - loss: 0.0834 - acc: 0.9687 - val_loss: 0.0717 - val_acc: 0.9751\n",
      "Epoch 30/30\n",
      "1200/1200 [==============================] - 3s 3ms/step - loss: 0.0817 - acc: 0.9686 - val_loss: 0.0727 - val_acc: 0.9749\n"
     ]
    }
   ],
   "source": [
    "model_base2=models.Sequential()\n",
    "model_base2.add( layers.Conv2D(32,(5,5),activation='relu',input_shape=(28,28,3)))\n",
    "model_base2.add(layers.MaxPool2D((2,2)))\n",
    "model_base2.add(layers.Conv2D(64,(2,2),activation='relu',padding='same'))\n",
    "model_base2.add(layers.MaxPooling2D((2, 2)))\n",
    "model_base2.add(layers.Conv2D(128,(2,2),activation='relu',padding='same'))\n",
    "model_base2.add(layers.MaxPooling2D((2, 2)))\n",
    "model_base2.add(layers.Dropout(0.25))\n",
    "model_base2.add(layers.Flatten())\n",
    "\n",
    "model_base2.add(layers.Dense(128, activation='relu'))\n",
    "model_base2.add(layers.Dense(64, activation='relu'))\n",
    "model_base2.add( layers.Dense(4, activation='softmax'))\n",
    "model_base2.summary()\n",
    "model_base2.compile(optimizer='adam', loss = 'categorical_crossentropy', metrics=['acc'])\n",
    "history_base_2 = model_base2.fit(x_train, y_train, epochs=30, validation_data=(x_val, y_val))"
   ]
  },
  {
   "cell_type": "code",
   "execution_count": 55,
   "id": "29504522",
   "metadata": {},
   "outputs": [],
   "source": [
    "model_res.save('./voting/voting_model_res.h5')\n",
    "model_vgg.save('./voting/voting_model_vgg.h5')\n",
    "model_base.save('./voting/voting_model_base.h5')\n",
    "model_res2.save('./voting/voting_model_res2.h5')\n",
    "model_vgg2.save('./voting/voting_model_vgg2.h5')\n",
    "model_base2.save('./voting/voting_model_base2.h5')"
   ]
  }
 ],
 "metadata": {
  "kernelspec": {
   "display_name": "Python 3 (ipykernel)",
   "language": "python",
   "name": "python3"
  },
  "language_info": {
   "codemirror_mode": {
    "name": "ipython",
    "version": 3
   },
   "file_extension": ".py",
   "mimetype": "text/x-python",
   "name": "python",
   "nbconvert_exporter": "python",
   "pygments_lexer": "ipython3",
   "version": "3.8.13"
  }
 },
 "nbformat": 4,
 "nbformat_minor": 5
}
